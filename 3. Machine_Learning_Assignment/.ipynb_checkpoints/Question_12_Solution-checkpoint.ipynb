{
 "cells": [
  {
   "cell_type": "markdown",
   "id": "0c8c1a51",
   "metadata": {},
   "source": [
    "## Question_12_Solution:"
   ]
  },
  {
   "cell_type": "markdown",
   "id": "4207605f",
   "metadata": {},
   "source": [
    "**Q-2.** A chemist had two chemical flasks labeled 0 and 1 which consist of two\n",
    "different chemicals. He extracted 3 features from these chemicals in order to\n",
    "distinguish between them, you provided the results derived by the chemicals and\n",
    "your task is to create a model that will label chemical 0 or 1 given its three features\n",
    "and built-in docker and use some library to display that in frontend.\n",
    "Note : Use only pyspark"
   ]
  },
  {
   "cell_type": "code",
   "execution_count": null,
   "id": "3c484d79",
   "metadata": {},
   "outputs": [],
   "source": []
  }
 ],
 "metadata": {
  "kernelspec": {
   "display_name": "Python 3 (ipykernel)",
   "language": "python",
   "name": "python3"
  },
  "language_info": {
   "codemirror_mode": {
    "name": "ipython",
    "version": 3
   },
   "file_extension": ".py",
   "mimetype": "text/x-python",
   "name": "python",
   "nbconvert_exporter": "python",
   "pygments_lexer": "ipython3",
   "version": "3.9.16"
  }
 },
 "nbformat": 4,
 "nbformat_minor": 5
}
