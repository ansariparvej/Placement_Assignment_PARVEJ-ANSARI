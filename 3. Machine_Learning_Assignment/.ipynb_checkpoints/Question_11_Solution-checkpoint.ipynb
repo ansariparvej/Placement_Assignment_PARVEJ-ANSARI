{
 "cells": [
  {
   "cell_type": "markdown",
   "id": "3ba99e86",
   "metadata": {},
   "source": [
    "# Advance QUESTIONS :"
   ]
  },
  {
   "cell_type": "markdown",
   "id": "0c8c1a51",
   "metadata": {},
   "source": [
    "## Question_11_Solution:"
   ]
  },
  {
   "cell_type": "markdown",
   "id": "a13f754b",
   "metadata": {},
   "source": [
    "**Q-1.** A Social Media Influencer collected data on Facebook friend requests and used\n",
    "a supervised algorithm to predict whether a user would accept a friend request or\n",
    "not. Dataset This is the Dataset You can use this dataset for this question. Note : Use\n",
    "only Dask and Use MLflow"
   ]
  },
  {
   "cell_type": "code",
   "execution_count": null,
   "id": "3c484d79",
   "metadata": {},
   "outputs": [],
   "source": []
  }
 ],
 "metadata": {
  "kernelspec": {
   "display_name": "Python 3 (ipykernel)",
   "language": "python",
   "name": "python3"
  },
  "language_info": {
   "codemirror_mode": {
    "name": "ipython",
    "version": 3
   },
   "file_extension": ".py",
   "mimetype": "text/x-python",
   "name": "python",
   "nbconvert_exporter": "python",
   "pygments_lexer": "ipython3",
   "version": "3.9.16"
  }
 },
 "nbformat": 4,
 "nbformat_minor": 5
}
