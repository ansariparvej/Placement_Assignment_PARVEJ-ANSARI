{
 "cells": [
  {
   "cell_type": "markdown",
   "id": "0c8c1a51",
   "metadata": {},
   "source": [
    "## Question_5_Solution:"
   ]
  },
  {
   "cell_type": "markdown",
   "id": "9b3817d7",
   "metadata": {},
   "source": [
    "**Q-5.** Uber is a taxi service provider as we know, we need to predict the high\n",
    "booking area using an Unsupervised algorithm and price for the location using a\n",
    "supervised algorithm and use some map function to display the data\n",
    "Dataset This is the Dataset You can use this dataset for this question."
   ]
  },
  {
   "cell_type": "code",
   "execution_count": null,
   "id": "3c484d79",
   "metadata": {},
   "outputs": [],
   "source": [
    "# Uber and Lyft Dataset Boston, MA:\n",
    "\n"
   ]
  }
 ],
 "metadata": {
  "kernelspec": {
   "display_name": "Python 3 (ipykernel)",
   "language": "python",
   "name": "python3"
  },
  "language_info": {
   "codemirror_mode": {
    "name": "ipython",
    "version": 3
   },
   "file_extension": ".py",
   "mimetype": "text/x-python",
   "name": "python",
   "nbconvert_exporter": "python",
   "pygments_lexer": "ipython3",
   "version": "3.9.16"
  }
 },
 "nbformat": 4,
 "nbformat_minor": 5
}
