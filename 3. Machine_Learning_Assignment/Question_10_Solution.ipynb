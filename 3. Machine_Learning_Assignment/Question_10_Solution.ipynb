{
 "cells": [
  {
   "cell_type": "markdown",
   "id": "0c8c1a51",
   "metadata": {},
   "source": [
    "## Question_10_Solution:"
   ]
  },
  {
   "cell_type": "markdown",
   "id": "ee5cefe2",
   "metadata": {},
   "source": [
    "**Q-10** An Ad- Agency analyzed a dataset of online ads and used a machine learning\n",
    "model to predict whether a user would click on an ad or not.\n",
    "Dataset This is the Dataset You can use this dataset for this question."
   ]
  },
  {
   "cell_type": "code",
   "execution_count": 10,
   "id": "d9bbcf26",
   "metadata": {},
   "outputs": [
    {
     "name": "stdout",
     "output_type": "stream",
     "text": [
      "Collecting category_encoders\n",
      "  Downloading category_encoders-2.6.1-py2.py3-none-any.whl (81 kB)\n",
      "\u001b[2K     \u001b[38;2;114;156;31m━━━━━━━━━━━━━━━━━━━━━━━━━━━━━━━━━━━━━━━\u001b[0m \u001b[32m81.9/81.9 kB\u001b[0m \u001b[31m167.3 kB/s\u001b[0m eta \u001b[36m0:00:00\u001b[0mm eta \u001b[36m0:00:01\u001b[0m0:01\u001b[0m:01\u001b[0m\n",
      "\u001b[?25hRequirement already satisfied: patsy>=0.5.1 in /home/ali/anaconda3/lib/python3.9/site-packages (from category_encoders) (0.5.3)\n",
      "Requirement already satisfied: numpy>=1.14.0 in /home/ali/anaconda3/lib/python3.9/site-packages (from category_encoders) (1.23.5)\n",
      "Requirement already satisfied: scipy>=1.0.0 in /home/ali/anaconda3/lib/python3.9/site-packages (from category_encoders) (1.10.1)\n",
      "Requirement already satisfied: statsmodels>=0.9.0 in /home/ali/anaconda3/lib/python3.9/site-packages (from category_encoders) (0.13.5)\n",
      "Requirement already satisfied: scikit-learn>=0.20.0 in /home/ali/anaconda3/lib/python3.9/site-packages (from category_encoders) (1.2.2)\n",
      "Requirement already satisfied: pandas>=1.0.5 in /home/ali/anaconda3/lib/python3.9/site-packages (from category_encoders) (2.0.1)\n",
      "Requirement already satisfied: tzdata>=2022.1 in /home/ali/anaconda3/lib/python3.9/site-packages (from pandas>=1.0.5->category_encoders) (2022.4)\n",
      "Requirement already satisfied: pytz>=2020.1 in /home/ali/anaconda3/lib/python3.9/site-packages (from pandas>=1.0.5->category_encoders) (2022.7)\n",
      "Requirement already satisfied: python-dateutil>=2.8.2 in /home/ali/anaconda3/lib/python3.9/site-packages (from pandas>=1.0.5->category_encoders) (2.8.2)\n",
      "Requirement already satisfied: six in /home/ali/anaconda3/lib/python3.9/site-packages (from patsy>=0.5.1->category_encoders) (1.16.0)\n",
      "Requirement already satisfied: threadpoolctl>=2.0.0 in /home/ali/anaconda3/lib/python3.9/site-packages (from scikit-learn>=0.20.0->category_encoders) (2.2.0)\n",
      "Requirement already satisfied: joblib>=1.1.1 in /home/ali/anaconda3/lib/python3.9/site-packages (from scikit-learn>=0.20.0->category_encoders) (1.1.1)\n",
      "Requirement already satisfied: packaging>=21.3 in /home/ali/anaconda3/lib/python3.9/site-packages (from statsmodels>=0.9.0->category_encoders) (23.0)\n",
      "Installing collected packages: category_encoders\n",
      "Successfully installed category_encoders-2.6.1\n"
     ]
    }
   ],
   "source": [
    "!pip install category_encoders"
   ]
  },
  {
   "cell_type": "code",
   "execution_count": 11,
   "id": "adfcdf4f",
   "metadata": {},
   "outputs": [],
   "source": [
    "import pandas as pd\n",
    "import numpy as np\n",
    "import seaborn as sns\n",
    "import matplotlib.pyplot as plt\n",
    "import warnings\n",
    "warnings.filterwarnings('ignore')\n",
    "sns.set_theme(style=\"darkgrid\")\n",
    "pd.set_option('display.max_columns', 0)\n",
    "plt.style.use('ggplot')\n",
    "pd.options.display.float_format = '{:.2f}'.format\n",
    "import math\n",
    "from sklearn.preprocessing import LabelEncoder \n",
    "from sklearn.model_selection import train_test_split\n",
    "from sklearn import metrics\n",
    "from sklearn.linear_model import LogisticRegression\n",
    "from sklearn.preprocessing import MinMaxScaler\n",
    "from sklearn.dummy import DummyClassifier\n",
    "from sklearn.model_selection import cross_val_score\n",
    "from imblearn.over_sampling import RandomOverSampler\n",
    "from sklearn.tree import DecisionTreeClassifier\n",
    "from IPython.display import Image  \n",
    "from six import StringIO\n",
    "from sklearn.tree import export_graphviz\n",
    "from sklearn.ensemble import RandomForestClassifier\n",
    "import statsmodels.api as sm\n",
    "from statsmodels.stats.outliers_influence import variance_inflation_factor\n",
    "from sklearn.feature_selection import RFE\n",
    "from sklearn.model_selection import GridSearchCV\n",
    "import random\n",
    "import gzip\n",
    "import category_encoders as ce\n",
    "pd.options.display.float_format = '{:.2f}'.format\n"
   ]
  },
  {
   "cell_type": "code",
   "execution_count": 5,
   "id": "3c484d79",
   "metadata": {},
   "outputs": [
    {
     "data": {
      "text/html": [
       "<div>\n",
       "<style scoped>\n",
       "    .dataframe tbody tr th:only-of-type {\n",
       "        vertical-align: middle;\n",
       "    }\n",
       "\n",
       "    .dataframe tbody tr th {\n",
       "        vertical-align: top;\n",
       "    }\n",
       "\n",
       "    .dataframe thead th {\n",
       "        text-align: right;\n",
       "    }\n",
       "</style>\n",
       "<table border=\"1\" class=\"dataframe\">\n",
       "  <thead>\n",
       "    <tr style=\"text-align: right;\">\n",
       "      <th></th>\n",
       "      <th>id</th>\n",
       "      <th>click</th>\n",
       "      <th>hour</th>\n",
       "      <th>C1</th>\n",
       "      <th>banner_pos</th>\n",
       "      <th>site_id</th>\n",
       "      <th>site_domain</th>\n",
       "      <th>site_category</th>\n",
       "      <th>app_id</th>\n",
       "      <th>app_domain</th>\n",
       "      <th>...</th>\n",
       "      <th>device_type</th>\n",
       "      <th>device_conn_type</th>\n",
       "      <th>C14</th>\n",
       "      <th>C15</th>\n",
       "      <th>C16</th>\n",
       "      <th>C17</th>\n",
       "      <th>C18</th>\n",
       "      <th>C19</th>\n",
       "      <th>C20</th>\n",
       "      <th>C21</th>\n",
       "    </tr>\n",
       "  </thead>\n",
       "  <tbody>\n",
       "    <tr>\n",
       "      <th>0</th>\n",
       "      <td>10075494752753487847</td>\n",
       "      <td>0</td>\n",
       "      <td>14102100</td>\n",
       "      <td>1005</td>\n",
       "      <td>0</td>\n",
       "      <td>85f751fd</td>\n",
       "      <td>c4e18dd6</td>\n",
       "      <td>50e219e0</td>\n",
       "      <td>0acbeaa3</td>\n",
       "      <td>45a51db4</td>\n",
       "      <td>...</td>\n",
       "      <td>1</td>\n",
       "      <td>0</td>\n",
       "      <td>18993</td>\n",
       "      <td>320</td>\n",
       "      <td>50</td>\n",
       "      <td>2161</td>\n",
       "      <td>0</td>\n",
       "      <td>35</td>\n",
       "      <td>100048</td>\n",
       "      <td>157</td>\n",
       "    </tr>\n",
       "    <tr>\n",
       "      <th>1</th>\n",
       "      <td>10104381554256712619</td>\n",
       "      <td>0</td>\n",
       "      <td>14102100</td>\n",
       "      <td>1005</td>\n",
       "      <td>0</td>\n",
       "      <td>1fbe01fe</td>\n",
       "      <td>f3845767</td>\n",
       "      <td>28905ebd</td>\n",
       "      <td>ecad2386</td>\n",
       "      <td>7801e8d9</td>\n",
       "      <td>...</td>\n",
       "      <td>1</td>\n",
       "      <td>0</td>\n",
       "      <td>15702</td>\n",
       "      <td>320</td>\n",
       "      <td>50</td>\n",
       "      <td>1722</td>\n",
       "      <td>0</td>\n",
       "      <td>35</td>\n",
       "      <td>-1</td>\n",
       "      <td>79</td>\n",
       "    </tr>\n",
       "  </tbody>\n",
       "</table>\n",
       "<p>2 rows × 24 columns</p>\n",
       "</div>"
      ],
      "text/plain": [
       "                     id  click      hour    C1  banner_pos   site_id   \n",
       "0  10075494752753487847      0  14102100  1005           0  85f751fd  \\\n",
       "1  10104381554256712619      0  14102100  1005           0  1fbe01fe   \n",
       "\n",
       "  site_domain site_category    app_id app_domain  ... device_type   \n",
       "0    c4e18dd6      50e219e0  0acbeaa3   45a51db4  ...           1  \\\n",
       "1    f3845767      28905ebd  ecad2386   7801e8d9  ...           1   \n",
       "\n",
       "  device_conn_type    C14  C15  C16   C17  C18  C19     C20  C21  \n",
       "0                0  18993  320   50  2161    0   35  100048  157  \n",
       "1                0  15702  320   50  1722    0   35      -1   79  \n",
       "\n",
       "[2 rows x 24 columns]"
      ]
     },
     "execution_count": 5,
     "metadata": {},
     "output_type": "execute_result"
    }
   ],
   "source": [
    "# Click-Through Rate Prediction:\n",
    "df = pd.read_csv('useful/Q10.csv')\n",
    "df.head(2)"
   ]
  },
  {
   "cell_type": "code",
   "execution_count": 6,
   "id": "862f4e3c",
   "metadata": {},
   "outputs": [
    {
     "data": {
      "text/plain": [
       "(20000, 24)"
      ]
     },
     "execution_count": 6,
     "metadata": {},
     "output_type": "execute_result"
    }
   ],
   "source": [
    "df.shape"
   ]
  },
  {
   "cell_type": "code",
   "execution_count": 7,
   "id": "e8d8ab04",
   "metadata": {},
   "outputs": [
    {
     "name": "stdout",
     "output_type": "stream",
     "text": [
      "<class 'pandas.core.frame.DataFrame'>\n",
      "RangeIndex: 20000 entries, 0 to 19999\n",
      "Data columns (total 24 columns):\n",
      " #   Column            Non-Null Count  Dtype \n",
      "---  ------            --------------  ----- \n",
      " 0   id                20000 non-null  uint64\n",
      " 1   click             20000 non-null  int64 \n",
      " 2   hour              20000 non-null  int64 \n",
      " 3   C1                20000 non-null  int64 \n",
      " 4   banner_pos        20000 non-null  int64 \n",
      " 5   site_id           20000 non-null  object\n",
      " 6   site_domain       20000 non-null  object\n",
      " 7   site_category     20000 non-null  object\n",
      " 8   app_id            20000 non-null  object\n",
      " 9   app_domain        20000 non-null  object\n",
      " 10  app_category      20000 non-null  object\n",
      " 11  device_id         20000 non-null  object\n",
      " 12  device_ip         20000 non-null  object\n",
      " 13  device_model      20000 non-null  object\n",
      " 14  device_type       20000 non-null  int64 \n",
      " 15  device_conn_type  20000 non-null  int64 \n",
      " 16  C14               20000 non-null  int64 \n",
      " 17  C15               20000 non-null  int64 \n",
      " 18  C16               20000 non-null  int64 \n",
      " 19  C17               20000 non-null  int64 \n",
      " 20  C18               20000 non-null  int64 \n",
      " 21  C19               20000 non-null  int64 \n",
      " 22  C20               20000 non-null  int64 \n",
      " 23  C21               20000 non-null  int64 \n",
      "dtypes: int64(14), object(9), uint64(1)\n",
      "memory usage: 3.7+ MB\n"
     ]
    }
   ],
   "source": [
    "df.info()"
   ]
  },
  {
   "cell_type": "code",
   "execution_count": 8,
   "id": "45811ef6",
   "metadata": {},
   "outputs": [
    {
     "data": {
      "text/plain": [
       "Index(['id', 'click', 'hour', 'C1', 'banner_pos', 'site_id', 'site_domain',\n",
       "       'site_category', 'app_id', 'app_domain', 'app_category', 'device_id',\n",
       "       'device_ip', 'device_model', 'device_type', 'device_conn_type', 'C14',\n",
       "       'C15', 'C16', 'C17', 'C18', 'C19', 'C20', 'C21'],\n",
       "      dtype='object')"
      ]
     },
     "execution_count": 8,
     "metadata": {},
     "output_type": "execute_result"
    }
   ],
   "source": [
    "df.columns"
   ]
  },
  {
   "cell_type": "code",
   "execution_count": 14,
   "id": "aa275189",
   "metadata": {},
   "outputs": [
    {
     "data": {
      "text/html": [
       "<div>\n",
       "<style scoped>\n",
       "    .dataframe tbody tr th:only-of-type {\n",
       "        vertical-align: middle;\n",
       "    }\n",
       "\n",
       "    .dataframe tbody tr th {\n",
       "        vertical-align: top;\n",
       "    }\n",
       "\n",
       "    .dataframe thead th {\n",
       "        text-align: right;\n",
       "    }\n",
       "</style>\n",
       "<table border=\"1\" class=\"dataframe\">\n",
       "  <thead>\n",
       "    <tr style=\"text-align: right;\">\n",
       "      <th></th>\n",
       "      <th>id</th>\n",
       "      <th>click</th>\n",
       "      <th>hour</th>\n",
       "      <th>C1</th>\n",
       "      <th>banner_pos</th>\n",
       "      <th>site_id</th>\n",
       "      <th>site_domain</th>\n",
       "      <th>site_category</th>\n",
       "      <th>app_id</th>\n",
       "      <th>app_domain</th>\n",
       "      <th>app_category</th>\n",
       "      <th>device_id</th>\n",
       "      <th>device_ip</th>\n",
       "      <th>device_model</th>\n",
       "      <th>device_type</th>\n",
       "      <th>device_conn_type</th>\n",
       "      <th>C14</th>\n",
       "      <th>C15</th>\n",
       "      <th>C16</th>\n",
       "      <th>C17</th>\n",
       "      <th>C18</th>\n",
       "      <th>C19</th>\n",
       "      <th>C20</th>\n",
       "      <th>C21</th>\n",
       "      <th>month</th>\n",
       "      <th>dayofweek</th>\n",
       "      <th>day</th>\n",
       "      <th>hour_time</th>\n",
       "    </tr>\n",
       "  </thead>\n",
       "  <tbody>\n",
       "    <tr>\n",
       "      <th>0</th>\n",
       "      <td>10075494752753487847</td>\n",
       "      <td>0</td>\n",
       "      <td>1970-01-01 00:00:00.014102100</td>\n",
       "      <td>1005</td>\n",
       "      <td>0</td>\n",
       "      <td>85f751fd</td>\n",
       "      <td>c4e18dd6</td>\n",
       "      <td>50e219e0</td>\n",
       "      <td>0acbeaa3</td>\n",
       "      <td>45a51db4</td>\n",
       "      <td>f95efa07</td>\n",
       "      <td>a99f214a</td>\n",
       "      <td>eee08cba</td>\n",
       "      <td>89416188</td>\n",
       "      <td>1</td>\n",
       "      <td>0</td>\n",
       "      <td>18993</td>\n",
       "      <td>320</td>\n",
       "      <td>50</td>\n",
       "      <td>2161</td>\n",
       "      <td>0</td>\n",
       "      <td>35</td>\n",
       "      <td>100048</td>\n",
       "      <td>157</td>\n",
       "      <td>1</td>\n",
       "      <td>3</td>\n",
       "      <td>1</td>\n",
       "      <td>0</td>\n",
       "    </tr>\n",
       "    <tr>\n",
       "      <th>1</th>\n",
       "      <td>10104381554256712619</td>\n",
       "      <td>0</td>\n",
       "      <td>1970-01-01 00:00:00.014102100</td>\n",
       "      <td>1005</td>\n",
       "      <td>0</td>\n",
       "      <td>1fbe01fe</td>\n",
       "      <td>f3845767</td>\n",
       "      <td>28905ebd</td>\n",
       "      <td>ecad2386</td>\n",
       "      <td>7801e8d9</td>\n",
       "      <td>07d7df22</td>\n",
       "      <td>a99f214a</td>\n",
       "      <td>433bff52</td>\n",
       "      <td>d17a0181</td>\n",
       "      <td>1</td>\n",
       "      <td>0</td>\n",
       "      <td>15702</td>\n",
       "      <td>320</td>\n",
       "      <td>50</td>\n",
       "      <td>1722</td>\n",
       "      <td>0</td>\n",
       "      <td>35</td>\n",
       "      <td>-1</td>\n",
       "      <td>79</td>\n",
       "      <td>1</td>\n",
       "      <td>3</td>\n",
       "      <td>1</td>\n",
       "      <td>0</td>\n",
       "    </tr>\n",
       "  </tbody>\n",
       "</table>\n",
       "</div>"
      ],
      "text/plain": [
       "                     id  click  ... day  hour_time\n",
       "0  10075494752753487847      0  ...   1          0\n",
       "1  10104381554256712619      0  ...   1          0\n",
       "\n",
       "[2 rows x 28 columns]"
      ]
     },
     "execution_count": 14,
     "metadata": {},
     "output_type": "execute_result"
    }
   ],
   "source": [
    "# hour column contains event date with all the details, extracting the same to create different columns.\n",
    "\n",
    "df['hour'] = pd.to_datetime(df['hour'])\n",
    "df['month'] = df['hour'].dt.month\n",
    "df['dayofweek'] = df['hour'].dt.dayofweek\n",
    "df['day'] = df['hour'].dt.day\n",
    "df['hour_time'] = df['hour'].dt.hour\n",
    "df.head(2)"
   ]
  },
  {
   "cell_type": "code",
   "execution_count": 16,
   "id": "5ad9c7ba",
   "metadata": {},
   "outputs": [
    {
     "data": {
      "text/plain": [
       "0"
      ]
     },
     "execution_count": 16,
     "metadata": {},
     "output_type": "execute_result"
    }
   ],
   "source": [
    "# checking the sum of the null values across all cloumns and rows.\n",
    "\n",
    "df['hour'].isnull().sum().sum()"
   ]
  },
  {
   "cell_type": "code",
   "execution_count": 17,
   "id": "8ca291ef",
   "metadata": {},
   "outputs": [
    {
     "name": "stdout",
     "output_type": "stream",
     "text": [
      "<class 'pandas.core.frame.DataFrame'>\n",
      "RangeIndex: 20000 entries, 0 to 19999\n",
      "Data columns (total 28 columns):\n",
      " #   Column            Non-Null Count  Dtype         \n",
      "---  ------            --------------  -----         \n",
      " 0   id                20000 non-null  uint64        \n",
      " 1   click             20000 non-null  int64         \n",
      " 2   hour              20000 non-null  datetime64[ns]\n",
      " 3   C1                20000 non-null  int64         \n",
      " 4   banner_pos        20000 non-null  int64         \n",
      " 5   site_id           20000 non-null  object        \n",
      " 6   site_domain       20000 non-null  object        \n",
      " 7   site_category     20000 non-null  object        \n",
      " 8   app_id            20000 non-null  object        \n",
      " 9   app_domain        20000 non-null  object        \n",
      " 10  app_category      20000 non-null  object        \n",
      " 11  device_id         20000 non-null  object        \n",
      " 12  device_ip         20000 non-null  object        \n",
      " 13  device_model      20000 non-null  object        \n",
      " 14  device_type       20000 non-null  int64         \n",
      " 15  device_conn_type  20000 non-null  int64         \n",
      " 16  C14               20000 non-null  int64         \n",
      " 17  C15               20000 non-null  int64         \n",
      " 18  C16               20000 non-null  int64         \n",
      " 19  C17               20000 non-null  int64         \n",
      " 20  C18               20000 non-null  int64         \n",
      " 21  C19               20000 non-null  int64         \n",
      " 22  C20               20000 non-null  int64         \n",
      " 23  C21               20000 non-null  int64         \n",
      " 24  month             20000 non-null  int32         \n",
      " 25  dayofweek         20000 non-null  int32         \n",
      " 26  day               20000 non-null  int32         \n",
      " 27  hour_time         20000 non-null  int32         \n",
      "dtypes: datetime64[ns](1), int32(4), int64(13), object(9), uint64(1)\n",
      "memory usage: 4.0+ MB\n"
     ]
    }
   ],
   "source": [
    "# info on each column of training dataset.\n",
    "\n",
    "df.info()"
   ]
  },
  {
   "cell_type": "code",
   "execution_count": 18,
   "id": "ae68563b",
   "metadata": {},
   "outputs": [
    {
     "data": {
      "text/plain": [
       "id                  0\n",
       "click               0\n",
       "hour                0\n",
       "C1                  0\n",
       "banner_pos          0\n",
       "site_id             0\n",
       "site_domain         0\n",
       "site_category       0\n",
       "app_id              0\n",
       "app_domain          0\n",
       "app_category        0\n",
       "device_id           0\n",
       "device_ip           0\n",
       "device_model        0\n",
       "device_type         0\n",
       "device_conn_type    0\n",
       "C14                 0\n",
       "C15                 0\n",
       "C16                 0\n",
       "C17                 0\n",
       "C18                 0\n",
       "C19                 0\n",
       "C20                 0\n",
       "C21                 0\n",
       "month               0\n",
       "dayofweek           0\n",
       "day                 0\n",
       "hour_time           0\n",
       "dtype: int64"
      ]
     },
     "execution_count": 18,
     "metadata": {},
     "output_type": "execute_result"
    }
   ],
   "source": [
    "# No null values found in the dataset.\n",
    "\n",
    "df.isnull().sum()"
   ]
  },
  {
   "cell_type": "code",
   "execution_count": 19,
   "id": "73e09c2c",
   "metadata": {},
   "outputs": [
    {
     "data": {
      "text/html": [
       "<div>\n",
       "<style scoped>\n",
       "    .dataframe tbody tr th:only-of-type {\n",
       "        vertical-align: middle;\n",
       "    }\n",
       "\n",
       "    .dataframe tbody tr th {\n",
       "        vertical-align: top;\n",
       "    }\n",
       "\n",
       "    .dataframe thead th {\n",
       "        text-align: right;\n",
       "    }\n",
       "</style>\n",
       "<table border=\"1\" class=\"dataframe\">\n",
       "  <thead>\n",
       "    <tr style=\"text-align: right;\">\n",
       "      <th></th>\n",
       "      <th>id</th>\n",
       "      <th>click</th>\n",
       "      <th>hour</th>\n",
       "      <th>C1</th>\n",
       "      <th>banner_pos</th>\n",
       "      <th>device_type</th>\n",
       "      <th>device_conn_type</th>\n",
       "      <th>C14</th>\n",
       "      <th>C15</th>\n",
       "      <th>C16</th>\n",
       "      <th>C17</th>\n",
       "      <th>C18</th>\n",
       "      <th>C19</th>\n",
       "      <th>C20</th>\n",
       "      <th>C21</th>\n",
       "      <th>month</th>\n",
       "      <th>dayofweek</th>\n",
       "      <th>day</th>\n",
       "      <th>hour_time</th>\n",
       "    </tr>\n",
       "  </thead>\n",
       "  <tbody>\n",
       "    <tr>\n",
       "      <th>count</th>\n",
       "      <td>20000.00</td>\n",
       "      <td>20000.00</td>\n",
       "      <td>20000</td>\n",
       "      <td>20000.00</td>\n",
       "      <td>20000.00</td>\n",
       "      <td>20000.00</td>\n",
       "      <td>20000.00</td>\n",
       "      <td>20000.00</td>\n",
       "      <td>20000.00</td>\n",
       "      <td>20000.00</td>\n",
       "      <td>20000.00</td>\n",
       "      <td>20000.00</td>\n",
       "      <td>20000.00</td>\n",
       "      <td>20000.00</td>\n",
       "      <td>20000.00</td>\n",
       "      <td>20000.00</td>\n",
       "      <td>20000.00</td>\n",
       "      <td>20000.00</td>\n",
       "      <td>20000.00</td>\n",
       "    </tr>\n",
       "    <tr>\n",
       "      <th>mean</th>\n",
       "      <td>10399751658321162240.00</td>\n",
       "      <td>0.17</td>\n",
       "      <td>1970-01-01 00:00:00.014102100</td>\n",
       "      <td>1005.05</td>\n",
       "      <td>0.20</td>\n",
       "      <td>1.06</td>\n",
       "      <td>0.20</td>\n",
       "      <td>17721.32</td>\n",
       "      <td>318.35</td>\n",
       "      <td>56.99</td>\n",
       "      <td>1969.18</td>\n",
       "      <td>0.79</td>\n",
       "      <td>130.21</td>\n",
       "      <td>38081.48</td>\n",
       "      <td>88.36</td>\n",
       "      <td>1.00</td>\n",
       "      <td>3.00</td>\n",
       "      <td>1.00</td>\n",
       "      <td>0.00</td>\n",
       "    </tr>\n",
       "    <tr>\n",
       "      <th>min</th>\n",
       "      <td>1175770906635967.00</td>\n",
       "      <td>0.00</td>\n",
       "      <td>1970-01-01 00:00:00.014102100</td>\n",
       "      <td>1001.00</td>\n",
       "      <td>0.00</td>\n",
       "      <td>0.00</td>\n",
       "      <td>0.00</td>\n",
       "      <td>375.00</td>\n",
       "      <td>216.00</td>\n",
       "      <td>36.00</td>\n",
       "      <td>112.00</td>\n",
       "      <td>0.00</td>\n",
       "      <td>33.00</td>\n",
       "      <td>-1.00</td>\n",
       "      <td>13.00</td>\n",
       "      <td>1.00</td>\n",
       "      <td>3.00</td>\n",
       "      <td>1.00</td>\n",
       "      <td>0.00</td>\n",
       "    </tr>\n",
       "    <tr>\n",
       "      <th>25%</th>\n",
       "      <td>10487313730136186880.00</td>\n",
       "      <td>0.00</td>\n",
       "      <td>1970-01-01 00:00:00.014102100</td>\n",
       "      <td>1005.00</td>\n",
       "      <td>0.00</td>\n",
       "      <td>1.00</td>\n",
       "      <td>0.00</td>\n",
       "      <td>15704.00</td>\n",
       "      <td>320.00</td>\n",
       "      <td>50.00</td>\n",
       "      <td>1722.00</td>\n",
       "      <td>0.00</td>\n",
       "      <td>35.00</td>\n",
       "      <td>-1.00</td>\n",
       "      <td>61.00</td>\n",
       "      <td>1.00</td>\n",
       "      <td>3.00</td>\n",
       "      <td>1.00</td>\n",
       "      <td>0.00</td>\n",
       "    </tr>\n",
       "    <tr>\n",
       "      <th>50%</th>\n",
       "      <td>11242698058924595200.00</td>\n",
       "      <td>0.00</td>\n",
       "      <td>1970-01-01 00:00:00.014102100</td>\n",
       "      <td>1005.00</td>\n",
       "      <td>0.00</td>\n",
       "      <td>1.00</td>\n",
       "      <td>0.00</td>\n",
       "      <td>17654.00</td>\n",
       "      <td>320.00</td>\n",
       "      <td>50.00</td>\n",
       "      <td>1993.00</td>\n",
       "      <td>0.00</td>\n",
       "      <td>35.00</td>\n",
       "      <td>-1.00</td>\n",
       "      <td>79.00</td>\n",
       "      <td>1.00</td>\n",
       "      <td>3.00</td>\n",
       "      <td>1.00</td>\n",
       "      <td>0.00</td>\n",
       "    </tr>\n",
       "    <tr>\n",
       "      <th>75%</th>\n",
       "      <td>11987884082089066496.00</td>\n",
       "      <td>0.00</td>\n",
       "      <td>1970-01-01 00:00:00.014102100</td>\n",
       "      <td>1005.00</td>\n",
       "      <td>0.00</td>\n",
       "      <td>1.00</td>\n",
       "      <td>0.00</td>\n",
       "      <td>20362.00</td>\n",
       "      <td>320.00</td>\n",
       "      <td>50.00</td>\n",
       "      <td>2307.00</td>\n",
       "      <td>2.00</td>\n",
       "      <td>39.00</td>\n",
       "      <td>100083.00</td>\n",
       "      <td>117.00</td>\n",
       "      <td>1.00</td>\n",
       "      <td>3.00</td>\n",
       "      <td>1.00</td>\n",
       "      <td>0.00</td>\n",
       "    </tr>\n",
       "    <tr>\n",
       "      <th>max</th>\n",
       "      <td>12761164181180454912.00</td>\n",
       "      <td>1.00</td>\n",
       "      <td>1970-01-01 00:00:00.014102100</td>\n",
       "      <td>1010.00</td>\n",
       "      <td>5.00</td>\n",
       "      <td>5.00</td>\n",
       "      <td>5.00</td>\n",
       "      <td>21705.00</td>\n",
       "      <td>728.00</td>\n",
       "      <td>480.00</td>\n",
       "      <td>2497.00</td>\n",
       "      <td>3.00</td>\n",
       "      <td>1835.00</td>\n",
       "      <td>100248.00</td>\n",
       "      <td>157.00</td>\n",
       "      <td>1.00</td>\n",
       "      <td>3.00</td>\n",
       "      <td>1.00</td>\n",
       "      <td>0.00</td>\n",
       "    </tr>\n",
       "    <tr>\n",
       "      <th>std</th>\n",
       "      <td>3126591016936709120.00</td>\n",
       "      <td>0.38</td>\n",
       "      <td>NaN</td>\n",
       "      <td>1.11</td>\n",
       "      <td>0.40</td>\n",
       "      <td>0.60</td>\n",
       "      <td>0.64</td>\n",
       "      <td>3168.51</td>\n",
       "      <td>11.04</td>\n",
       "      <td>37.52</td>\n",
       "      <td>387.40</td>\n",
       "      <td>1.23</td>\n",
       "      <td>240.72</td>\n",
       "      <td>48598.80</td>\n",
       "      <td>45.23</td>\n",
       "      <td>0.00</td>\n",
       "      <td>0.00</td>\n",
       "      <td>0.00</td>\n",
       "      <td>0.00</td>\n",
       "    </tr>\n",
       "  </tbody>\n",
       "</table>\n",
       "</div>"
      ],
      "text/plain": [
       "                           id    click  ...      day  hour_time\n",
       "count                20000.00 20000.00  ... 20000.00   20000.00\n",
       "mean  10399751658321162240.00     0.17  ...     1.00       0.00\n",
       "min       1175770906635967.00     0.00  ...     1.00       0.00\n",
       "25%   10487313730136186880.00     0.00  ...     1.00       0.00\n",
       "50%   11242698058924595200.00     0.00  ...     1.00       0.00\n",
       "75%   11987884082089066496.00     0.00  ...     1.00       0.00\n",
       "max   12761164181180454912.00     1.00  ...     1.00       0.00\n",
       "std    3126591016936709120.00     0.38  ...     0.00       0.00\n",
       "\n",
       "[8 rows x 19 columns]"
      ]
     },
     "execution_count": 19,
     "metadata": {},
     "output_type": "execute_result"
    }
   ],
   "source": [
    "# looks like following columns have outliers  C15, C16, C19, C21. \n",
    "\n",
    "df.describe()\n"
   ]
  },
  {
   "cell_type": "code",
   "execution_count": 21,
   "id": "bd48033f",
   "metadata": {},
   "outputs": [],
   "source": [
    "# Dealing with outliers by capping\n",
    "\n",
    "col = ['C15', 'C16', 'C19', 'C21']\n",
    "for col in col:\n",
    "    percentiles = df[col].quantile(0.98)\n",
    "    if df[col].quantile(0.98) < 0.5 * df[col].max():\n",
    "        df[col][df[col] >= percentiles] = percentiles\n"
   ]
  },
  {
   "cell_type": "code",
   "execution_count": 22,
   "id": "871839b0",
   "metadata": {},
   "outputs": [
    {
     "name": "stdout",
     "output_type": "stream",
     "text": [
      "numerical columns =  ['id', 'click', 'hour', 'C1', 'banner_pos', 'device_type', 'device_conn_type', 'C14', 'C15', 'C16', 'C17', 'C18', 'C19', 'C20', 'C21', 'month', 'dayofweek', 'day', 'hour_time']\n",
      "\n",
      "categorical columns =  ['site_id', 'site_domain', 'site_category', 'app_id', 'app_domain', 'app_category', 'device_id', 'device_ip', 'device_model']\n"
     ]
    }
   ],
   "source": [
    "# segrigating numerical and categorical variables.\n",
    "\n",
    "numerical = []\n",
    "categorical = []\n",
    "\n",
    "for col in (df.columns):\n",
    "    if df[col].dtype == \"object\":\n",
    "        categorical.append(col)\n",
    "    else:\n",
    "        numerical.append(col)\n",
    "print(\"numerical columns = \",numerical)\n",
    "print(\"\\ncategorical columns = \",categorical)"
   ]
  },
  {
   "cell_type": "code",
   "execution_count": 23,
   "id": "b826094b",
   "metadata": {},
   "outputs": [
    {
     "name": "stdout",
     "output_type": "stream",
     "text": [
      "click\n",
      "0   0.83\n",
      "1   0.17\n",
      "Name: proportion, dtype: float64\n",
      "\n",
      "\n"
     ]
    },
    {
     "data": {
      "image/png": "[encoded data removed]",
      "text/plain": [
       "<Figure size 640x480 with 1 Axes>"
      ]
     },
     "metadata": {},
     "output_type": "display_data"
    }
   ],
   "source": [
    "# y is the target variable, analysing the same.\n",
    "# 83% values are 0 and 17% values are 1. data is highly imbalance. \n",
    "\n",
    "print(df.click.value_counts(normalize = True))\n",
    "print(\"\\n\")\n",
    "plt.figure()\n",
    "sns.countplot(x='click', data=df)\n",
    "plt.show()"
   ]
  },
  {
   "cell_type": "markdown",
   "id": "2571473d",
   "metadata": {},
   "source": [
    "## Analysing categorical variables."
   ]
  },
  {
   "cell_type": "code",
   "execution_count": 24,
   "id": "d3ba5cbd",
   "metadata": {},
   "outputs": [
    {
     "name": "stdout",
     "output_type": "stream",
     "text": [
      "unique counts of site_id 497\n",
      "----------------------\n",
      "site_id\n",
      "1fbe01fe   0.35\n",
      "85f751fd   0.22\n",
      "543a539e   0.07\n",
      "d9750ee7   0.04\n",
      "e151e245   0.03\n",
      "           ... \n",
      "f1b5c97e   0.00\n",
      "14ec6216   0.00\n",
      "ffcb6b9a   0.00\n",
      "b8561528   0.00\n",
      "de849fbf   0.00\n",
      "Name: proportion, Length: 497, dtype: float64\n"
     ]
    }
   ],
   "source": [
    "print(\"unique counts of site_id\", len(df['site_id'].unique()))\n",
    "print(\"----------------------\")\n",
    "print(df['site_id'].value_counts(normalize = True))\n"
   ]
  },
  {
   "cell_type": "code",
   "execution_count": 25,
   "id": "f93bbac5",
   "metadata": {},
   "outputs": [
    {
     "name": "stdout",
     "output_type": "stream",
     "text": [
      "unique counts of site_domain 415\n",
      "----------------------\n",
      "site_domain\n",
      "f3845767   0.35\n",
      "c4e18dd6   0.23\n",
      "c7ca3108   0.07\n",
      "98572c79   0.04\n",
      "7e091613   0.03\n",
      "           ... \n",
      "0b204815   0.00\n",
      "a124cf19   0.00\n",
      "aa785047   0.00\n",
      "f27ccfdf   0.00\n",
      "0316bf4f   0.00\n",
      "Name: proportion, Length: 415, dtype: float64\n"
     ]
    }
   ],
   "source": [
    "print(\"unique counts of site_domain\", len(df['site_domain'].unique()))\n",
    "print(\"----------------------\")\n",
    "print(df['site_domain'].value_counts(normalize = True))\n"
   ]
  },
  {
   "cell_type": "code",
   "execution_count": 26,
   "id": "1be5536d",
   "metadata": {},
   "outputs": [
    {
     "name": "stdout",
     "output_type": "stream",
     "text": [
      "unique counts of site_category 14\n",
      "----------------------\n",
      "site_category\n",
      "28905ebd   0.38\n",
      "50e219e0   0.25\n",
      "f028772b   0.20\n",
      "3e814130   0.13\n",
      "76b2941d   0.02\n",
      "335d28a8   0.01\n",
      "0569f928   0.01\n",
      "72722551   0.00\n",
      "f66779e6   0.00\n",
      "75fa27f6   0.00\n",
      "c0dd3be3   0.00\n",
      "bcf865d9   0.00\n",
      "a818d37a   0.00\n",
      "110ab22d   0.00\n",
      "Name: proportion, dtype: float64\n"
     ]
    }
   ],
   "source": [
    "print(\"unique counts of site_category\", len(df['site_category'].unique()))\n",
    "print(\"----------------------\")\n",
    "print(df['site_category'].value_counts(normalize = True))"
   ]
  },
  {
   "cell_type": "code",
   "execution_count": 27,
   "id": "41ba85c4",
   "metadata": {},
   "outputs": [
    {
     "name": "stdout",
     "output_type": "stream",
     "text": [
      "unique counts of app_id 398\n",
      "----------------------\n",
      "app_id\n",
      "ecad2386   0.78\n",
      "febd1138   0.02\n",
      "e2fcccd2   0.02\n",
      "5e3f096f   0.01\n",
      "0acbeaa3   0.01\n",
      "           ... \n",
      "b3406a18   0.00\n",
      "0e1429fd   0.00\n",
      "6f8bcb0f   0.00\n",
      "b80746a0   0.00\n",
      "4fa8a7a9   0.00\n",
      "Name: proportion, Length: 398, dtype: float64\n"
     ]
    }
   ],
   "source": [
    "print(\"unique counts of app_id\", len(df['app_id'].unique()))\n",
    "print(\"----------------------\")\n",
    "print(df['app_id'].value_counts(normalize = True))\n"
   ]
  },
  {
   "cell_type": "code",
   "execution_count": 28,
   "id": "7a9bcd1b",
   "metadata": {},
   "outputs": [
    {
     "name": "stdout",
     "output_type": "stream",
     "text": [
      "unique counts of app_domain 38\n",
      "----------------------\n",
      "app_domain\n",
      "7801e8d9   0.83\n",
      "2347f47a   0.07\n",
      "82e27996   0.02\n",
      "d9b5648e   0.02\n",
      "5c5a694b   0.02\n",
      "45a51db4   0.01\n",
      "aefc06bd   0.01\n",
      "ae637522   0.00\n",
      "0654b444   0.00\n",
      "33da2e74   0.00\n",
      "885c7f3f   0.00\n",
      "b9528b13   0.00\n",
      "5b9c592b   0.00\n",
      "b5f3b24a   0.00\n",
      "c6824def   0.00\n",
      "5c620f04   0.00\n",
      "ad63ec9b   0.00\n",
      "f2f777fb   0.00\n",
      "43cf4f06   0.00\n",
      "6f7ca2ba   0.00\n",
      "813f3323   0.00\n",
      "828da833   0.00\n",
      "df32afa9   0.00\n",
      "afdf1f54   0.00\n",
      "3feeed1e   0.00\n",
      "b8d325c3   0.00\n",
      "18eb4e75   0.00\n",
      "1ed56ded   0.00\n",
      "db829551   0.00\n",
      "56eabb45   0.00\n",
      "5ac0b939   0.00\n",
      "f3ad7798   0.00\n",
      "15ec7f39   0.00\n",
      "e787a6bc   0.00\n",
      "e5d5313f   0.00\n",
      "713c0c91   0.00\n",
      "2b627705   0.00\n",
      "b2816726   0.00\n",
      "Name: proportion, dtype: float64\n"
     ]
    }
   ],
   "source": [
    "print(\"unique counts of app_domain\", len(df['app_domain'].unique()))\n",
    "print(\"----------------------\")\n",
    "print(df['app_domain'].value_counts(normalize = True))"
   ]
  },
  {
   "cell_type": "code",
   "execution_count": 29,
   "id": "5f4c8d2f",
   "metadata": {},
   "outputs": [
    {
     "name": "stdout",
     "output_type": "stream",
     "text": [
      "unique counts of app_category 15\n",
      "----------------------\n",
      "app_category\n",
      "07d7df22   0.79\n",
      "0f2161f8   0.15\n",
      "f95efa07   0.03\n",
      "8ded1f7a   0.01\n",
      "cef3e649   0.01\n",
      "75d80bbe   0.00\n",
      "4ce2e9fc   0.00\n",
      "d1327cf5   0.00\n",
      "dc97ec06   0.00\n",
      "a3c42688   0.00\n",
      "09481d60   0.00\n",
      "fc6fa53d   0.00\n",
      "0f9a328c   0.00\n",
      "879c24eb   0.00\n",
      "a86a3e89   0.00\n",
      "Name: proportion, dtype: float64\n"
     ]
    }
   ],
   "source": [
    "print(\"unique counts of app_category\", len(df['app_category'].unique()))\n",
    "print(\"----------------------\")\n",
    "print(df['app_category'].value_counts(normalize = True))"
   ]
  },
  {
   "cell_type": "code",
   "execution_count": 30,
   "id": "46afadb6",
   "metadata": {},
   "outputs": [
    {
     "name": "stdout",
     "output_type": "stream",
     "text": [
      "unique counts of device_id 2039\n",
      "----------------------\n",
      "device_id\n",
      "a99f214a   0.87\n",
      "c357dbff   0.00\n",
      "3c0208dc   0.00\n",
      "a167aa83   0.00\n",
      "24c3c3fe   0.00\n",
      "           ... \n",
      "9eb6088e   0.00\n",
      "ed61965a   0.00\n",
      "f7e2a32a   0.00\n",
      "6b38d0ca   0.00\n",
      "1da01e67   0.00\n",
      "Name: proportion, Length: 2039, dtype: float64\n"
     ]
    }
   ],
   "source": [
    "print(\"unique counts of device_id\", len(df['device_id'].unique()))\n",
    "print(\"----------------------\")\n",
    "print(df['device_id'].value_counts(normalize = True))"
   ]
  },
  {
   "cell_type": "code",
   "execution_count": 31,
   "id": "98268084",
   "metadata": {},
   "outputs": [
    {
     "name": "stdout",
     "output_type": "stream",
     "text": [
      "unique counts of device_ip 12777\n",
      "----------------------\n",
      "device_ip\n",
      "6b9769f2   0.01\n",
      "ceffea69   0.00\n",
      "9b1fe278   0.00\n",
      "75bb1b58   0.00\n",
      "0489ce3f   0.00\n",
      "           ... \n",
      "f0187052   0.00\n",
      "1843175d   0.00\n",
      "c7817d6f   0.00\n",
      "1477504f   0.00\n",
      "6dc742ab   0.00\n",
      "Name: proportion, Length: 12777, dtype: float64\n"
     ]
    }
   ],
   "source": [
    "print(\"unique counts of device_ip\", len(df['device_ip'].unique()))\n",
    "print(\"----------------------\")\n",
    "print(df['device_ip'].value_counts(normalize = True))"
   ]
  },
  {
   "cell_type": "code",
   "execution_count": 32,
   "id": "39eb0554",
   "metadata": {},
   "outputs": [
    {
     "name": "stdout",
     "output_type": "stream",
     "text": [
      "unique counts of device_model 1552\n",
      "----------------------\n",
      "device_model\n",
      "8a4875bd   0.07\n",
      "d787e91b   0.05\n",
      "1f0bc64f   0.04\n",
      "4ea23a13   0.02\n",
      "711ee120   0.02\n",
      "           ... \n",
      "4f18ef0b   0.00\n",
      "3fa7d4fb   0.00\n",
      "42098d1b   0.00\n",
      "a4b93048   0.00\n",
      "3983e343   0.00\n",
      "Name: proportion, Length: 1552, dtype: float64\n"
     ]
    }
   ],
   "source": [
    "print(\"unique counts of device_model\", len(df['device_model'].unique()))\n",
    "print(\"----------------------\")\n",
    "print(df['device_model'].value_counts(normalize = True))"
   ]
  },
  {
   "cell_type": "markdown",
   "id": "16916e1b",
   "metadata": {},
   "source": [
    "### observations :\n",
    "\n",
    "- All categorical variables have lot of unique values in it, one hot encoding is not a scalable approach.\n",
    "- we will go with label encoding and scaling approach is a better idea for this.\n"
   ]
  },
  {
   "cell_type": "code",
   "execution_count": 33,
   "id": "803ee782",
   "metadata": {},
   "outputs": [
    {
     "data": {
      "text/plain": [
       "Index(['id', 'click', 'hour', 'C1', 'banner_pos', 'site_id', 'site_domain',\n",
       "       'site_category', 'app_id', 'app_domain', 'app_category', 'device_id',\n",
       "       'device_ip', 'device_model', 'device_type', 'device_conn_type', 'C14',\n",
       "       'C15', 'C16', 'C17', 'C18', 'C19', 'C20', 'C21', 'month', 'dayofweek',\n",
       "       'day', 'hour_time'],\n",
       "      dtype='object')"
      ]
     },
     "execution_count": 33,
     "metadata": {},
     "output_type": "execute_result"
    }
   ],
   "source": [
    "df.columns"
   ]
  },
  {
   "cell_type": "code",
   "execution_count": 36,
   "id": "56ee0b90",
   "metadata": {},
   "outputs": [],
   "source": [
    "df1 = df[numerical]"
   ]
  },
  {
   "cell_type": "code",
   "execution_count": 37,
   "id": "e754183c",
   "metadata": {},
   "outputs": [
    {
     "data": {
      "text/plain": [
       "Text(0.5, 1.05, 'Pearson correlation of Features')"
      ]
     },
     "execution_count": 37,
     "metadata": {},
     "output_type": "execute_result"
    },
    {
     "data": {
      "image/png": "[encoded data removed]",
      "text/plain": [
       "<Figure size 1000x1000 with 2 Axes>"
      ]
     },
     "metadata": {},
     "output_type": "display_data"
    }
   ],
   "source": [
    "# Pearson correlation table to find the relationship with output with all input features. \n",
    "\n",
    "corr = df1.corr()\n",
    "f, ax = plt.subplots(figsize=(10,10))\n",
    "sns.heatmap(corr, ax=ax, annot=True,linewidths=3,cmap='YlGn')\n",
    "plt.title(\"Pearson correlation of Features\", y=1.05, size=15)"
   ]
  },
  {
   "cell_type": "markdown",
   "id": "b168fc33",
   "metadata": {},
   "source": [
    "### observation\n",
    "\n",
    "- month has got no significance, better to drop it\n",
    "- y and click are same drop click column\n",
    "- C14 and C17 are highly co-related, later will remove one of them after the base model.\n",
    "- device type with C1 are highly co-related, later will remove one of them after the base model.\n",
    "- Removing C20 anomalised column, since it have got nearly 47% of values with -1. As a categorical variable it's not expected to have values as -1.\n"
   ]
  },
  {
   "cell_type": "code",
   "execution_count": 38,
   "id": "78cf49c4",
   "metadata": {},
   "outputs": [
    {
     "data": {
      "text/plain": [
       "Index(['id', 'click', 'hour', 'C1', 'banner_pos', 'site_id', 'site_domain',\n",
       "       'site_category', 'app_id', 'app_domain', 'app_category', 'device_id',\n",
       "       'device_ip', 'device_model', 'device_type', 'device_conn_type', 'C14',\n",
       "       'C15', 'C16', 'C17', 'C18', 'C19', 'C21', 'dayofweek', 'day',\n",
       "       'hour_time'],\n",
       "      dtype='object')"
      ]
     },
     "execution_count": 38,
     "metadata": {},
     "output_type": "execute_result"
    }
   ],
   "source": [
    "df.drop(['month', 'C20'], axis=1, inplace=True)\n",
    "df.columns"
   ]
  },
  {
   "cell_type": "markdown",
   "id": "e1ce865b",
   "metadata": {},
   "source": [
    "# Data preperation"
   ]
  },
  {
   "cell_type": "code",
   "execution_count": 39,
   "id": "e141e70c",
   "metadata": {},
   "outputs": [
    {
     "data": {
      "text/plain": [
       "Index(['y', 'C1', 'banner_pos', 'site_id', 'site_domain', 'site_category',\n",
       "       'app_id', 'app_domain', 'app_category', 'device_id', 'device_ip',\n",
       "       'device_model', 'device_type', 'device_conn_type', 'C14', 'C15', 'C16',\n",
       "       'C17', 'C18', 'C19', 'C21', 'dayofweek', 'day', 'hour'],\n",
       "      dtype='object')"
      ]
     },
     "execution_count": 39,
     "metadata": {},
     "output_type": "execute_result"
    }
   ],
   "source": [
    "# id column have a unique columns so, keeping that don't proive any significance,hence dropping.\n",
    "# hour column have been derived into different columns, hence dropping. \n",
    "# rename click to y (output)\n",
    "# after dropping hour column, hour_time can be made as hour\n",
    "\n",
    "df.drop(['id', 'hour'], axis = 1, inplace = True) \n",
    "df.rename(columns={'click': 'y',\n",
    "                   'hour_time': 'hour'},\n",
    "          inplace=True, errors='raise')\n",
    "\n",
    "df.columns\n"
   ]
  },
  {
   "cell_type": "code",
   "execution_count": 40,
   "id": "9f323e65",
   "metadata": {},
   "outputs": [],
   "source": [
    "# split inputs and lable:\n",
    "X = df.drop(['y'], axis=1)\n",
    "y = df['y']"
   ]
  },
  {
   "cell_type": "code",
   "execution_count": 41,
   "id": "600e110c",
   "metadata": {},
   "outputs": [
    {
     "name": "stdout",
     "output_type": "stream",
     "text": [
      "y\n",
      "0   0.83\n",
      "1   0.17\n",
      "Name: proportion, dtype: float64\n",
      "\n",
      "\n"
     ]
    },
    {
     "data": {
      "image/png": "[encoded data removed]",
      "text/plain": [
       "<Figure size 640x480 with 1 Axes>"
      ]
     },
     "metadata": {},
     "output_type": "display_data"
    }
   ],
   "source": [
    "# After taking the sample of data, still the ratio of output remains same.\n",
    "\n",
    "print(df.y.value_counts(normalize = True))\n",
    "print(\"\\n\")\n",
    "plt.figure()\n",
    "sns.countplot(x=y)\n",
    "plt.show()"
   ]
  },
  {
   "cell_type": "code",
   "execution_count": 42,
   "id": "5890183b",
   "metadata": {},
   "outputs": [
    {
     "data": {
      "text/html": [
       "<div>\n",
       "<style scoped>\n",
       "    .dataframe tbody tr th:only-of-type {\n",
       "        vertical-align: middle;\n",
       "    }\n",
       "\n",
       "    .dataframe tbody tr th {\n",
       "        vertical-align: top;\n",
       "    }\n",
       "\n",
       "    .dataframe thead th {\n",
       "        text-align: right;\n",
       "    }\n",
       "</style>\n",
       "<table border=\"1\" class=\"dataframe\">\n",
       "  <thead>\n",
       "    <tr style=\"text-align: right;\">\n",
       "      <th></th>\n",
       "      <th>C1</th>\n",
       "      <th>banner_pos</th>\n",
       "      <th>site_id</th>\n",
       "      <th>site_domain</th>\n",
       "      <th>site_category</th>\n",
       "      <th>app_id</th>\n",
       "      <th>app_domain</th>\n",
       "      <th>app_category</th>\n",
       "      <th>device_id</th>\n",
       "      <th>device_ip</th>\n",
       "      <th>device_model</th>\n",
       "      <th>device_type</th>\n",
       "      <th>device_conn_type</th>\n",
       "      <th>C14</th>\n",
       "      <th>C15</th>\n",
       "      <th>C16</th>\n",
       "      <th>C17</th>\n",
       "      <th>C18</th>\n",
       "      <th>C19</th>\n",
       "      <th>C21</th>\n",
       "      <th>dayofweek</th>\n",
       "      <th>day</th>\n",
       "      <th>hour</th>\n",
       "    </tr>\n",
       "  </thead>\n",
       "  <tbody>\n",
       "    <tr>\n",
       "      <th>0</th>\n",
       "      <td>1005</td>\n",
       "      <td>0</td>\n",
       "      <td>0.10</td>\n",
       "      <td>0.11</td>\n",
       "      <td>0.12</td>\n",
       "      <td>0.11</td>\n",
       "      <td>0.11</td>\n",
       "      <td>0.14</td>\n",
       "      <td>0.18</td>\n",
       "      <td>0.15</td>\n",
       "      <td>0.20</td>\n",
       "      <td>1</td>\n",
       "      <td>0</td>\n",
       "      <td>18993</td>\n",
       "      <td>320</td>\n",
       "      <td>50</td>\n",
       "      <td>2161</td>\n",
       "      <td>0</td>\n",
       "      <td>35</td>\n",
       "      <td>157</td>\n",
       "      <td>3</td>\n",
       "      <td>1</td>\n",
       "      <td>0</td>\n",
       "    </tr>\n",
       "    <tr>\n",
       "      <th>1</th>\n",
       "      <td>1005</td>\n",
       "      <td>0</td>\n",
       "      <td>0.20</td>\n",
       "      <td>0.20</td>\n",
       "      <td>0.20</td>\n",
       "      <td>0.19</td>\n",
       "      <td>0.19</td>\n",
       "      <td>0.19</td>\n",
       "      <td>0.18</td>\n",
       "      <td>0.15</td>\n",
       "      <td>0.26</td>\n",
       "      <td>1</td>\n",
       "      <td>0</td>\n",
       "      <td>15702</td>\n",
       "      <td>320</td>\n",
       "      <td>50</td>\n",
       "      <td>1722</td>\n",
       "      <td>0</td>\n",
       "      <td>35</td>\n",
       "      <td>79</td>\n",
       "      <td>3</td>\n",
       "      <td>1</td>\n",
       "      <td>0</td>\n",
       "    </tr>\n",
       "  </tbody>\n",
       "</table>\n",
       "</div>"
      ],
      "text/plain": [
       "     C1  banner_pos  site_id  site_domain  ...  C21  dayofweek  day  hour\n",
       "0  1005           0     0.10         0.11  ...  157          3    1     0\n",
       "1  1005           0     0.20         0.20  ...   79          3    1     0\n",
       "\n",
       "[2 rows x 23 columns]"
      ]
     },
     "execution_count": 42,
     "metadata": {},
     "output_type": "execute_result"
    }
   ],
   "source": [
    "target_encoder = ce.TargetEncoder()\n",
    "X = target_encoder.fit_transform(X, y)\n",
    "X.head(2)"
   ]
  },
  {
   "cell_type": "code",
   "execution_count": 47,
   "id": "059d3fe4",
   "metadata": {},
   "outputs": [],
   "source": [
    "# train-test-split:\n",
    "X_train, X_test, y_train, y_test = train_test_split(X, y, stratify=y, test_size= 0.3, random_state= 42)\n"
   ]
  },
  {
   "cell_type": "code",
   "execution_count": 48,
   "id": "45edd301",
   "metadata": {},
   "outputs": [],
   "source": [
    "# this function helps in evaluation the given model and provide accuracy and confusion matrix. \n",
    "\n",
    "def model_eval(model, X_test, y_test):\n",
    "    y_pred = model.predict(X_test)\n",
    "    accuracy = metrics.accuracy_score(y_test, y_pred)\n",
    "    #print(accuracy)\n",
    "    cnf_matrix = metrics.confusion_matrix(y_test, y_pred)\n",
    "    #print(cnf_matrix)\n",
    "    #metrics.plot_confusion_matrix(model, X_test, y_test)\n",
    "    #plt.show()\n",
    "    return accuracy, cnf_matrix"
   ]
  },
  {
   "cell_type": "code",
   "execution_count": 49,
   "id": "b6c99dac",
   "metadata": {},
   "outputs": [],
   "source": [
    "# Plots the ROC curve and returns false positive rate, true positive rate, and thresholds. \n",
    "\n",
    "def draw_roc(model, Xtest, actual):\n",
    "    probs = model.predict(X_test)\n",
    "    fpr, tpr, thresholds = metrics.roc_curve( actual, probs,\n",
    "                                              drop_intermediate = False )\n",
    "    auc_score = metrics.roc_auc_score( actual, probs )\n",
    "    plt.figure(figsize=(6, 6))\n",
    "    plt.plot( fpr, tpr, label='ROC curve (area = %0.2f)' % auc_score )\n",
    "    plt.plot([0, 1], [0, 1], 'k--')\n",
    "    plt.xlim([0.0, 1.0])\n",
    "    plt.ylim([0.0, 1.05])\n",
    "    plt.xlabel('False Positive Rate or [1 - True Negative Rate]')\n",
    "    plt.ylabel('True Positive Rate')\n",
    "    plt.title('Receiver operating characteristic example')\n",
    "    plt.legend(loc=\"lower right\")\n",
    "    plt.show()\n",
    "\n",
    "    return fpr, tpr, thresholds\n"
   ]
  },
  {
   "cell_type": "code",
   "execution_count": 50,
   "id": "c41e8f0c",
   "metadata": {},
   "outputs": [],
   "source": [
    "# Returns the ctossvalidation score for given number of n folds. \n",
    "\n",
    "def cross_val (model, x, y, folds):\n",
    "    crossvalidation = cross_val_score(model, x, y, cv= folds, n_jobs=-1)\n",
    "    return crossvalidation\n"
   ]
  },
  {
   "cell_type": "code",
   "execution_count": 51,
   "id": "814900aa",
   "metadata": {},
   "outputs": [],
   "source": [
    "# this stores the results in dataframe for evaluating the final result. \n",
    "\n",
    "def store_results(name, ytrain, xtrain, ytest, xtest, model, folds):\n",
    "    \n",
    "    crossvalidation = cross_val(model, xtrain, ytrain, folds)\n",
    "    \n",
    "    accuracy_test, cm1 =  model_eval(model, xtrain, ytrain)\n",
    "    TP = cm1[1,1] # true positive \n",
    "    TN = cm1[0,0] # true negatives\n",
    "    FP = cm1[0,1] # false positives\n",
    "    FN = cm1[1,0] # false negatives\n",
    "    recall_test = TP / (TP+FP)\n",
    "    precision_test = TP / (TP+FN)\n",
    "    \n",
    "    accuracy_train, cm1 =  model_eval(model, xtest, ytest)\n",
    "    TP = cm1[1,1] # true positive \n",
    "    TN = cm1[0,0] # true negatives\n",
    "    FP = cm1[0,1] # false positives\n",
    "    FN = cm1[1,0] # false negatives\n",
    "    recall_train = TP / (TP+FP)\n",
    "    precision_train = TP / (TP+FN)\n",
    "\n",
    "    entry = {'Model': [name],\n",
    "          'Accuracy_train': [accuracy_train],\n",
    "          'recall_train': [recall_train],\n",
    "          'precision_train': [precision_train],\n",
    "          'Accuracy_test': [accuracy_train],\n",
    "          'recall_test': [recall_train],\n",
    "          'precision_test': [precision_train],\n",
    "          'CrossVal_Mean': [crossvalidation.mean()],           \n",
    "          'CrossVal1': [crossvalidation[0]],\n",
    "          'CrossVal2': [crossvalidation[1]],\n",
    "          'CrossVal3': [crossvalidation[2]],\n",
    "          'CrossVal4': [crossvalidation[3]],\n",
    "          'CrossVal5': [crossvalidation[4]],\n",
    "          }\n",
    "    result = pd.DataFrame(entry)\n",
    "    return result"
   ]
  },
  {
   "cell_type": "code",
   "execution_count": 52,
   "id": "2144251d",
   "metadata": {},
   "outputs": [
    {
     "data": {
      "text/html": [
       "<div>\n",
       "<style scoped>\n",
       "    .dataframe tbody tr th:only-of-type {\n",
       "        vertical-align: middle;\n",
       "    }\n",
       "\n",
       "    .dataframe tbody tr th {\n",
       "        vertical-align: top;\n",
       "    }\n",
       "\n",
       "    .dataframe thead th {\n",
       "        text-align: right;\n",
       "    }\n",
       "</style>\n",
       "<table border=\"1\" class=\"dataframe\">\n",
       "  <thead>\n",
       "    <tr style=\"text-align: right;\">\n",
       "      <th></th>\n",
       "      <th>C1</th>\n",
       "      <th>banner_pos</th>\n",
       "      <th>site_id</th>\n",
       "      <th>site_domain</th>\n",
       "      <th>site_category</th>\n",
       "      <th>app_id</th>\n",
       "      <th>app_domain</th>\n",
       "      <th>app_category</th>\n",
       "      <th>device_id</th>\n",
       "      <th>device_ip</th>\n",
       "      <th>device_model</th>\n",
       "      <th>device_type</th>\n",
       "      <th>device_conn_type</th>\n",
       "      <th>C14</th>\n",
       "      <th>C15</th>\n",
       "      <th>C16</th>\n",
       "      <th>C17</th>\n",
       "      <th>C18</th>\n",
       "      <th>C19</th>\n",
       "      <th>C21</th>\n",
       "      <th>dayofweek</th>\n",
       "      <th>day</th>\n",
       "      <th>hour</th>\n",
       "    </tr>\n",
       "  </thead>\n",
       "  <tbody>\n",
       "    <tr>\n",
       "      <th>14019</th>\n",
       "      <td>0.44</td>\n",
       "      <td>0.20</td>\n",
       "      <td>0.28</td>\n",
       "      <td>0.29</td>\n",
       "      <td>0.58</td>\n",
       "      <td>0.54</td>\n",
       "      <td>0.63</td>\n",
       "      <td>1.00</td>\n",
       "      <td>0.36</td>\n",
       "      <td>0.52</td>\n",
       "      <td>0.51</td>\n",
       "      <td>0.20</td>\n",
       "      <td>0.00</td>\n",
       "      <td>0.95</td>\n",
       "      <td>1.00</td>\n",
       "      <td>0.03</td>\n",
       "      <td>0.86</td>\n",
       "      <td>0.00</td>\n",
       "      <td>0.00</td>\n",
       "      <td>1.00</td>\n",
       "      <td>0.00</td>\n",
       "      <td>0.00</td>\n",
       "      <td>0.00</td>\n",
       "    </tr>\n",
       "    <tr>\n",
       "      <th>17667</th>\n",
       "      <td>0.44</td>\n",
       "      <td>0.00</td>\n",
       "      <td>0.29</td>\n",
       "      <td>0.29</td>\n",
       "      <td>0.74</td>\n",
       "      <td>0.54</td>\n",
       "      <td>0.63</td>\n",
       "      <td>1.00</td>\n",
       "      <td>0.36</td>\n",
       "      <td>0.52</td>\n",
       "      <td>0.46</td>\n",
       "      <td>0.20</td>\n",
       "      <td>0.00</td>\n",
       "      <td>0.93</td>\n",
       "      <td>1.00</td>\n",
       "      <td>0.03</td>\n",
       "      <td>0.92</td>\n",
       "      <td>0.00</td>\n",
       "      <td>0.07</td>\n",
       "      <td>0.02</td>\n",
       "      <td>0.00</td>\n",
       "      <td>0.00</td>\n",
       "      <td>0.00</td>\n",
       "    </tr>\n",
       "    <tr>\n",
       "      <th>1465</th>\n",
       "      <td>0.44</td>\n",
       "      <td>0.20</td>\n",
       "      <td>0.24</td>\n",
       "      <td>0.22</td>\n",
       "      <td>1.00</td>\n",
       "      <td>0.54</td>\n",
       "      <td>0.63</td>\n",
       "      <td>1.00</td>\n",
       "      <td>0.36</td>\n",
       "      <td>0.52</td>\n",
       "      <td>0.27</td>\n",
       "      <td>0.20</td>\n",
       "      <td>0.00</td>\n",
       "      <td>0.74</td>\n",
       "      <td>1.00</td>\n",
       "      <td>0.03</td>\n",
       "      <td>0.71</td>\n",
       "      <td>1.00</td>\n",
       "      <td>0.07</td>\n",
       "      <td>0.07</td>\n",
       "      <td>0.00</td>\n",
       "      <td>0.00</td>\n",
       "      <td>0.00</td>\n",
       "    </tr>\n",
       "    <tr>\n",
       "      <th>8507</th>\n",
       "      <td>0.44</td>\n",
       "      <td>0.00</td>\n",
       "      <td>0.06</td>\n",
       "      <td>0.06</td>\n",
       "      <td>0.13</td>\n",
       "      <td>0.54</td>\n",
       "      <td>0.63</td>\n",
       "      <td>1.00</td>\n",
       "      <td>0.36</td>\n",
       "      <td>0.34</td>\n",
       "      <td>0.26</td>\n",
       "      <td>0.20</td>\n",
       "      <td>0.00</td>\n",
       "      <td>0.87</td>\n",
       "      <td>1.00</td>\n",
       "      <td>0.03</td>\n",
       "      <td>0.86</td>\n",
       "      <td>0.00</td>\n",
       "      <td>0.00</td>\n",
       "      <td>1.00</td>\n",
       "      <td>0.00</td>\n",
       "      <td>0.00</td>\n",
       "      <td>0.00</td>\n",
       "    </tr>\n",
       "    <tr>\n",
       "      <th>6238</th>\n",
       "      <td>0.44</td>\n",
       "      <td>0.20</td>\n",
       "      <td>0.18</td>\n",
       "      <td>0.18</td>\n",
       "      <td>1.00</td>\n",
       "      <td>0.54</td>\n",
       "      <td>0.63</td>\n",
       "      <td>1.00</td>\n",
       "      <td>0.36</td>\n",
       "      <td>0.33</td>\n",
       "      <td>0.48</td>\n",
       "      <td>0.20</td>\n",
       "      <td>0.00</td>\n",
       "      <td>0.91</td>\n",
       "      <td>1.00</td>\n",
       "      <td>0.03</td>\n",
       "      <td>0.89</td>\n",
       "      <td>0.00</td>\n",
       "      <td>0.36</td>\n",
       "      <td>0.24</td>\n",
       "      <td>0.00</td>\n",
       "      <td>0.00</td>\n",
       "      <td>0.00</td>\n",
       "    </tr>\n",
       "  </tbody>\n",
       "</table>\n",
       "</div>"
      ],
      "text/plain": [
       "        C1  banner_pos  site_id  site_domain  ...  C21  dayofweek  day  hour\n",
       "14019 0.44        0.20     0.28         0.29  ... 1.00       0.00 0.00  0.00\n",
       "17667 0.44        0.00     0.29         0.29  ... 0.02       0.00 0.00  0.00\n",
       "1465  0.44        0.20     0.24         0.22  ... 0.07       0.00 0.00  0.00\n",
       "8507  0.44        0.00     0.06         0.06  ... 1.00       0.00 0.00  0.00\n",
       "6238  0.44        0.20     0.18         0.18  ... 0.24       0.00 0.00  0.00\n",
       "\n",
       "[5 rows x 23 columns]"
      ]
     },
     "execution_count": 52,
     "metadata": {},
     "output_type": "execute_result"
    }
   ],
   "source": [
    "# Scaling:\n",
    "scaler = MinMaxScaler()\n",
    "X_train[X_train.columns] = scaler.fit_transform(X_train[X_train.columns])\n",
    "X_train.head()"
   ]
  },
  {
   "cell_type": "code",
   "execution_count": 53,
   "id": "95147152",
   "metadata": {},
   "outputs": [],
   "source": [
    "# Using Logistic Regression model:\n",
    "model = LogisticRegression()\n",
    "model.fit(X_train, y_train)\n",
    "\n",
    "X_test[X_test.columns] = scaler.transform(X_test[X_test.columns])\n"
   ]
  },
  {
   "cell_type": "code",
   "execution_count": 57,
   "id": "40a72b50",
   "metadata": {},
   "outputs": [
    {
     "name": "stdout",
     "output_type": "stream",
     "text": [
      "LogisticRegression Accuracy:  94.01666666666667 %\n",
      "[[4869  100]\n",
      " [ 259  772]]\n"
     ]
    }
   ],
   "source": [
    "# Prediciton:\n",
    "y_pred = model.predict(X_test)\n",
    "accuracy, cnf_matrix = model_eval(model, X_test, y_test)\n",
    "print('LogisticRegression Accuracy: ', accuracy*100, '%')\n",
    "print(cnf_matrix)"
   ]
  },
  {
   "cell_type": "code",
   "execution_count": null,
   "id": "20f314b9",
   "metadata": {},
   "outputs": [],
   "source": []
  }
 ],
 "metadata": {
  "kernelspec": {
   "display_name": "Python 3 (ipykernel)",
   "language": "python",
   "name": "python3"
  },
  "language_info": {
   "codemirror_mode": {
    "name": "ipython",
    "version": 3
   },
   "file_extension": ".py",
   "mimetype": "text/x-python",
   "name": "python",
   "nbconvert_exporter": "python",
   "pygments_lexer": "ipython3",
   "version": "3.9.16"
  }
 },
 "nbformat": 4,
 "nbformat_minor": 5
}
