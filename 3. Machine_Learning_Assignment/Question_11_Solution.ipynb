{
  "cells": [
    {
      "cell_type": "markdown",
      "id": "3ba99e86",
      "metadata": {
        "id": "3ba99e86"
      },
      "source": [
        "# Advance QUESTIONS :"
      ]
    },
    {
      "cell_type": "markdown",
      "id": "0c8c1a51",
      "metadata": {
        "id": "0c8c1a51"
      },
      "source": [
        "## Question_11_Solution:"
      ]
    },
    {
      "cell_type": "markdown",
      "id": "a13f754b",
      "metadata": {
        "id": "a13f754b"
      },
      "source": [
        "**Q-1.** A Social Media Influencer collected data on Facebook friend requests and used\n",
        "a supervised algorithm to predict whether a user would accept a friend request or\n",
        "not. Dataset This is the Dataset You can use this dataset for this question. Note : Use\n",
        "only Dask and Use MLflow"
      ]
    },
    {
      "cell_type": "code",
      "source": [
        "from google.colab import drive\n",
        "drive.mount('/content/drive')"
      ],
      "metadata": {
        "colab": {
          "base_uri": "https://localhost:8080/"
        },
        "id": "9wWiMfH5Fn90",
        "outputId": "bd2c7488-b711-4721-cf78-4611669acd96"
      },
      "id": "9wWiMfH5Fn90",
      "execution_count": 49,
      "outputs": [
        {
          "output_type": "stream",
          "name": "stdout",
          "text": [
            "Drive already mounted at /content/drive; to attempt to forcibly remount, call drive.mount(\"/content/drive\", force_remount=True).\n"
          ]
        }
      ]
    },
    {
      "cell_type": "code",
      "execution_count": 50,
      "id": "3c484d79",
      "metadata": {
        "id": "3c484d79"
      },
      "outputs": [],
      "source": [
        "# !pip install dask mlflow"
      ]
    },
    {
      "cell_type": "code",
      "execution_count": 51,
      "id": "9255df32",
      "metadata": {
        "id": "9255df32"
      },
      "outputs": [],
      "source": [
        "# Import Required Libraries:\n",
        "import os\n",
        "import numpy as np\n",
        "import dask.dataframe as dd\n",
        "from xgboost import XGBClassifier\n",
        "import dask.array as da\n",
        "import mlflow\n",
        "from sklearn.metrics import accuracy_score\n",
        "from sklearn.model_selection import train_test_split"
      ]
    },
    {
      "cell_type": "code",
      "source": [
        "# Provide the path to your CSV file in Google Drive\n",
        "csv_path = '/content/drive/MyDrive/Colab Notebooks/Q11.csv'\n",
        "\n",
        "# Read the CSV file into a DataFrame\n",
        "df = dd.read_csv(csv_path)\n",
        "# Display the DataFrame\n",
        "df.head(2)\n"
      ],
      "metadata": {
        "colab": {
          "base_uri": "https://localhost:8080/",
          "height": 112
        },
        "id": "lNFaHStaGJpg",
        "outputId": "fa3938be-7b17-4f44-e77f-01f76597f0c6"
      },
      "id": "lNFaHStaGJpg",
      "execution_count": 52,
      "outputs": [
        {
          "output_type": "execute_result",
          "data": {
            "text/plain": [
              "   source_node  destination_node\n",
              "0       418825           1507485\n",
              "1       284001           1154125"
            ],
            "text/html": [
              "\n",
              "  <div id=\"df-61752b5e-135f-4f05-9ca5-d42ebbcd66f3\">\n",
              "    <div class=\"colab-df-container\">\n",
              "      <div>\n",
              "<style scoped>\n",
              "    .dataframe tbody tr th:only-of-type {\n",
              "        vertical-align: middle;\n",
              "    }\n",
              "\n",
              "    .dataframe tbody tr th {\n",
              "        vertical-align: top;\n",
              "    }\n",
              "\n",
              "    .dataframe thead th {\n",
              "        text-align: right;\n",
              "    }\n",
              "</style>\n",
              "<table border=\"1\" class=\"dataframe\">\n",
              "  <thead>\n",
              "    <tr style=\"text-align: right;\">\n",
              "      <th></th>\n",
              "      <th>source_node</th>\n",
              "      <th>destination_node</th>\n",
              "    </tr>\n",
              "  </thead>\n",
              "  <tbody>\n",
              "    <tr>\n",
              "      <th>0</th>\n",
              "      <td>418825</td>\n",
              "      <td>1507485</td>\n",
              "    </tr>\n",
              "    <tr>\n",
              "      <th>1</th>\n",
              "      <td>284001</td>\n",
              "      <td>1154125</td>\n",
              "    </tr>\n",
              "  </tbody>\n",
              "</table>\n",
              "</div>\n",
              "      <button class=\"colab-df-convert\" onclick=\"convertToInteractive('df-61752b5e-135f-4f05-9ca5-d42ebbcd66f3')\"\n",
              "              title=\"Convert this dataframe to an interactive table.\"\n",
              "              style=\"display:none;\">\n",
              "        \n",
              "  <svg xmlns=\"http://www.w3.org/2000/svg\" height=\"24px\"viewBox=\"0 0 24 24\"\n",
              "       width=\"24px\">\n",
              "    <path d=\"M0 0h24v24H0V0z\" fill=\"none\"/>\n",
              "    <path d=\"M18.56 5.44l.94 2.06.94-2.06 2.06-.94-2.06-.94-.94-2.06-.94 2.06-2.06.94zm-11 1L8.5 8.5l.94-2.06 2.06-.94-2.06-.94L8.5 2.5l-.94 2.06-2.06.94zm10 10l.94 2.06.94-2.06 2.06-.94-2.06-.94-.94-2.06-.94 2.06-2.06.94z\"/><path d=\"M17.41 7.96l-1.37-1.37c-.4-.4-.92-.59-1.43-.59-.52 0-1.04.2-1.43.59L10.3 9.45l-7.72 7.72c-.78.78-.78 2.05 0 2.83L4 21.41c.39.39.9.59 1.41.59.51 0 1.02-.2 1.41-.59l7.78-7.78 2.81-2.81c.8-.78.8-2.07 0-2.86zM5.41 20L4 18.59l7.72-7.72 1.47 1.35L5.41 20z\"/>\n",
              "  </svg>\n",
              "      </button>\n",
              "      \n",
              "  <style>\n",
              "    .colab-df-container {\n",
              "      display:flex;\n",
              "      flex-wrap:wrap;\n",
              "      gap: 12px;\n",
              "    }\n",
              "\n",
              "    .colab-df-convert {\n",
              "      background-color: #E8F0FE;\n",
              "      border: none;\n",
              "      border-radius: 50%;\n",
              "      cursor: pointer;\n",
              "      display: none;\n",
              "      fill: #1967D2;\n",
              "      height: 32px;\n",
              "      padding: 0 0 0 0;\n",
              "      width: 32px;\n",
              "    }\n",
              "\n",
              "    .colab-df-convert:hover {\n",
              "      background-color: #E2EBFA;\n",
              "      box-shadow: 0px 1px 2px rgba(60, 64, 67, 0.3), 0px 1px 3px 1px rgba(60, 64, 67, 0.15);\n",
              "      fill: #174EA6;\n",
              "    }\n",
              "\n",
              "    [theme=dark] .colab-df-convert {\n",
              "      background-color: #3B4455;\n",
              "      fill: #D2E3FC;\n",
              "    }\n",
              "\n",
              "    [theme=dark] .colab-df-convert:hover {\n",
              "      background-color: #434B5C;\n",
              "      box-shadow: 0px 1px 3px 1px rgba(0, 0, 0, 0.15);\n",
              "      filter: drop-shadow(0px 1px 2px rgba(0, 0, 0, 0.3));\n",
              "      fill: #FFFFFF;\n",
              "    }\n",
              "  </style>\n",
              "\n",
              "      <script>\n",
              "        const buttonEl =\n",
              "          document.querySelector('#df-61752b5e-135f-4f05-9ca5-d42ebbcd66f3 button.colab-df-convert');\n",
              "        buttonEl.style.display =\n",
              "          google.colab.kernel.accessAllowed ? 'block' : 'none';\n",
              "\n",
              "        async function convertToInteractive(key) {\n",
              "          const element = document.querySelector('#df-61752b5e-135f-4f05-9ca5-d42ebbcd66f3');\n",
              "          const dataTable =\n",
              "            await google.colab.kernel.invokeFunction('convertToInteractive',\n",
              "                                                     [key], {});\n",
              "          if (!dataTable) return;\n",
              "\n",
              "          const docLinkHtml = 'Like what you see? Visit the ' +\n",
              "            '<a target=\"_blank\" href=https://colab.research.google.com/notebooks/data_table.ipynb>data table notebook</a>'\n",
              "            + ' to learn more about interactive tables.';\n",
              "          element.innerHTML = '';\n",
              "          dataTable['output_type'] = 'display_data';\n",
              "          await google.colab.output.renderOutput(dataTable, element);\n",
              "          const docLink = document.createElement('div');\n",
              "          docLink.innerHTML = docLinkHtml;\n",
              "          element.appendChild(docLink);\n",
              "        }\n",
              "      </script>\n",
              "    </div>\n",
              "  </div>\n",
              "  "
            ]
          },
          "metadata": {},
          "execution_count": 52
        }
      ]
    },
    {
      "cell_type": "code",
      "execution_count": 53,
      "id": "05b64cf1",
      "metadata": {
        "id": "05b64cf1"
      },
      "outputs": [],
      "source": [
        "# Load Facebook data:\n",
        "# df = dd.read_csv('friend_requests.csv')"
      ]
    },
    {
      "cell_type": "code",
      "execution_count": 54,
      "id": "bab93f35",
      "metadata": {
        "colab": {
          "base_uri": "https://localhost:8080/"
        },
        "id": "bab93f35",
        "outputId": "4f27069b-fc0b-4557-98bb-80f83894fef4"
      },
      "outputs": [
        {
          "output_type": "stream",
          "name": "stdout",
          "text": [
            "Model Accuracy: 50.55\n"
          ]
        }
      ],
      "source": [
        "# Split the dataset into features (X) and the target variable (y)\n",
        "X = df[['source_node', 'destination_node']]\n",
        "\n",
        "# Generating a target variable where 1 indicates acceptance and 0 indicates non-acceptance\n",
        "def generate_accepted(df):\n",
        "    return np.random.choice([0, 1], size=len(df), p=[0.5, 0.5])\n",
        "\n",
        "X['accepted'] = X.map_partitions(generate_accepted, meta=('accepted', 'int'))\n",
        "\n",
        "# Convert Dask DataFrame to Pandas DataFrame\n",
        "X_pd = X.compute()\n",
        "\n",
        "# Split the data into training and testing sets using scikit-learn's train_test_split\n",
        "X_train_pd, X_test_pd, y_train, y_test = train_test_split(\n",
        "    X_pd[['source_node', 'destination_node']],\n",
        "    X_pd['accepted'],\n",
        "    test_size=0.2,\n",
        "    random_state=42\n",
        ")\n",
        "\n",
        "# Convert Pandas DataFrame back to Dask DataFrame\n",
        "X_train = dd.from_pandas(X_train_pd, npartitions=1)\n",
        "X_test = dd.from_pandas(X_test_pd, npartitions=1)\n",
        "\n",
        "# Create an XGBClassifier model and fit it on the training data\n",
        "model = XGBClassifier()\n",
        "model.fit(X_train, y_train)\n",
        "\n",
        "# Make predictions on the test data\n",
        "y_pred = model.predict(X_test)\n",
        "\n",
        "# Calculate the accuracy of the model\n",
        "accuracy = accuracy_score(y_test, y_pred)\n",
        "print(f\"Model Accuracy: {accuracy*100}\")"
      ]
    },
    {
      "cell_type": "code",
      "source": [
        "# Initialize and start an MLflow run to track the experiment\n",
        "mlflow.start_run()\n",
        "\n",
        "# Log the parameters, metrics, and model\n",
        "mlflow.log_params(model.get_params())\n",
        "mlflow.log_metric(\"accuracy\", accuracy)\n",
        "mlflow.sklearn.log_model(model, \"model\")\n",
        "\n",
        "# End the MLflow run\n",
        "mlflow.end_run()"
      ],
      "metadata": {
        "id": "zG2755gFM0eV"
      },
      "id": "zG2755gFM0eV",
      "execution_count": 55,
      "outputs": []
    },
    {
      "cell_type": "code",
      "execution_count": null,
      "id": "0de6caf8",
      "metadata": {
        "id": "0de6caf8"
      },
      "outputs": [],
      "source": []
    }
  ],
  "metadata": {
    "kernelspec": {
      "display_name": "Python 3 (ipykernel)",
      "language": "python",
      "name": "python3"
    },
    "language_info": {
      "codemirror_mode": {
        "name": "ipython",
        "version": 3
      },
      "file_extension": ".py",
      "mimetype": "text/x-python",
      "name": "python",
      "nbconvert_exporter": "python",
      "pygments_lexer": "ipython3",
      "version": "3.9.16"
    },
    "colab": {
      "provenance": []
    }
  },
  "nbformat": 4,
  "nbformat_minor": 5
}