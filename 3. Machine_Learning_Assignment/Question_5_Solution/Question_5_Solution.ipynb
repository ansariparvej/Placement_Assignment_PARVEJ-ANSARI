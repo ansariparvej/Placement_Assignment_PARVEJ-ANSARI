{
  "cells": [
    {
      "cell_type": "markdown",
      "id": "0c8c1a51",
      "metadata": {
        "id": "0c8c1a51"
      },
      "source": [
        "## Question_5_Solution:"
      ]
    },
    {
      "cell_type": "markdown",
      "id": "ef7e701f",
      "metadata": {
        "id": "ef7e701f"
      },
      "source": [
        "**Q-5.** Uber is a taxi service provider as we know, we need to predict the high\n",
        "booking area using an Unsupervised algorithm and price for the location using a\n",
        "supervised algorithm and use some map function to display the data\n",
        "Dataset This is the Dataset You can use this dataset for this question."
      ]
    },
    {
      "cell_type": "code",
      "execution_count": 1,
      "id": "0002eee6",
      "metadata": {
        "colab": {
          "base_uri": "https://localhost:8080/"
        },
        "id": "0002eee6",
        "outputId": "c99fe5fc-8b8e-490a-9a83-4e2fa386bda4"
      },
      "outputs": [
        {
          "output_type": "stream",
          "name": "stdout",
          "text": [
            "Looking in indexes: https://pypi.org/simple, https://us-python.pkg.dev/colab-wheels/public/simple/\n",
            "Requirement already satisfied: folium in /usr/local/lib/python3.10/dist-packages (0.14.0)\n",
            "Requirement already satisfied: branca>=0.6.0 in /usr/local/lib/python3.10/dist-packages (from folium) (0.6.0)\n",
            "Requirement already satisfied: jinja2>=2.9 in /usr/local/lib/python3.10/dist-packages (from folium) (3.1.2)\n",
            "Requirement already satisfied: numpy in /usr/local/lib/python3.10/dist-packages (from folium) (1.22.4)\n",
            "Requirement already satisfied: requests in /usr/local/lib/python3.10/dist-packages (from folium) (2.27.1)\n",
            "Requirement already satisfied: MarkupSafe>=2.0 in /usr/local/lib/python3.10/dist-packages (from jinja2>=2.9->folium) (2.1.2)\n",
            "Requirement already satisfied: urllib3<1.27,>=1.21.1 in /usr/local/lib/python3.10/dist-packages (from requests->folium) (1.26.15)\n",
            "Requirement already satisfied: certifi>=2017.4.17 in /usr/local/lib/python3.10/dist-packages (from requests->folium) (2022.12.7)\n",
            "Requirement already satisfied: charset-normalizer~=2.0.0 in /usr/local/lib/python3.10/dist-packages (from requests->folium) (2.0.12)\n",
            "Requirement already satisfied: idna<4,>=2.5 in /usr/local/lib/python3.10/dist-packages (from requests->folium) (3.4)\n"
          ]
        }
      ],
      "source": [
        "!pip install folium"
      ]
    },
    {
      "cell_type": "code",
      "execution_count": 2,
      "id": "028d3ce4",
      "metadata": {
        "id": "028d3ce4"
      },
      "outputs": [],
      "source": [
        "import pandas as pd\n",
        "import numpy as np\n",
        "from sklearn.cluster import KMeans  # Unsupervised algorithm or Clustering algorithm\n",
        "from sklearn.ensemble import RandomForestRegressor  # Supervised algorithm\n",
        "from sklearn.preprocessing import LabelEncoder\n",
        "from sklearn.model_selection import train_test_split\n",
        "from sklearn.metrics import mean_squared_error, r2_score\n",
        "\n",
        "import folium # mapping library"
      ]
    },
    {
      "cell_type": "code",
      "source": [
        "from google.colab import drive\n",
        "drive.mount('/content/drive')"
      ],
      "metadata": {
        "colab": {
          "base_uri": "https://localhost:8080/"
        },
        "id": "1uYIYN3MoboM",
        "outputId": "984baf82-3b0c-433c-ae6f-2084174ca9e2"
      },
      "id": "1uYIYN3MoboM",
      "execution_count": 3,
      "outputs": [
        {
          "output_type": "stream",
          "name": "stdout",
          "text": [
            "Mounted at /content/drive\n"
          ]
        }
      ]
    },
    {
      "cell_type": "code",
      "source": [
        "# Provide the path to your CSV file in Google Drive\n",
        "csv_path = '/content/drive/MyDrive/Colab Notebooks/Q5.csv'\n",
        "\n",
        "# Read the CSV file into a DataFrame\n",
        "df = pd.read_csv(csv_path)\n",
        "# Display the DataFrame\n",
        "df.head(2)\n"
      ],
      "metadata": {
        "colab": {
          "base_uri": "https://localhost:8080/",
          "height": 240
        },
        "id": "5KJr9X4HnfYU",
        "outputId": "06c572b5-6f65-4324-e756-d9e2c18de9b8"
      },
      "id": "5KJr9X4HnfYU",
      "execution_count": 55,
      "outputs": [
        {
          "output_type": "execute_result",
          "data": {
            "text/plain": [
              "                                     id     timestamp  hour  day  month  \\\n",
              "0  c03059f5-0d57-482f-a7b1-5b5841d3d51e  1.543275e+09    23   26     11   \n",
              "1  50367894-71e8-48cf-a678-c76de800ebd6  1.543453e+09     0   29     11   \n",
              "\n",
              "              datetime          timezone         source        destination  \\\n",
              "0  2018-11-26 23:33:14  America/New_York       West End  Boston University   \n",
              "1  2018-11-29 00:51:47  America/New_York  South Station           West End   \n",
              "\n",
              "  cab_type  ... precipIntensityMax uvIndexTime  temperatureMin  \\\n",
              "0     Uber  ...             0.1225  1543251600           40.45   \n",
              "1     Lyft  ...             0.0000  1543420800           33.82   \n",
              "\n",
              "   temperatureMinTime  temperatureMax  temperatureMaxTime  \\\n",
              "0          1543233600           46.49          1543255200   \n",
              "1          1543399200           42.72          1543438800   \n",
              "\n",
              "   apparentTemperatureMin  apparentTemperatureMinTime  apparentTemperatureMax  \\\n",
              "0                   37.17                  1543291200                   43.84   \n",
              "1                   30.19                  1543399200                   36.75   \n",
              "\n",
              "  apparentTemperatureMaxTime  \n",
              "0                 1543244400  \n",
              "1                 1543438800  \n",
              "\n",
              "[2 rows x 57 columns]"
            ],
            "text/html": [
              "\n",
              "  <div id=\"df-2e37ece4-cafd-4b30-b033-8e7217be12bb\">\n",
              "    <div class=\"colab-df-container\">\n",
              "      <div>\n",
              "<style scoped>\n",
              "    .dataframe tbody tr th:only-of-type {\n",
              "        vertical-align: middle;\n",
              "    }\n",
              "\n",
              "    .dataframe tbody tr th {\n",
              "        vertical-align: top;\n",
              "    }\n",
              "\n",
              "    .dataframe thead th {\n",
              "        text-align: right;\n",
              "    }\n",
              "</style>\n",
              "<table border=\"1\" class=\"dataframe\">\n",
              "  <thead>\n",
              "    <tr style=\"text-align: right;\">\n",
              "      <th></th>\n",
              "      <th>id</th>\n",
              "      <th>timestamp</th>\n",
              "      <th>hour</th>\n",
              "      <th>day</th>\n",
              "      <th>month</th>\n",
              "      <th>datetime</th>\n",
              "      <th>timezone</th>\n",
              "      <th>source</th>\n",
              "      <th>destination</th>\n",
              "      <th>cab_type</th>\n",
              "      <th>...</th>\n",
              "      <th>precipIntensityMax</th>\n",
              "      <th>uvIndexTime</th>\n",
              "      <th>temperatureMin</th>\n",
              "      <th>temperatureMinTime</th>\n",
              "      <th>temperatureMax</th>\n",
              "      <th>temperatureMaxTime</th>\n",
              "      <th>apparentTemperatureMin</th>\n",
              "      <th>apparentTemperatureMinTime</th>\n",
              "      <th>apparentTemperatureMax</th>\n",
              "      <th>apparentTemperatureMaxTime</th>\n",
              "    </tr>\n",
              "  </thead>\n",
              "  <tbody>\n",
              "    <tr>\n",
              "      <th>0</th>\n",
              "      <td>c03059f5-0d57-482f-a7b1-5b5841d3d51e</td>\n",
              "      <td>1.543275e+09</td>\n",
              "      <td>23</td>\n",
              "      <td>26</td>\n",
              "      <td>11</td>\n",
              "      <td>2018-11-26 23:33:14</td>\n",
              "      <td>America/New_York</td>\n",
              "      <td>West End</td>\n",
              "      <td>Boston University</td>\n",
              "      <td>Uber</td>\n",
              "      <td>...</td>\n",
              "      <td>0.1225</td>\n",
              "      <td>1543251600</td>\n",
              "      <td>40.45</td>\n",
              "      <td>1543233600</td>\n",
              "      <td>46.49</td>\n",
              "      <td>1543255200</td>\n",
              "      <td>37.17</td>\n",
              "      <td>1543291200</td>\n",
              "      <td>43.84</td>\n",
              "      <td>1543244400</td>\n",
              "    </tr>\n",
              "    <tr>\n",
              "      <th>1</th>\n",
              "      <td>50367894-71e8-48cf-a678-c76de800ebd6</td>\n",
              "      <td>1.543453e+09</td>\n",
              "      <td>0</td>\n",
              "      <td>29</td>\n",
              "      <td>11</td>\n",
              "      <td>2018-11-29 00:51:47</td>\n",
              "      <td>America/New_York</td>\n",
              "      <td>South Station</td>\n",
              "      <td>West End</td>\n",
              "      <td>Lyft</td>\n",
              "      <td>...</td>\n",
              "      <td>0.0000</td>\n",
              "      <td>1543420800</td>\n",
              "      <td>33.82</td>\n",
              "      <td>1543399200</td>\n",
              "      <td>42.72</td>\n",
              "      <td>1543438800</td>\n",
              "      <td>30.19</td>\n",
              "      <td>1543399200</td>\n",
              "      <td>36.75</td>\n",
              "      <td>1543438800</td>\n",
              "    </tr>\n",
              "  </tbody>\n",
              "</table>\n",
              "<p>2 rows × 57 columns</p>\n",
              "</div>\n",
              "      <button class=\"colab-df-convert\" onclick=\"convertToInteractive('df-2e37ece4-cafd-4b30-b033-8e7217be12bb')\"\n",
              "              title=\"Convert this dataframe to an interactive table.\"\n",
              "              style=\"display:none;\">\n",
              "        \n",
              "  <svg xmlns=\"http://www.w3.org/2000/svg\" height=\"24px\"viewBox=\"0 0 24 24\"\n",
              "       width=\"24px\">\n",
              "    <path d=\"M0 0h24v24H0V0z\" fill=\"none\"/>\n",
              "    <path d=\"M18.56 5.44l.94 2.06.94-2.06 2.06-.94-2.06-.94-.94-2.06-.94 2.06-2.06.94zm-11 1L8.5 8.5l.94-2.06 2.06-.94-2.06-.94L8.5 2.5l-.94 2.06-2.06.94zm10 10l.94 2.06.94-2.06 2.06-.94-2.06-.94-.94-2.06-.94 2.06-2.06.94z\"/><path d=\"M17.41 7.96l-1.37-1.37c-.4-.4-.92-.59-1.43-.59-.52 0-1.04.2-1.43.59L10.3 9.45l-7.72 7.72c-.78.78-.78 2.05 0 2.83L4 21.41c.39.39.9.59 1.41.59.51 0 1.02-.2 1.41-.59l7.78-7.78 2.81-2.81c.8-.78.8-2.07 0-2.86zM5.41 20L4 18.59l7.72-7.72 1.47 1.35L5.41 20z\"/>\n",
              "  </svg>\n",
              "      </button>\n",
              "      \n",
              "  <style>\n",
              "    .colab-df-container {\n",
              "      display:flex;\n",
              "      flex-wrap:wrap;\n",
              "      gap: 12px;\n",
              "    }\n",
              "\n",
              "    .colab-df-convert {\n",
              "      background-color: #E8F0FE;\n",
              "      border: none;\n",
              "      border-radius: 50%;\n",
              "      cursor: pointer;\n",
              "      display: none;\n",
              "      fill: #1967D2;\n",
              "      height: 32px;\n",
              "      padding: 0 0 0 0;\n",
              "      width: 32px;\n",
              "    }\n",
              "\n",
              "    .colab-df-convert:hover {\n",
              "      background-color: #E2EBFA;\n",
              "      box-shadow: 0px 1px 2px rgba(60, 64, 67, 0.3), 0px 1px 3px 1px rgba(60, 64, 67, 0.15);\n",
              "      fill: #174EA6;\n",
              "    }\n",
              "\n",
              "    [theme=dark] .colab-df-convert {\n",
              "      background-color: #3B4455;\n",
              "      fill: #D2E3FC;\n",
              "    }\n",
              "\n",
              "    [theme=dark] .colab-df-convert:hover {\n",
              "      background-color: #434B5C;\n",
              "      box-shadow: 0px 1px 3px 1px rgba(0, 0, 0, 0.15);\n",
              "      filter: drop-shadow(0px 1px 2px rgba(0, 0, 0, 0.3));\n",
              "      fill: #FFFFFF;\n",
              "    }\n",
              "  </style>\n",
              "\n",
              "      <script>\n",
              "        const buttonEl =\n",
              "          document.querySelector('#df-2e37ece4-cafd-4b30-b033-8e7217be12bb button.colab-df-convert');\n",
              "        buttonEl.style.display =\n",
              "          google.colab.kernel.accessAllowed ? 'block' : 'none';\n",
              "\n",
              "        async function convertToInteractive(key) {\n",
              "          const element = document.querySelector('#df-2e37ece4-cafd-4b30-b033-8e7217be12bb');\n",
              "          const dataTable =\n",
              "            await google.colab.kernel.invokeFunction('convertToInteractive',\n",
              "                                                     [key], {});\n",
              "          if (!dataTable) return;\n",
              "\n",
              "          const docLinkHtml = 'Like what you see? Visit the ' +\n",
              "            '<a target=\"_blank\" href=https://colab.research.google.com/notebooks/data_table.ipynb>data table notebook</a>'\n",
              "            + ' to learn more about interactive tables.';\n",
              "          element.innerHTML = '';\n",
              "          dataTable['output_type'] = 'display_data';\n",
              "          await google.colab.output.renderOutput(dataTable, element);\n",
              "          const docLink = document.createElement('div');\n",
              "          docLink.innerHTML = docLinkHtml;\n",
              "          element.appendChild(docLink);\n",
              "        }\n",
              "      </script>\n",
              "    </div>\n",
              "  </div>\n",
              "  "
            ]
          },
          "metadata": {},
          "execution_count": 55
        }
      ]
    },
    {
      "cell_type": "code",
      "execution_count": 56,
      "id": "aa3a690a",
      "metadata": {
        "colab": {
          "base_uri": "https://localhost:8080/"
        },
        "id": "aa3a690a",
        "outputId": "6bfe365c-499f-48bf-af32-d42b8a4f2d81"
      },
      "outputs": [
        {
          "output_type": "execute_result",
          "data": {
            "text/plain": [
              "(30000, 57)"
            ]
          },
          "metadata": {},
          "execution_count": 56
        }
      ],
      "source": [
        "df.shape"
      ]
    },
    {
      "cell_type": "code",
      "execution_count": 57,
      "id": "e776c67f",
      "metadata": {
        "colab": {
          "base_uri": "https://localhost:8080/"
        },
        "id": "e776c67f",
        "outputId": "6d7821b4-26c9-45fb-eb29-2037cb6d1c0b"
      },
      "outputs": [
        {
          "output_type": "stream",
          "name": "stdout",
          "text": [
            "<class 'pandas.core.frame.DataFrame'>\n",
            "RangeIndex: 30000 entries, 0 to 29999\n",
            "Data columns (total 57 columns):\n",
            " #   Column                       Non-Null Count  Dtype  \n",
            "---  ------                       --------------  -----  \n",
            " 0   id                           30000 non-null  object \n",
            " 1   timestamp                    30000 non-null  float64\n",
            " 2   hour                         30000 non-null  int64  \n",
            " 3   day                          30000 non-null  int64  \n",
            " 4   month                        30000 non-null  int64  \n",
            " 5   datetime                     30000 non-null  object \n",
            " 6   timezone                     30000 non-null  object \n",
            " 7   source                       30000 non-null  object \n",
            " 8   destination                  30000 non-null  object \n",
            " 9   cab_type                     30000 non-null  object \n",
            " 10  product_id                   30000 non-null  object \n",
            " 11  name                         30000 non-null  object \n",
            " 12  price                        27637 non-null  float64\n",
            " 13  distance                     30000 non-null  float64\n",
            " 14  surge_multiplier             30000 non-null  float64\n",
            " 15  latitude                     30000 non-null  float64\n",
            " 16  longitude                    30000 non-null  float64\n",
            " 17  temperature                  30000 non-null  float64\n",
            " 18  apparentTemperature          30000 non-null  float64\n",
            " 19  short_summary                30000 non-null  object \n",
            " 20  long_summary                 30000 non-null  object \n",
            " 21  precipIntensity              30000 non-null  float64\n",
            " 22  precipProbability            30000 non-null  float64\n",
            " 23  humidity                     30000 non-null  float64\n",
            " 24  windSpeed                    30000 non-null  float64\n",
            " 25  windGust                     30000 non-null  float64\n",
            " 26  windGustTime                 30000 non-null  int64  \n",
            " 27  visibility                   30000 non-null  float64\n",
            " 28  temperatureHigh              30000 non-null  float64\n",
            " 29  temperatureHighTime          30000 non-null  int64  \n",
            " 30  temperatureLow               30000 non-null  float64\n",
            " 31  temperatureLowTime           30000 non-null  int64  \n",
            " 32  apparentTemperatureHigh      30000 non-null  float64\n",
            " 33  apparentTemperatureHighTime  30000 non-null  int64  \n",
            " 34  apparentTemperatureLow       30000 non-null  float64\n",
            " 35  apparentTemperatureLowTime   30000 non-null  int64  \n",
            " 36  icon                         30000 non-null  object \n",
            " 37  dewPoint                     30000 non-null  float64\n",
            " 38  pressure                     30000 non-null  float64\n",
            " 39  windBearing                  30000 non-null  int64  \n",
            " 40  cloudCover                   30000 non-null  float64\n",
            " 41  uvIndex                      30000 non-null  int64  \n",
            " 42  visibility.1                 30000 non-null  float64\n",
            " 43  ozone                        30000 non-null  float64\n",
            " 44  sunriseTime                  30000 non-null  int64  \n",
            " 45  sunsetTime                   30000 non-null  int64  \n",
            " 46  moonPhase                    30000 non-null  float64\n",
            " 47  precipIntensityMax           30000 non-null  float64\n",
            " 48  uvIndexTime                  30000 non-null  int64  \n",
            " 49  temperatureMin               30000 non-null  float64\n",
            " 50  temperatureMinTime           30000 non-null  int64  \n",
            " 51  temperatureMax               30000 non-null  float64\n",
            " 52  temperatureMaxTime           30000 non-null  int64  \n",
            " 53  apparentTemperatureMin       30000 non-null  float64\n",
            " 54  apparentTemperatureMinTime   30000 non-null  int64  \n",
            " 55  apparentTemperatureMax       30000 non-null  float64\n",
            " 56  apparentTemperatureMaxTime   30000 non-null  int64  \n",
            "dtypes: float64(29), int64(17), object(11)\n",
            "memory usage: 13.0+ MB\n"
          ]
        }
      ],
      "source": [
        "df.info()"
      ]
    },
    {
      "cell_type": "code",
      "execution_count": 58,
      "id": "6c131a75",
      "metadata": {
        "colab": {
          "base_uri": "https://localhost:8080/"
        },
        "id": "6c131a75",
        "outputId": "1edd8fc6-4e41-4c8f-f59e-c6ea7237bfee"
      },
      "outputs": [
        {
          "output_type": "execute_result",
          "data": {
            "text/plain": [
              "Index(['id', 'timestamp', 'hour', 'day', 'month', 'datetime', 'timezone',\n",
              "       'source', 'destination', 'cab_type', 'product_id', 'name', 'price',\n",
              "       'distance', 'surge_multiplier', 'latitude', 'longitude', 'temperature',\n",
              "       'apparentTemperature', 'short_summary', 'long_summary',\n",
              "       'precipIntensity', 'precipProbability', 'humidity', 'windSpeed',\n",
              "       'windGust', 'windGustTime', 'visibility', 'temperatureHigh',\n",
              "       'temperatureHighTime', 'temperatureLow', 'temperatureLowTime',\n",
              "       'apparentTemperatureHigh', 'apparentTemperatureHighTime',\n",
              "       'apparentTemperatureLow', 'apparentTemperatureLowTime', 'icon',\n",
              "       'dewPoint', 'pressure', 'windBearing', 'cloudCover', 'uvIndex',\n",
              "       'visibility.1', 'ozone', 'sunriseTime', 'sunsetTime', 'moonPhase',\n",
              "       'precipIntensityMax', 'uvIndexTime', 'temperatureMin',\n",
              "       'temperatureMinTime', 'temperatureMax', 'temperatureMaxTime',\n",
              "       'apparentTemperatureMin', 'apparentTemperatureMinTime',\n",
              "       'apparentTemperatureMax', 'apparentTemperatureMaxTime'],\n",
              "      dtype='object')"
            ]
          },
          "metadata": {},
          "execution_count": 58
        }
      ],
      "source": [
        "cols = df.columns\n",
        "cols"
      ]
    },
    {
      "cell_type": "code",
      "execution_count": 59,
      "id": "4d87c0b9",
      "metadata": {
        "colab": {
          "base_uri": "https://localhost:8080/"
        },
        "id": "4d87c0b9",
        "outputId": "8e4eccc2-7790-4199-87bb-c07895558d97"
      },
      "outputs": [
        {
          "output_type": "stream",
          "name": "stdout",
          "text": [
            "We have 46 numerical features : ['timestamp', 'hour', 'day', 'month', 'price', 'distance', 'surge_multiplier', 'latitude', 'longitude', 'temperature', 'apparentTemperature', 'precipIntensity', 'precipProbability', 'humidity', 'windSpeed', 'windGust', 'windGustTime', 'visibility', 'temperatureHigh', 'temperatureHighTime', 'temperatureLow', 'temperatureLowTime', 'apparentTemperatureHigh', 'apparentTemperatureHighTime', 'apparentTemperatureLow', 'apparentTemperatureLowTime', 'dewPoint', 'pressure', 'windBearing', 'cloudCover', 'uvIndex', 'visibility.1', 'ozone', 'sunriseTime', 'sunsetTime', 'moonPhase', 'precipIntensityMax', 'uvIndexTime', 'temperatureMin', 'temperatureMinTime', 'temperatureMax', 'temperatureMaxTime', 'apparentTemperatureMin', 'apparentTemperatureMinTime', 'apparentTemperatureMax', 'apparentTemperatureMaxTime']\n",
            "\n",
            "We have 11 categorical features : ['id', 'datetime', 'timezone', 'source', 'destination', 'cab_type', 'product_id', 'name', 'short_summary', 'long_summary', 'icon']\n"
          ]
        }
      ],
      "source": [
        "# define numerical & categorical columns\n",
        "numeric_features = [feature for feature in df.columns if df[feature].dtype != 'O']\n",
        "categorical_features = [feature for feature in df.columns if df[feature].dtype == 'O']\n",
        "\n",
        "# print columns\n",
        "print('We have {} numerical features : {}'.format(len(numeric_features), numeric_features))\n",
        "print('\\nWe have {} categorical features : {}'.format(len(categorical_features), categorical_features))"
      ]
    },
    {
      "cell_type": "code",
      "execution_count": 60,
      "id": "d592fe4c",
      "metadata": {
        "colab": {
          "base_uri": "https://localhost:8080/"
        },
        "id": "d592fe4c",
        "outputId": "5d8e1c3b-966d-47dc-c8d1-7039a8917eea"
      },
      "outputs": [
        {
          "output_type": "execute_result",
          "data": {
            "text/plain": [
              "2363"
            ]
          },
          "metadata": {},
          "execution_count": 60
        }
      ],
      "source": [
        "df['price'].isnull().sum()"
      ]
    },
    {
      "cell_type": "code",
      "execution_count": 61,
      "id": "c752229d",
      "metadata": {
        "id": "c752229d"
      },
      "outputs": [],
      "source": [
        "# Replace null values in the \"price\" column with the mean value\n",
        "df['price'] = df['price'].fillna(df['price'].mean())"
      ]
    },
    {
      "cell_type": "code",
      "execution_count": 62,
      "id": "abb79020",
      "metadata": {
        "colab": {
          "base_uri": "https://localhost:8080/"
        },
        "id": "abb79020",
        "outputId": "cd20a3fd-20ad-4b67-f372-0fdaa29eea6c"
      },
      "outputs": [
        {
          "output_type": "execute_result",
          "data": {
            "text/plain": [
              "0"
            ]
          },
          "metadata": {},
          "execution_count": 62
        }
      ],
      "source": [
        "df['price'].isnull().sum()"
      ]
    },
    {
      "cell_type": "code",
      "execution_count": 63,
      "id": "8558a277",
      "metadata": {
        "colab": {
          "base_uri": "https://localhost:8080/"
        },
        "id": "8558a277",
        "outputId": "0dbfa2f6-0cf4-460b-e8a3-a64264f1bf28"
      },
      "outputs": [
        {
          "output_type": "execute_result",
          "data": {
            "text/plain": [
              "0        2018-11-26 23:33:14\n",
              "1        2018-11-29 00:51:47\n",
              "2        2018-12-03 19:07:59\n",
              "3        2018-11-26 10:14:10\n",
              "4        2018-12-15 14:20:15\n",
              "                ...         \n",
              "29995    2018-11-26 17:02:10\n",
              "29996    2018-12-03 07:43:03\n",
              "29997    2018-12-18 09:20:05\n",
              "29998    2018-12-01 15:28:01\n",
              "29999    2018-11-26 03:40:46\n",
              "Name: datetime, Length: 30000, dtype: object"
            ]
          },
          "metadata": {},
          "execution_count": 63
        }
      ],
      "source": [
        "df['datetime']"
      ]
    },
    {
      "cell_type": "code",
      "execution_count": 64,
      "id": "2f62069b",
      "metadata": {
        "colab": {
          "base_uri": "https://localhost:8080/"
        },
        "id": "2f62069b",
        "outputId": "2ab50dc9-ebdc-47d1-d5fd-a015d7b48214"
      },
      "outputs": [
        {
          "output_type": "execute_result",
          "data": {
            "text/plain": [
              "array(['West End', 'South Station', 'Beacon Hill', 'Haymarket Square',\n",
              "       'Back Bay', 'North Station', 'Northeastern University',\n",
              "       'Boston University', 'Financial District', 'North End',\n",
              "       'Theatre District', 'Fenway'], dtype=object)"
            ]
          },
          "metadata": {},
          "execution_count": 64
        }
      ],
      "source": [
        "df['source'].unique()"
      ]
    },
    {
      "cell_type": "code",
      "execution_count": 65,
      "id": "83fc2221",
      "metadata": {
        "colab": {
          "base_uri": "https://localhost:8080/"
        },
        "id": "83fc2221",
        "outputId": "68e32f49-d301-4907-9ca4-2a4e1080b9f5"
      },
      "outputs": [
        {
          "output_type": "execute_result",
          "data": {
            "text/plain": [
              "array(['Boston University', 'West End', 'Beacon Hill', 'North End',\n",
              "       'Northeastern University', 'Back Bay', 'Fenway', 'North Station',\n",
              "       'South Station', 'Theatre District', 'Haymarket Square',\n",
              "       'Financial District'], dtype=object)"
            ]
          },
          "metadata": {},
          "execution_count": 65
        }
      ],
      "source": [
        "df['destination'].unique()"
      ]
    },
    {
      "cell_type": "code",
      "source": [
        "# Unsupervised learning - Clustering\n",
        "X = df[['latitude', 'longitude']]\n",
        "kmeans = KMeans(n_clusters=5)\n",
        "kmeans.fit(X)\n",
        "df['cluster'] = kmeans.labels_"
      ],
      "metadata": {
        "colab": {
          "base_uri": "https://localhost:8080/"
        },
        "id": "bzcQ7f6VOPvq",
        "outputId": "78bfce58-438f-468e-8c17-4ed39d13e49f"
      },
      "id": "bzcQ7f6VOPvq",
      "execution_count": 66,
      "outputs": [
        {
          "output_type": "stream",
          "name": "stderr",
          "text": [
            "/usr/local/lib/python3.10/dist-packages/sklearn/cluster/_kmeans.py:870: FutureWarning: The default value of `n_init` will change from 10 to 'auto' in 1.4. Set the value of `n_init` explicitly to suppress the warning\n",
            "  warnings.warn(\n"
          ]
        }
      ]
    },
    {
      "cell_type": "code",
      "source": [
        "# Supervised learning - Regression\n",
        "X_reg = df[['latitude', 'longitude']]\n",
        "y_reg = df['price']\n",
        "reg_model = RandomForestRegressor()\n",
        "reg_model.fit(X_reg, y_reg)\n",
        "df['predicted_price'] = reg_model.predict(X_reg)"
      ],
      "metadata": {
        "id": "xcUiQt7HOx7i"
      },
      "id": "xcUiQt7HOx7i",
      "execution_count": 67,
      "outputs": []
    },
    {
      "cell_type": "code",
      "execution_count": 69,
      "id": "71f3d938",
      "metadata": {
        "id": "71f3d938"
      },
      "outputs": [],
      "source": [
        "# Map visualization\n",
        "center_lat, center_lng = np.mean(df['latitude']), np.mean(df['longitude'])\n",
        "m = folium.Map(location=[center_lat, center_lng], zoom_start=10)\n",
        "\n",
        "for index, row in df.iterrows():\n",
        "    folium.CircleMarker(\n",
        "        location=[row['latitude'], row['longitude']],\n",
        "        radius=5,\n",
        "        color='blue',\n",
        "        fill=True,\n",
        "        fill_color='blue',\n",
        "        popup=f\"Cluster: {row['cluster']}, Price: {row['predicted_price']}\"\n",
        "    ).add_to(m)\n",
        "\n",
        "m.save('map.html')"
      ]
    }
  ],
  "metadata": {
    "kernelspec": {
      "display_name": "Python 3 (ipykernel)",
      "language": "python",
      "name": "python3"
    },
    "language_info": {
      "codemirror_mode": {
        "name": "ipython",
        "version": 3
      },
      "file_extension": ".py",
      "mimetype": "text/x-python",
      "name": "python",
      "nbconvert_exporter": "python",
      "pygments_lexer": "ipython3",
      "version": "3.9.16"
    },
    "colab": {
      "provenance": [],
      "gpuType": "T4"
    },
    "accelerator": "GPU",
    "gpuClass": "standard"
  },
  "nbformat": 4,
  "nbformat_minor": 5
}