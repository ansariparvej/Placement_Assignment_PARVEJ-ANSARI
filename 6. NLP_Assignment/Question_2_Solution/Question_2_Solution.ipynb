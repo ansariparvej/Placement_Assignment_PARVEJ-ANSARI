{
 "cells": [
  {
   "cell_type": "markdown",
   "id": "0c8c1a51",
   "metadata": {},
   "source": [
    "## Question_2_Solution:"
   ]
  },
  {
   "cell_type": "code",
   "execution_count": 2,
   "id": "ae2508f4",
   "metadata": {},
   "outputs": [
    {
     "name": "stdout",
     "output_type": "stream",
     "text": [
      "Collecting PyPDF2\n",
      "  Downloading pypdf2-3.0.1-py3-none-any.whl (232 kB)\n",
      "\u001b[2K     \u001b[38;2;114;156;31m━━━━━━━━━━━━━━━━━━━━━━━━━━━━━━━━━━━━━\u001b[0m \u001b[32m232.6/232.6 kB\u001b[0m \u001b[31m425.8 kB/s\u001b[0m eta \u001b[36m0:00:00\u001b[0m1m481.4 kB/s\u001b[0m eta \u001b[36m0:00:01\u001b[0m\n",
      "\u001b[?25hRequirement already satisfied: typing_extensions>=3.10.0.0 in /home/ali/anaconda3/lib/python3.9/site-packages (from PyPDF2) (4.5.0)\n",
      "Installing collected packages: PyPDF2\n",
      "Successfully installed PyPDF2-3.0.1\n"
     ]
    }
   ],
   "source": [
    "!pip install PyPDF2"
   ]
  },
  {
   "cell_type": "code",
   "execution_count": 24,
   "id": "16802449",
   "metadata": {},
   "outputs": [],
   "source": [
    "import csv\n",
    "import PyPDF2"
   ]
  },
  {
   "cell_type": "code",
   "execution_count": 8,
   "id": "55d80110",
   "metadata": {},
   "outputs": [
    {
     "data": {
      "text/plain": [
       "'/home/ali/Documents/FSDS/Assignment_PARVEJ/6. NLP_Assignment'"
      ]
     },
     "execution_count": 8,
     "metadata": {},
     "output_type": "execute_result"
    }
   ],
   "source": [
    "%pwd"
   ]
  },
  {
   "cell_type": "code",
   "execution_count": 31,
   "id": "50769e33",
   "metadata": {
    "scrolled": false
   },
   "outputs": [
    {
     "name": "stdout",
     "output_type": "stream",
     "text": [
      "Text extracted and stored in output.csv\n"
     ]
    }
   ],
   "source": [
    "# Open and read the PDF file:\n",
    "\n",
    "pdf_file = 'data_to_utilise/Q2.pdf'\n",
    "\n",
    "with open(pdf_file, 'rb') as file:\n",
    "    pdf_reader = PyPDF2.PdfReader(file)\n",
    "\n",
    "    text_data = []\n",
    "    for page in pdf_reader.pages:\n",
    "        text_data.append(page.extract_text())\n",
    "    #print(text_data)\n",
    "    \n",
    "# saving to csv file:\n",
    "                \n",
    "csv_file = open('Question_2_Solution.csv', 'w', newline='')\n",
    "csv_writer = csv.writer(csv_file)\n",
    "\n",
    "for text in text_data:\n",
    "    csv_writer.writerow([text])\n",
    "\n",
    "csv_file.close()\n",
    "print('Text extracted and stored in output.csv')\n"
   ]
  },
  {
   "cell_type": "code",
   "execution_count": 32,
   "id": "3c484d79",
   "metadata": {},
   "outputs": [
    {
     "name": "stdout",
     "output_type": "stream",
     "text": [
      "The most repeated word is: the\n"
     ]
    }
   ],
   "source": [
    "import re\n",
    "from collections import Counter\n",
    "\n",
    "# Concatenate the text from all elements in the list\n",
    "full_text = ' '.join(text_data)\n",
    "\n",
    "# Split the text into individual words\n",
    "words = re.findall(r'\\w+', full_text.lower())\n",
    "\n",
    "# Count the frequency of each word\n",
    "word_counts = Counter(words)\n",
    "\n",
    "# Find the most repeated word\n",
    "most_common_word = word_counts.most_common(1)[0][0]\n",
    "\n",
    "# Print the most repeated word\n",
    "print(\"The most repeated word is:\", most_common_word)\n"
   ]
  },
  {
   "cell_type": "code",
   "execution_count": null,
   "id": "bebb6c63",
   "metadata": {},
   "outputs": [],
   "source": []
  }
 ],
 "metadata": {
  "kernelspec": {
   "display_name": "Python 3 (ipykernel)",
   "language": "python",
   "name": "python3"
  },
  "language_info": {
   "codemirror_mode": {
    "name": "ipython",
    "version": 3
   },
   "file_extension": ".py",
   "mimetype": "text/x-python",
   "name": "python",
   "nbconvert_exporter": "python",
   "pygments_lexer": "ipython3",
   "version": "3.9.16"
  }
 },
 "nbformat": 4,
 "nbformat_minor": 5
}
