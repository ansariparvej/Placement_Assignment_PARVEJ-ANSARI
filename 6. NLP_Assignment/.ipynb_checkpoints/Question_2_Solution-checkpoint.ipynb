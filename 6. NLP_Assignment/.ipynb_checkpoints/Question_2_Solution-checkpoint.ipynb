{
 "cells": [
  {
   "cell_type": "markdown",
   "id": "0c8c1a51",
   "metadata": {},
   "source": [
    "## Question_2_Solution:"
   ]
  },
  {
   "cell_type": "code",
   "execution_count": 1,
   "id": "16802449",
   "metadata": {},
   "outputs": [
    {
     "name": "stdout",
     "output_type": "stream",
     "text": [
      "highest_frequency_word_length_given_string:  5\n",
      "highest_frequency_word_length_string_1:  7\n",
      "highest_frequency_word_length_string_2:  6\n"
     ]
    }
   ],
   "source": [
    "import csv\n",
    "import PyPDF2\n",
    "from collections import Counter\n",
    "from nltk.tokenize import word_tokenize\n",
    "from nltk.corpus import stopwords"
   ]
  },
  {
   "cell_type": "code",
   "execution_count": null,
   "id": "0764d288",
   "metadata": {},
   "outputs": [],
   "source": [
    "# Open and read the PDF file\n",
    "pdf_file = 'your_file.pdf'\n",
    "with open(pdf_file, 'rb') as file:\n",
    "    pdf_reader = PyPDF2.PdfReader(file)\n",
    "    num_pages = len(pdf_reader.pages)\n",
    "\n",
    "    # Extract text from the PDF\n",
    "    text = ''\n",
    "    for page_num in range(num_pages):\n",
    "        page = pdf_reader.pages[page_num]\n",
    "        text += page.extract_text()\n",
    "\n",
    "# Preprocess the text\n",
    "lowercase_text = text.lower()\n",
    "tokens = word_tokenize(lowercase_text)\n",
    "stopwords_list = set(stopwords.words('english'))\n",
    "preprocessed_tokens = [token for token in tokens if token.isalpha() and token not in stopwords_list]\n",
    "\n",
    "# Count word frequency\n",
    "word_freq = Counter(preprocessed_tokens)\n",
    "\n",
    "# Find the most repeated word\n",
    "most_repeated_word = word_freq.most_common(1)[0][0]\n",
    "\n",
    "# Store the extracted text and word frequency in a CSV file\n",
    "csv_file = 'output.csv'\n",
    "with open(csv_file, 'w', newline='') as file:\n",
    "    writer = csv.writer(file)\n",
    "    writer.writerow(['Extracted Text', 'Word Frequency'])\n",
    "    writer.writerow([text, word_freq])\n",
    "\n",
    "print('Text extracted and stored in output.csv')\n",
    "print('Most repeated word:', most_repeated_word)\n"
   ]
  },
  {
   "cell_type": "markdown",
   "id": "26018370",
   "metadata": {},
   "source": [
    "\n",
    "**Additional Test Cases:**\n",
    "- String_1: \"Twinkle Twinkle Little Star Lyrics\"\n",
    "- Output: 7\n",
    "- Explanation: The word \"Twinkle\" appears two times, which is the highest frequency, and its length is 7.\n",
    "\n",
    "- String_2: \"apple apple apple banana orange orange orange orange\"\n",
    "- Output: 6\n",
    "- Explanation: The words \"apple\" and \"orange\" both appear three times, but \"apple\" has a length of 5, while \"orange\" has a length of 6. Therefore, the length of the highest-frequency word is 6."
   ]
  },
  {
   "cell_type": "code",
   "execution_count": null,
   "id": "3c484d79",
   "metadata": {},
   "outputs": [],
   "source": []
  }
 ],
 "metadata": {
  "kernelspec": {
   "display_name": "Python 3 (ipykernel)",
   "language": "python",
   "name": "python3"
  },
  "language_info": {
   "codemirror_mode": {
    "name": "ipython",
    "version": 3
   },
   "file_extension": ".py",
   "mimetype": "text/x-python",
   "name": "python",
   "nbconvert_exporter": "python",
   "pygments_lexer": "ipython3",
   "version": "3.9.16"
  }
 },
 "nbformat": 4,
 "nbformat_minor": 5
}
