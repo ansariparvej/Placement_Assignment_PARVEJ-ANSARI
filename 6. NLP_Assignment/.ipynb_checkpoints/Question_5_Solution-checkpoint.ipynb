{
 "cells": [
  {
   "cell_type": "markdown",
   "id": "0c8c1a51",
   "metadata": {},
   "source": [
    "## Question_5_Solution:"
   ]
  },
  {
   "cell_type": "code",
   "execution_count": 2,
   "id": "1df6adf8",
   "metadata": {},
   "outputs": [
    {
     "name": "stdout",
     "output_type": "stream",
     "text": [
      "Collecting fasttext\n",
      "  Downloading fasttext-0.9.2.tar.gz (68 kB)\n",
      "\u001b[2K     \u001b[38;2;114;156;31m━━━━━━━━━━━━━━━━━━━━━━━━━━━━━━━━━━━━━━━\u001b[0m \u001b[32m68.8/68.8 kB\u001b[0m \u001b[31m513.2 kB/s\u001b[0m eta \u001b[36m0:00:00\u001b[0m1m982.7 kB/s\u001b[0m eta \u001b[36m0:00:01\u001b[0m\n",
      "\u001b[?25h  Preparing metadata (setup.py) ... \u001b[?25ldone\n",
      "\u001b[?25hCollecting pybind11>=2.2\n",
      "  Using cached pybind11-2.10.4-py3-none-any.whl (222 kB)\n",
      "Requirement already satisfied: setuptools>=0.7.0 in /home/ali/anaconda3/lib/python3.9/site-packages (from fasttext) (66.0.0)\n",
      "Requirement already satisfied: numpy in /home/ali/anaconda3/lib/python3.9/site-packages (from fasttext) (1.23.5)\n",
      "Building wheels for collected packages: fasttext\n",
      "  Building wheel for fasttext (setup.py) ... \u001b[?25ldone\n",
      "\u001b[?25h  Created wheel for fasttext: filename=fasttext-0.9.2-cp39-cp39-linux_x86_64.whl size=309487 sha256=bcd30fc295a866f81b846f6843a80aebad954cbdda8d06844893d5e59f196970\n",
      "  Stored in directory: /home/ali/.cache/pip/wheels/64/57/bc/1741406019061d5664914b070bd3e71f6244648732bc96109e\n",
      "Successfully built fasttext\n",
      "Installing collected packages: pybind11, fasttext\n",
      "Successfully installed fasttext-0.9.2 pybind11-2.10.4\n"
     ]
    }
   ],
   "source": [
    "!pip install fasttext"
   ]
  },
  {
   "cell_type": "code",
   "execution_count": 6,
   "id": "16802449",
   "metadata": {},
   "outputs": [
    {
     "name": "stdout",
     "output_type": "stream",
     "text": [
      "Predicted Language: hi\n",
      "Confidence Score: 0.9553877711296082\n"
     ]
    },
    {
     "name": "stderr",
     "output_type": "stream",
     "text": [
      "Warning : `load_model` does not return WordVectorModel or SupervisedModel any more, but a `FastText` object which is very similar.\n"
     ]
    }
   ],
   "source": [
    "import fasttext\n",
    "\n",
    "# Load the pre-trained language detection model\n",
    "model_path = 'data_to_utilise/lid.176.ftz'\n",
    "model = fasttext.load_model(model_path)\n",
    "\n",
    "# Define the text for language detection\n",
    "text = \"भाषा पहचान के लिए\"\n",
    "\n",
    "# Perform language detection\n",
    "prediction = model.predict(text, k=1)  # k=1 for top prediction\n",
    "\n",
    "# Extract the predicted language and confidence score\n",
    "predicted_language = prediction[0][0].replace('__label__', '')\n",
    "confidence_score = prediction[1][0]\n",
    "\n",
    "# Print the predicted language and confidence score\n",
    "print(f\"Predicted Language: {predicted_language}\")\n",
    "print(f\"Confidence Score: {confidence_score}\")\n"
   ]
  },
  {
   "cell_type": "code",
   "execution_count": null,
   "id": "3c484d79",
   "metadata": {},
   "outputs": [],
   "source": []
  }
 ],
 "metadata": {
  "kernelspec": {
   "display_name": "Python 3 (ipykernel)",
   "language": "python",
   "name": "python3"
  },
  "language_info": {
   "codemirror_mode": {
    "name": "ipython",
    "version": 3
   },
   "file_extension": ".py",
   "mimetype": "text/x-python",
   "name": "python",
   "nbconvert_exporter": "python",
   "pygments_lexer": "ipython3",
   "version": "3.9.16"
  }
 },
 "nbformat": 4,
 "nbformat_minor": 5
}
