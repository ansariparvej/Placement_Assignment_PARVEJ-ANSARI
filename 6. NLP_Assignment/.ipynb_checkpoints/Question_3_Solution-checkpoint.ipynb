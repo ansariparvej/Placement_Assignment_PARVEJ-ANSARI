{
 "cells": [
  {
   "cell_type": "markdown",
   "id": "0c8c1a51",
   "metadata": {},
   "source": [
    "## Question_3_Solution:"
   ]
  },
  {
   "cell_type": "code",
   "execution_count": 1,
   "id": "16802449",
   "metadata": {},
   "outputs": [],
   "source": [
    "import pandas as pd\n",
    "import nltk\n",
    "from sklearn.feature_extraction.text import TfidfVectorizer\n",
    "from sklearn.decomposition import LatentDirichletAllocation"
   ]
  },
  {
   "cell_type": "code",
   "execution_count": null,
   "id": "3c484d79",
   "metadata": {},
   "outputs": [],
   "source": [
    "# Load the CSV file containing the text data\n",
    "df = pd.read_csv('data.csv')\n",
    "\n",
    "# Preprocess the text data\n",
    "nltk.download('stopwords')\n",
    "stopwords = nltk.corpus.stopwords.words('english')\n",
    "\n",
    "def preprocess_text(text):\n",
    "    # Remove punctuation and convert to lowercase\n",
    "    text = ''.join([c for c in text if c.isalpha() or c.isspace()]).lower()\n",
    "    # Remove stopwords\n",
    "    text = ' '.join([word for word in text.split() if word not in stopwords])\n",
    "    return text\n",
    "\n",
    "df['processed_text'] = df['text'].apply(preprocess_text)\n",
    "\n",
    "# Perform keyword extraction using TF-IDF\n",
    "tfidf = TfidfVectorizer()\n",
    "tfidf_matrix = tfidf.fit_transform(df['processed_text'])\n",
    "\n",
    "# Get the most important keywords for each document\n",
    "top_keywords = []\n",
    "for i in range(len(df)):\n",
    "    feature_names = tfidf.get_feature_names()\n",
    "    tfidf_scores = tfidf_matrix[i].toarray().flatten()\n",
    "    top_indices = tfidf_scores.argsort()[-5:][::-1]  # Get top 5 keywords\n",
    "    keywords = [feature_names[idx] for idx in top_indices]\n",
    "    top_keywords.append(', '.join(keywords))\n",
    "\n",
    "df['keywords'] = top_keywords\n",
    "\n",
    "# Perform topic modeling using Latent Dirichlet Allocation (LDA)\n",
    "num_topics = 5\n",
    "lda = LatentDirichletAllocation(n_components=num_topics, random_state=42)\n",
    "lda_matrix = lda.fit_transform(tfidf_matrix)\n",
    "\n",
    "# Get the top words for each topic\n",
    "feature_names = tfidf.get_feature_names()\n",
    "top_words = []\n",
    "for topic_idx, topic in enumerate(lda.components_):\n",
    "    top_indices = topic.argsort()[-10:][::-1]  # Get top 10 words\n",
    "    words = [feature_names[idx] for idx in top_indices]\n",
    "    top_words.append(', '.join(words))\n",
    "\n",
    "# Print the topics and their associated top words\n",
    "for topic_idx, words in enumerate(top_words):\n",
    "    print(f'Topic {topic_idx + 1}: {words}')\n"
   ]
  }
 ],
 "metadata": {
  "kernelspec": {
   "display_name": "Python 3 (ipykernel)",
   "language": "python",
   "name": "python3"
  },
  "language_info": {
   "codemirror_mode": {
    "name": "ipython",
    "version": 3
   },
   "file_extension": ".py",
   "mimetype": "text/x-python",
   "name": "python",
   "nbconvert_exporter": "python",
   "pygments_lexer": "ipython3",
   "version": "3.9.16"
  }
 },
 "nbformat": 4,
 "nbformat_minor": 5
}
