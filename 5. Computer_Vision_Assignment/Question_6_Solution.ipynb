{
 "cells": [
  {
   "cell_type": "markdown",
   "id": "0c8c1a51",
   "metadata": {},
   "source": [
    "## Question_6_Solution:"
   ]
  },
  {
   "cell_type": "markdown",
   "id": "63fcb789",
   "metadata": {},
   "source": [
    "**Question 6 -**\n",
    "You have to train a custom segmentation model based on Detectron 2 framework.\n",
    "Your goal is to segment the given images based on the user input into the different\n",
    "classes\n",
    "- Link -https://www.kaggle.com/competitions/open-images-2019-instance-segmentation/data\n",
    "\n",
    "**Note -**\n",
    "1. For this, only the Jupyter Notebook is fine\n",
    "2. Labels are in COCO format.\n",
    "3. Write code comments wherever needed for understanding"
   ]
  },
  {
   "cell_type": "code",
   "execution_count": null,
   "id": "3c484d79",
   "metadata": {},
   "outputs": [],
   "source": []
  }
 ],
 "metadata": {
  "kernelspec": {
   "display_name": "Python 3 (ipykernel)",
   "language": "python",
   "name": "python3"
  },
  "language_info": {
   "codemirror_mode": {
    "name": "ipython",
    "version": 3
   },
   "file_extension": ".py",
   "mimetype": "text/x-python",
   "name": "python",
   "nbconvert_exporter": "python",
   "pygments_lexer": "ipython3",
   "version": "3.9.16"
  }
 },
 "nbformat": 4,
 "nbformat_minor": 5
}
