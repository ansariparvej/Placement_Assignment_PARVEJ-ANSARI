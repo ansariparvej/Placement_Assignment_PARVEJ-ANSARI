{
 "cells": [
  {
   "cell_type": "code",
   "execution_count": 1,
   "metadata": {
    "id": "2FMdfLs1WYUP"
   },
   "outputs": [],
   "source": [
    "# Importing Necessary Libraries:\n",
    "import tensorflow as tf\n",
    "from tensorflow.keras.datasets import mnist\n",
    "from tensorflow.keras.models import Sequential\n",
    "from tensorflow.keras.layers import Conv2D, MaxPooling2D, Flatten, Dense, Dropout\n",
    "from tensorflow.keras.optimizers import Adam\n",
    "import pandas as pd"
   ]
  },
  {
   "cell_type": "code",
   "execution_count": 2,
   "metadata": {
    "id": "LEQ--5YJWzEE"
   },
   "outputs": [],
   "source": [
    "# Loading MNIST dataset\n",
    "(x_train, y_train), (x_test, y_test) = mnist.load_data()\n",
    "\n",
    "# Preprocessing data\n",
    "x_train = x_train.reshape(-1, 28, 28, 1).astype('float32') / 255.0\n",
    "x_test = x_test.reshape(-1, 28, 28, 1).astype('float32') / 255.0\n",
    "\n",
    "# Comparison table\n",
    "table = {'Model': [], 'Accuracy': [], 'Parameters': []}"
   ]
  },
  {
   "cell_type": "code",
   "execution_count": 3,
   "metadata": {
    "colab": {
     "base_uri": "https://localhost:8080/"
    },
    "id": "61zii9tFW9IN",
    "outputId": "ce09760f-a1b8-4f98-cf90-0c4276396463"
   },
   "outputs": [
    {
     "name": "stdout",
     "output_type": "stream",
     "text": [
      "Model: \"sequential\"\n",
      "_________________________________________________________________\n",
      " Layer (type)                Output Shape              Param #   \n",
      "=================================================================\n",
      " conv2d (Conv2D)             (None, 24, 24, 4)         104       \n",
      "                                                                 \n",
      " max_pooling2d (MaxPooling2D  (None, 12, 12, 4)        0         \n",
      " )                                                               \n",
      "                                                                 \n",
      " conv2d_1 (Conv2D)           (None, 8, 8, 8)           808       \n",
      "                                                                 \n",
      " max_pooling2d_1 (MaxPooling  (None, 4, 4, 8)          0         \n",
      " 2D)                                                             \n",
      "                                                                 \n",
      " flatten (Flatten)           (None, 128)               0         \n",
      "                                                                 \n",
      " dense (Dense)               (None, 32)                4128      \n",
      "                                                                 \n",
      " dense_1 (Dense)             (None, 10)                330       \n",
      "                                                                 \n",
      "=================================================================\n",
      "Total params: 5,370\n",
      "Trainable params: 5,370\n",
      "Non-trainable params: 0\n",
      "_________________________________________________________________\n",
      "Epoch 1/10\n",
      "1875/1875 [==============================] - 12s 4ms/step - loss: 0.2937 - accuracy: 0.9107 - val_loss: 0.1182 - val_accuracy: 0.9640\n",
      "Epoch 2/10\n",
      "1875/1875 [==============================] - 7s 4ms/step - loss: 0.1143 - accuracy: 0.9649 - val_loss: 0.0859 - val_accuracy: 0.9726\n",
      "Epoch 3/10\n",
      "1875/1875 [==============================] - 7s 4ms/step - loss: 0.0869 - accuracy: 0.9737 - val_loss: 0.0668 - val_accuracy: 0.9787\n",
      "Epoch 4/10\n",
      "1875/1875 [==============================] - 7s 4ms/step - loss: 0.0717 - accuracy: 0.9779 - val_loss: 0.0647 - val_accuracy: 0.9788\n",
      "Epoch 5/10\n",
      "1875/1875 [==============================] - 7s 4ms/step - loss: 0.0611 - accuracy: 0.9811 - val_loss: 0.0542 - val_accuracy: 0.9836\n",
      "Epoch 6/10\n",
      "1875/1875 [==============================] - 7s 4ms/step - loss: 0.0547 - accuracy: 0.9829 - val_loss: 0.0486 - val_accuracy: 0.9840\n",
      "Epoch 7/10\n",
      "1875/1875 [==============================] - 8s 4ms/step - loss: 0.0490 - accuracy: 0.9849 - val_loss: 0.0457 - val_accuracy: 0.9846\n",
      "Epoch 8/10\n",
      "1875/1875 [==============================] - 8s 4ms/step - loss: 0.0447 - accuracy: 0.9858 - val_loss: 0.0428 - val_accuracy: 0.9853\n",
      "Epoch 9/10\n",
      "1875/1875 [==============================] - 7s 4ms/step - loss: 0.0408 - accuracy: 0.9870 - val_loss: 0.0487 - val_accuracy: 0.9844\n",
      "Epoch 10/10\n",
      "1875/1875 [==============================] - 7s 4ms/step - loss: 0.0384 - accuracy: 0.9876 - val_loss: 0.0439 - val_accuracy: 0.9848\n",
      "313/313 [==============================] - 1s 2ms/step - loss: 0.0439 - accuracy: 0.9848\n"
     ]
    }
   ],
   "source": [
    "# Model 1: LeNet\n",
    "model1 = Sequential()\n",
    "model1.add(Conv2D(4, kernel_size=(5, 5), activation='relu', input_shape=(28, 28, 1)))\n",
    "model1.add(MaxPooling2D(pool_size=(2, 2)))\n",
    "model1.add(Conv2D(8, kernel_size=(5, 5), activation='relu'))\n",
    "model1.add(MaxPooling2D(pool_size=(2, 2)))\n",
    "model1.add(Flatten())\n",
    "model1.add(Dense(32, activation='relu'))\n",
    "model1.add(Dense(10, activation='softmax'))\n",
    "model1.compile(optimizer=Adam(), loss='sparse_categorical_crossentropy', metrics=['accuracy'])\n",
    "model1.summary()\n",
    "\n",
    "# Train the model\n",
    "model1.fit(x_train, y_train, batch_size=32, epochs=10, validation_data=(x_test, y_test))\n",
    "\n",
    "# Evaluate the model\n",
    "_, accuracy1 = model1.evaluate(x_test, y_test)\n",
    "table['Model'].append('LeNet')\n",
    "table['Accuracy'].append(accuracy1)\n",
    "table['Parameters'].append(model1.count_params())\n"
   ]
  },
  {
   "cell_type": "code",
   "execution_count": 4,
   "metadata": {
    "colab": {
     "base_uri": "https://localhost:8080/"
    },
    "id": "uP7gEjnmaTp-",
    "outputId": "da51624c-c050-4366-aafd-90392772b62f"
   },
   "outputs": [
    {
     "name": "stdout",
     "output_type": "stream",
     "text": [
      "Model: \"sequential_1\"\n",
      "_________________________________________________________________\n",
      " Layer (type)                Output Shape              Param #   \n",
      "=================================================================\n",
      " conv2d_2 (Conv2D)           (None, 26, 26, 4)         40        \n",
      "                                                                 \n",
      " batch_normalization (BatchN  (None, 26, 26, 4)        16        \n",
      " ormalization)                                                   \n",
      "                                                                 \n",
      " max_pooling2d_2 (MaxPooling  (None, 13, 13, 4)        0         \n",
      " 2D)                                                             \n",
      "                                                                 \n",
      " conv2d_3 (Conv2D)           (None, 11, 11, 8)         296       \n",
      "                                                                 \n",
      " batch_normalization_1 (Batc  (None, 11, 11, 8)        32        \n",
      " hNormalization)                                                 \n",
      "                                                                 \n",
      " max_pooling2d_3 (MaxPooling  (None, 5, 5, 8)          0         \n",
      " 2D)                                                             \n",
      "                                                                 \n",
      " flatten_1 (Flatten)         (None, 200)               0         \n",
      "                                                                 \n",
      " dense_2 (Dense)             (None, 32)                6432      \n",
      "                                                                 \n",
      " dense_3 (Dense)             (None, 10)                330       \n",
      "                                                                 \n",
      "=================================================================\n",
      "Total params: 7,146\n",
      "Trainable params: 7,122\n",
      "Non-trainable params: 24\n",
      "_________________________________________________________________\n",
      "Epoch 1/10\n",
      "1875/1875 [==============================] - 10s 4ms/step - loss: 0.3011 - accuracy: 0.9062 - val_loss: 0.0999 - val_accuracy: 0.9676\n",
      "Epoch 2/10\n",
      "1875/1875 [==============================] - 8s 4ms/step - loss: 0.0898 - accuracy: 0.9723 - val_loss: 0.0731 - val_accuracy: 0.9770\n",
      "Epoch 3/10\n",
      "1875/1875 [==============================] - 8s 4ms/step - loss: 0.0668 - accuracy: 0.9792 - val_loss: 0.0742 - val_accuracy: 0.9765\n",
      "Epoch 4/10\n",
      "1875/1875 [==============================] - 8s 4ms/step - loss: 0.0548 - accuracy: 0.9823 - val_loss: 0.0620 - val_accuracy: 0.9807\n",
      "Epoch 5/10\n",
      "1875/1875 [==============================] - 7s 4ms/step - loss: 0.0465 - accuracy: 0.9852 - val_loss: 0.0563 - val_accuracy: 0.9814\n",
      "Epoch 6/10\n",
      "1875/1875 [==============================] - 8s 4ms/step - loss: 0.0405 - accuracy: 0.9870 - val_loss: 0.0571 - val_accuracy: 0.9825\n",
      "Epoch 7/10\n",
      "1875/1875 [==============================] - 8s 4ms/step - loss: 0.0349 - accuracy: 0.9892 - val_loss: 0.0576 - val_accuracy: 0.9822\n",
      "Epoch 8/10\n",
      "1875/1875 [==============================] - 7s 4ms/step - loss: 0.0329 - accuracy: 0.9889 - val_loss: 0.0619 - val_accuracy: 0.9800\n",
      "Epoch 9/10\n",
      "1875/1875 [==============================] - 8s 4ms/step - loss: 0.0288 - accuracy: 0.9907 - val_loss: 0.0603 - val_accuracy: 0.9811\n",
      "Epoch 10/10\n",
      "1875/1875 [==============================] - 8s 4ms/step - loss: 0.0264 - accuracy: 0.9918 - val_loss: 0.0555 - val_accuracy: 0.9830\n",
      "313/313 [==============================] - 1s 3ms/step - loss: 0.0555 - accuracy: 0.9830\n"
     ]
    }
   ],
   "source": [
    "from tensorflow.keras.layers import Activation, BatchNormalization\n",
    "\n",
    "# Model 2: AlexNet\n",
    "model2 = Sequential()\n",
    "model2.add(Conv2D(4, kernel_size=(3, 3), activation='relu', input_shape=(28, 28, 1)))\n",
    "model2.add(BatchNormalization())\n",
    "model2.add(MaxPooling2D(pool_size=(2, 2)))\n",
    "\n",
    "model2.add(Conv2D(8, kernel_size=(3, 3), activation='relu'))\n",
    "model2.add(BatchNormalization())\n",
    "model2.add(MaxPooling2D(pool_size=(2, 2)))\n",
    "\n",
    "model2.add(Flatten())\n",
    "model2.add(Dense(32, activation='relu'))\n",
    "model2.add(Dense(10, activation='softmax'))\n",
    "\n",
    "model2.compile(optimizer=Adam(), loss='sparse_categorical_crossentropy', metrics=['accuracy'])\n",
    "model2.summary()\n",
    "\n",
    "\n",
    "# Train the model\n",
    "model2.fit(x_train, y_train, batch_size=32, epochs=10, validation_data=(x_test, y_test))\n",
    "\n",
    "# Evaluate the model\n",
    "_, accuracy2 = model2.evaluate(x_test, y_test)\n",
    "table['Model'].append('Alexnet')\n",
    "table['Accuracy'].append(accuracy2)\n",
    "table['Parameters'].append(model1.count_params())\n"
   ]
  },
  {
   "cell_type": "code",
   "execution_count": 5,
   "metadata": {
    "colab": {
     "base_uri": "https://localhost:8080/"
    },
    "id": "5BcA2MABbeYA",
    "outputId": "a84129bd-e231-4254-8376-ff3a64449dcd"
   },
   "outputs": [
    {
     "name": "stdout",
     "output_type": "stream",
     "text": [
      "Model: \"sequential_2\"\n",
      "_________________________________________________________________\n",
      " Layer (type)                Output Shape              Param #   \n",
      "=================================================================\n",
      " conv2d_4 (Conv2D)           (None, 28, 28, 2)         20        \n",
      "                                                                 \n",
      " conv2d_5 (Conv2D)           (None, 28, 28, 2)         38        \n",
      "                                                                 \n",
      " max_pooling2d_4 (MaxPooling  (None, 14, 14, 2)        0         \n",
      " 2D)                                                             \n",
      "                                                                 \n",
      " flatten_2 (Flatten)         (None, 392)               0         \n",
      "                                                                 \n",
      " dense_4 (Dense)             (None, 16)                6288      \n",
      "                                                                 \n",
      " dense_5 (Dense)             (None, 10)                170       \n",
      "                                                                 \n",
      "=================================================================\n",
      "Total params: 6,516\n",
      "Trainable params: 6,516\n",
      "Non-trainable params: 0\n",
      "_________________________________________________________________\n",
      "Epoch 1/10\n",
      "1875/1875 [==============================] - 8s 4ms/step - loss: 0.4146 - accuracy: 0.8728 - val_loss: 0.2204 - val_accuracy: 0.9347\n",
      "Epoch 2/10\n",
      "1875/1875 [==============================] - 7s 4ms/step - loss: 0.2119 - accuracy: 0.9373 - val_loss: 0.1715 - val_accuracy: 0.9505\n",
      "Epoch 3/10\n",
      "1875/1875 [==============================] - 7s 4ms/step - loss: 0.1748 - accuracy: 0.9474 - val_loss: 0.1603 - val_accuracy: 0.9530\n",
      "Epoch 4/10\n",
      "1875/1875 [==============================] - 7s 4ms/step - loss: 0.1549 - accuracy: 0.9532 - val_loss: 0.1458 - val_accuracy: 0.9559\n",
      "Epoch 5/10\n",
      "1875/1875 [==============================] - 7s 4ms/step - loss: 0.1404 - accuracy: 0.9572 - val_loss: 0.1283 - val_accuracy: 0.9637\n",
      "Epoch 6/10\n",
      "1875/1875 [==============================] - 6s 3ms/step - loss: 0.1295 - accuracy: 0.9600 - val_loss: 0.1392 - val_accuracy: 0.9590\n",
      "Epoch 7/10\n",
      "1875/1875 [==============================] - 7s 4ms/step - loss: 0.1209 - accuracy: 0.9625 - val_loss: 0.1128 - val_accuracy: 0.9664\n",
      "Epoch 8/10\n",
      "1875/1875 [==============================] - 6s 3ms/step - loss: 0.1122 - accuracy: 0.9656 - val_loss: 0.1140 - val_accuracy: 0.9669\n",
      "Epoch 9/10\n",
      "1875/1875 [==============================] - 7s 4ms/step - loss: 0.1054 - accuracy: 0.9678 - val_loss: 0.1120 - val_accuracy: 0.9674\n",
      "Epoch 10/10\n",
      "1875/1875 [==============================] - 7s 3ms/step - loss: 0.1001 - accuracy: 0.9690 - val_loss: 0.1118 - val_accuracy: 0.9672\n",
      "313/313 [==============================] - 1s 3ms/step - loss: 0.1118 - accuracy: 0.9672\n"
     ]
    }
   ],
   "source": [
    "# Model 3: VGG\n",
    "model3 = Sequential()\n",
    "model3.add(Conv2D(2, kernel_size=(3, 3), padding='same', activation='relu', input_shape=(28, 28, 1)))\n",
    "model3.add(Conv2D(2, kernel_size=(3, 3), padding='same', activation='relu'))\n",
    "model3.add(MaxPooling2D(pool_size=(2, 2)))\n",
    "model3.add(Flatten())\n",
    "model3.add(Dense(16, activation='relu'))\n",
    "model3.add(Dense(10, activation='softmax'))\n",
    "model3.compile(optimizer=Adam(), loss='sparse_categorical_crossentropy', metrics=['accuracy'])\n",
    "model3.summary()\n",
    "\n",
    "\n",
    "# Train the model\n",
    "model3.fit(x_train, y_train, batch_size=32, epochs=10, validation_data=(x_test, y_test))\n",
    "\n",
    "# Evaluate the model\n",
    "_, accuracy3 = model3.evaluate(x_test, y_test)\n",
    "table['Model'].append('VGG')\n",
    "table['Accuracy'].append(accuracy3)\n",
    "table['Parameters'].append(model3.count_params())"
   ]
  },
  {
   "cell_type": "code",
   "execution_count": 6,
   "metadata": {
    "colab": {
     "base_uri": "https://localhost:8080/"
    },
    "id": "U8j5V2vEkX0G",
    "outputId": "facba0ca-ef08-4faf-8b4d-5e3f10b5d930"
   },
   "outputs": [
    {
     "data": {
      "text/plain": [
       "{'Model': ['LeNet', 'Alexnet', 'VGG'],\n",
       " 'Accuracy': [0.9847999811172485, 0.9829999804496765, 0.967199981212616],\n",
       " 'Parameters': [5370, 5370, 6516]}"
      ]
     },
     "execution_count": 6,
     "metadata": {},
     "output_type": "execute_result"
    }
   ],
   "source": [
    "table"
   ]
  },
  {
   "cell_type": "code",
   "execution_count": 6,
   "metadata": {
    "id": "Mt3JMut0kaUH"
   },
   "outputs": [],
   "source": []
  }
 ],
 "metadata": {
  "accelerator": "GPU",
  "colab": {
   "gpuType": "T4",
   "provenance": []
  },
  "gpuClass": "standard",
  "kernelspec": {
   "display_name": "Python 3 (ipykernel)",
   "language": "python",
   "name": "python3"
  },
  "language_info": {
   "codemirror_mode": {
    "name": "ipython",
    "version": 3
   },
   "file_extension": ".py",
   "mimetype": "text/x-python",
   "name": "python",
   "nbconvert_exporter": "python",
   "pygments_lexer": "ipython3",
   "version": "3.9.16"
  }
 },
 "nbformat": 4,
 "nbformat_minor": 1
}
