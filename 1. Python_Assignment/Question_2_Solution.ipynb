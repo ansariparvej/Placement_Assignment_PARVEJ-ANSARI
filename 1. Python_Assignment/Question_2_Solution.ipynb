{
 "cells": [
  {
   "cell_type": "markdown",
   "id": "a4b92236",
   "metadata": {},
   "source": [
    "## Question_2_Solution:"
   ]
  },
  {
   "cell_type": "code",
   "execution_count": 1,
   "id": "16802449",
   "metadata": {},
   "outputs": [
    {
     "name": "stdout",
     "output_type": "stream",
     "text": [
      "abc is_valid_string ?  YES\n",
      "abcc is_valid_string ?  NO\n"
     ]
    }
   ],
   "source": [
    "# Function to get whether string is valid or not:\n",
    "\n",
    "def is_valid_string(s):\n",
    "    freq = {}\n",
    "    for char in s:\n",
    "        if char in freq:\n",
    "            freq[char] += 1\n",
    "        else:\n",
    "            freq[char] = 1\n",
    "    values = list(freq.values())\n",
    "    values.sort()\n",
    "    unique_values = set(values)\n",
    "    \n",
    "    if len(unique_values) == 1:\n",
    "        return \"YES\"\n",
    "    elif len(unique_values) == 2:\n",
    "        if values.count(values[0]) == 1 and values[0] == 1:\n",
    "            return \"YES\"\n",
    "        elif values.count(values[-1]) == 1 and values[-2] == values[-1] - 1:\n",
    "            return \"NO\"  \n",
    "    \n",
    "    return \"NO\"\n",
    "\n",
    "\n",
    "# Given Examples:\n",
    "string1 = \"abc\"\n",
    "result1 = is_valid_string(string1)\n",
    "print('abc','is_valid_string ? ',result1)  # Output: YES\n",
    "\n",
    "string2 = \"abcc\"\n",
    "result2 = is_valid_string(string2)\n",
    "print('abcc','is_valid_string ? ',result2)  # Output: YES"
   ]
  },
  {
   "cell_type": "code",
   "execution_count": 2,
   "id": "4fbcc66b",
   "metadata": {},
   "outputs": [
    {
     "name": "stdout",
     "output_type": "stream",
     "text": [
      "aabbcc is_valid_string ?  YES\n",
      "aabbccc is_valid_string ?  NO\n"
     ]
    }
   ],
   "source": [
    "string3 = \"aabbcc\"\n",
    "result3 = is_valid_string(string3)\n",
    "print('aabbcc','is_valid_string ? ',result3)  # Output: YES\n",
    "\n",
    "string4 = \"aabbbccc\"\n",
    "result4 = is_valid_string(string4)\n",
    "print('aabbccc','is_valid_string ? ',result4)  # Output: NO"
   ]
  },
  {
   "cell_type": "markdown",
   "id": "6cdf4ecb",
   "metadata": {},
   "source": [
    "**Additional Test Cases:**\n",
    "\n",
    "- Input: s = \"aabbcc\"\n",
    "Output: YES\n",
    "- Explanation: All characters appear the same number of times (2), so the string is valid.\n",
    "\n",
    "- Input: s = \"aabbccc\"\n",
    "Output: NO\n",
    "- Explanation: The string \"aabbccc\" has three distinct characters: 'a', 'b', and 'c'. The frequencies of these characters are [2, 2, 3], which are not equal and hence can not be rearranged to form a valid string. Therefore, the output is \"NO\""
   ]
  },
  {
   "cell_type": "code",
   "execution_count": null,
   "id": "fe49b852",
   "metadata": {},
   "outputs": [],
   "source": []
  }
 ],
 "metadata": {
  "kernelspec": {
   "display_name": "Python 3 (ipykernel)",
   "language": "python",
   "name": "python3"
  },
  "language_info": {
   "codemirror_mode": {
    "name": "ipython",
    "version": 3
   },
   "file_extension": ".py",
   "mimetype": "text/x-python",
   "name": "python",
   "nbconvert_exporter": "python",
   "pygments_lexer": "ipython3",
   "version": "3.9.16"
  }
 },
 "nbformat": 4,
 "nbformat_minor": 5
}
