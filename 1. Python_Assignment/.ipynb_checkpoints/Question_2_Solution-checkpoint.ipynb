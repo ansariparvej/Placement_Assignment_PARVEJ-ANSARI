{
 "cells": [
  {
   "cell_type": "markdown",
   "id": "a4b92236",
   "metadata": {},
   "source": [
    "## Question_2_Solution:"
   ]
  },
  {
   "cell_type": "code",
   "execution_count": null,
   "id": "16802449",
   "metadata": {},
   "outputs": [],
   "source": [
    "# Function to get whether string is valid or not:\n",
    "\n",
    "def is_valid_string(s):\n",
    "    char_frequency = {}\n",
    "    for char in s:\n",
    "        if char in char_frequency:\n",
    "            char_frequency[char] += 1\n",
    "        else:\n",
    "            char_frequency[char] = 1\n",
    "\n",
    "    frequency_count = list(char_frequency.values())\n",
    "    distinct_frequencies = set(frequency_count)\n",
    "\n",
    "    if len(distinct_frequencies) == 1:\n",
    "        return \"YES\"  # All characters appear the same number of times\n",
    "\n",
    "    if len(distinct_frequencies) == 2:\n",
    "        frequency_dict = {}\n",
    "        for frequency in distinct_frequencies:\n",
    "            frequency_dict[frequency] = frequency_count.count(frequency)\n",
    "\n",
    "        max_frequency = max(frequency_dict.values())\n",
    "        min_frequency = min(frequency_dict.values())\n",
    "\n",
    "        if frequency_dict[max_frequency] == 1 and max_frequency - min_frequency == 1:\n",
    "            return \"YES\"  # Only one character needs to be removed\n",
    "\n",
    "    return \"NO\"  # String is not valid\n",
    "\n",
    "\n",
    "# Example usage\n",
    "string1 = \"abc\"\n",
    "result1 = is_valid_string(string1)\n",
    "print(result1)  # Output: YES\n",
    "\n",
    "string2 = \"abcc\"\n",
    "result2 = is_valid_string(string2)\n",
    "print(result2)  # Output: NO\n"
   ]
  },
  {
   "cell_type": "markdown",
   "id": "6cdf4ecb",
   "metadata": {},
   "source": [
    "Additional test cases:\n",
    "\n",
    "    Input: s = \"aabbcc\"\n",
    "    Output: YES\n",
    "    Explanation: All characters appear the same number of times (2), so the string is valid.\n",
    "\n",
    "    Input: s = \"aabbccc\"\n",
    "    Output: YES\n",
    "    Explanation: One occurrence of 'c' can be removed to make all characters appear the same number of times (2), so the string is valid."
   ]
  },
  {
   "cell_type": "code",
   "execution_count": null,
   "id": "fe49b852",
   "metadata": {},
   "outputs": [],
   "source": []
  }
 ],
 "metadata": {
  "kernelspec": {
   "display_name": "Python 3 (ipykernel)",
   "language": "python",
   "name": "python3"
  },
  "language_info": {
   "codemirror_mode": {
    "name": "ipython",
    "version": 3
   },
   "file_extension": ".py",
   "mimetype": "text/x-python",
   "name": "python",
   "nbconvert_exporter": "python",
   "pygments_lexer": "ipython3",
   "version": "3.9.16"
  }
 },
 "nbformat": 4,
 "nbformat_minor": 5
}
