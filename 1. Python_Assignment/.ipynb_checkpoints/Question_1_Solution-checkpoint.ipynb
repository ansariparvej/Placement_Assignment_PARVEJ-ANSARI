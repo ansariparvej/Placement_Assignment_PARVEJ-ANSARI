{
 "cells": [
  {
   "cell_type": "code",
   "execution_count": 1,
   "id": "16802449",
   "metadata": {},
   "outputs": [
    {
     "name": "stdout",
     "output_type": "stream",
     "text": [
      "highest_frequency_word_length_given_string:  5\n",
      "highest_frequency_word_length_string_1:  7\n",
      "highest_frequency_word_length_string_2:  6\n"
     ]
    }
   ],
   "source": [
    "# Function to get highest frequency word:\n",
    "\n",
    "def get_highest_frequency_word_length(string):\n",
    "    word_frequency = {}\n",
    "    words = string.split()\n",
    "\n",
    "    for word in words:\n",
    "        if word in word_frequency:\n",
    "            word_frequency[word] += 1\n",
    "        else:\n",
    "            word_frequency[word] = 1\n",
    "\n",
    "    highest_frequency = max(word_frequency.values())\n",
    "    highest_frequency_word = [word for word, frequency in word_frequency.items() if frequency == highest_frequency][0]\n",
    "    highest_frequency_word_length = len(highest_frequency_word)\n",
    "\n",
    "    return highest_frequency_word_length\n",
    "\n",
    "# Given Example:\n",
    "\n",
    "string = \"write write write all the number from from from 1 to 100\"\n",
    "result = get_highest_frequency_word_length(string)\n",
    "print(\"highest_frequency_word_length_given_string: \", result)  # Output: 5\n",
    "\n",
    "# Additional Test Cases:\n",
    "\n",
    "string_1 = \"Twinkle Twinkle Little Star Lyrics\" \n",
    "test_1 = get_highest_frequency_word_length(string_1)\n",
    "print(\"highest_frequency_word_length_string_1: \", test_1)\n",
    "\n",
    "\n",
    "string_2 = \"apple apple apple banana orange orange orange orange\"\n",
    "test_2 = get_highest_frequency_word_length(string_2)\n",
    "print(\"highest_frequency_word_length_string_2: \", test_2)"
   ]
  },
  {
   "cell_type": "code",
   "execution_count": null,
   "id": "c507f1af",
   "metadata": {},
   "outputs": [],
   "source": []
  },
  {
   "cell_type": "markdown",
   "id": "02237b38",
   "metadata": {},
   "source": [
    "\n",
    "**Additional Test Cases:**\n",
    "- String_1: \"Twinkle Twinkle Little Star Lyrics\"\n",
    "- Output: 7\n",
    "- Explanation: The word \"Twinkle\" appears two times, which is the highest frequency, and its length is 7.\n",
    "\n",
    "- String_2: \"apple apple apple banana orange orange orange orange\"\n",
    "- Output: 6\n",
    "- Explanation: The words \"apple\" and \"orange\" both appear three times, but \"apple\" has a length of 5, while \"orange\" has a length of 6. Therefore, the length of the highest-frequency word is 6."
   ]
  },
  {
   "cell_type": "code",
   "execution_count": null,
   "id": "166e8dcf",
   "metadata": {},
   "outputs": [],
   "source": []
  }
 ],
 "metadata": {
  "kernelspec": {
   "display_name": "Python 3 (ipykernel)",
   "language": "python",
   "name": "python3"
  },
  "language_info": {
   "codemirror_mode": {
    "name": "ipython",
    "version": 3
   },
   "file_extension": ".py",
   "mimetype": "text/x-python",
   "name": "python",
   "nbconvert_exporter": "python",
   "pygments_lexer": "ipython3",
   "version": "3.9.16"
  }
 },
 "nbformat": 4,
 "nbformat_minor": 5
}
