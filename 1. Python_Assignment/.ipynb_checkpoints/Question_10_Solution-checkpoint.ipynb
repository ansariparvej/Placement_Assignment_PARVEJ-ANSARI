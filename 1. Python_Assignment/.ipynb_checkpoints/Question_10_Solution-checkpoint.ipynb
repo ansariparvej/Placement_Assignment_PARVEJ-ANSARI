{
 "cells": [
  {
   "cell_type": "markdown",
   "id": "a0789f9e",
   "metadata": {},
   "source": [
    "# Question_10_Solution:"
   ]
  },
  {
   "cell_type": "markdown",
   "id": "779b3bf0",
   "metadata": {},
   "source": [
    "Write a program to count the number of verbs, nouns, pronouns, and adjectives in a given particular phrase or\n",
    "paragraph, and return their respective count as a dictionary.\n",
    "Note -\n",
    "1. Write code comments wherever required for code\n",
    "2. You have to write at least 2 additional test cases in which your program will run successfully and provide\n",
    "an explanation for the same."
   ]
  },
  {
   "cell_type": "code",
   "execution_count": 1,
   "id": "c46fce32",
   "metadata": {},
   "outputs": [],
   "source": [
    "import nltk\n",
    "from nltk.tokenize import word_tokenize\n",
    "from nltk.tag import pos_tag"
   ]
  },
  {
   "cell_type": "code",
   "execution_count": 15,
   "id": "b73a7350",
   "metadata": {},
   "outputs": [],
   "source": [
    "def count_pos_tags(text):\n",
    "    # Tokenize the text into words\n",
    "    words = word_tokenize(text)\n",
    "    \n",
    "    # Perform part-of-speech tagging\n",
    "    tagged_words = pos_tag(words)\n",
    "    \n",
    "    # Initialize counts\n",
    "    counts = {\n",
    "        'verb': 0,\n",
    "        'noun': 0,\n",
    "        'pronoun': 0,\n",
    "        'adjective': 0\n",
    "    }\n",
    "    \n",
    "    # Count the occurrences of each POS tag\n",
    "    for word, tag in tagged_words:\n",
    "        # print('W: ', word, 'Tg: ',tag)\n",
    "        if tag.startswith('V'):\n",
    "            counts['verb'] += 1\n",
    "        elif tag.startswith('N'):\n",
    "            counts['noun'] += 1\n",
    "        elif tag.startswith('PRP'):\n",
    "            counts['pronoun'] += 1\n",
    "        elif tag.startswith('JJ'):\n",
    "            counts['adjective'] += 1\n",
    "    \n",
    "    return counts"
   ]
  },
  {
   "cell_type": "markdown",
   "id": "a3debf8b",
   "metadata": {},
   "source": [
    "# Additional Test cases:"
   ]
  },
  {
   "cell_type": "markdown",
   "id": "1ec01e3e",
   "metadata": {},
   "source": [
    "## Test Case: 01"
   ]
  },
  {
   "cell_type": "code",
   "execution_count": 16,
   "id": "23e12cc4",
   "metadata": {},
   "outputs": [
    {
     "name": "stdout",
     "output_type": "stream",
     "text": [
      "{'verb': 2, 'noun': 4, 'pronoun': 1, 'adjective': 1}\n"
     ]
    }
   ],
   "source": [
    "# Case: 01\n",
    "text = \"This is my first program in Python based NLP Library.\"\n",
    "result = count_pos_tags(text)\n",
    "print(result)"
   ]
  },
  {
   "cell_type": "markdown",
   "id": "f66dfb6b",
   "metadata": {},
   "source": [
    "### In test case: 01 => 'verb': [is, based], 'noun': [Program, Python, NLP, Library], 'pronoun': [my], 'adjective': [first]"
   ]
  },
  {
   "cell_type": "markdown",
   "id": "3c24d35f",
   "metadata": {},
   "source": [
    "## Test Case: 02"
   ]
  },
  {
   "cell_type": "code",
   "execution_count": 17,
   "id": "78ebc906",
   "metadata": {},
   "outputs": [
    {
     "name": "stdout",
     "output_type": "stream",
     "text": [
      "{'verb': 2, 'noun': 2, 'pronoun': 1, 'adjective': 0}\n"
     ]
    }
   ],
   "source": [
    "# Case: 02\n",
    "text = \"Today, I am feeling good.\"\n",
    "result = count_pos_tags(text)\n",
    "print(result)"
   ]
  },
  {
   "cell_type": "markdown",
   "id": "24bd4784",
   "metadata": {},
   "source": [
    "### In test case: 02 => 'verb': [am, feeling], 'noun': [Today, good], 'pronoun': [ I ], 'adjective': [ ]"
   ]
  }
 ],
 "metadata": {
  "kernelspec": {
   "display_name": "Python 3 (ipykernel)",
   "language": "python",
   "name": "python3"
  },
  "language_info": {
   "codemirror_mode": {
    "name": "ipython",
    "version": 3
   },
   "file_extension": ".py",
   "mimetype": "text/x-python",
   "name": "python",
   "nbconvert_exporter": "python",
   "pygments_lexer": "ipython3",
   "version": "3.9.16"
  }
 },
 "nbformat": 4,
 "nbformat_minor": 5
}
