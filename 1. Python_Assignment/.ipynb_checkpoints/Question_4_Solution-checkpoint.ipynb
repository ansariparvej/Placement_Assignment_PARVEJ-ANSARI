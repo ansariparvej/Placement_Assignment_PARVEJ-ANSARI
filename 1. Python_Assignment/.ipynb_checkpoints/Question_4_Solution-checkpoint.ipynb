{
 "cells": [
  {
   "cell_type": "markdown",
   "id": "f74cf352",
   "metadata": {},
   "source": [
    "## Question_4_Solution:"
   ]
  },
  {
   "cell_type": "code",
   "execution_count": null,
   "id": "16802449",
   "metadata": {},
   "outputs": [],
   "source": [
    "import pandas as pd\n",
    "import requests\n",
    "\n",
    "url = \"https://data.nasa.gov/resource/y77d-th95.json\"\n",
    "\n",
    "def json_to_csv(url, output_file):\n",
    "    try:\n",
    "        # Fetch the JSON data from the URL\n",
    "        response = requests.get(url)\n",
    "        json_data = response.json()\n",
    "\n",
    "        # Flatten the JSON data into a pandas DataFrame\n",
    "        data = pd.json_normalize(json_data, 'pokemon')\n",
    "\n",
    "        # Save the data in Excel format\n",
    "        data.to_csv(output_file, index=False)\n",
    "\n",
    "        return \"Data successfully converted and saved in Excel format.\"\n",
    "\n",
    "    except Exception as e:\n",
    "        return f\"An error occurred: {str(e)}\"\n",
    "\n",
    "output_file = \"Question_3_Solution.csv\"  # Output file name\n",
    "\n",
    "result = json_to_excel(url, output_file)\n",
    "print(result)\n"
   ]
  }
 ],
 "metadata": {
  "kernelspec": {
   "display_name": "Python 3 (ipykernel)",
   "language": "python",
   "name": "python3"
  },
  "language_info": {
   "codemirror_mode": {
    "name": "ipython",
    "version": 3
   },
   "file_extension": ".py",
   "mimetype": "text/x-python",
   "name": "python",
   "nbconvert_exporter": "python",
   "pygments_lexer": "ipython3",
   "version": "3.9.16"
  }
 },
 "nbformat": 4,
 "nbformat_minor": 5
}
