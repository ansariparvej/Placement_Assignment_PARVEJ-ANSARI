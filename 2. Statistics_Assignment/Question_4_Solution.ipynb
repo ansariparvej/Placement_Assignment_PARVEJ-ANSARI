{
 "cells": [
  {
   "cell_type": "markdown",
   "id": "0c8c1a51",
   "metadata": {},
   "source": [
    "## Question_4_Solution:"
   ]
  },
  {
   "cell_type": "markdown",
   "id": "a9cf5452",
   "metadata": {},
   "source": [
    "**Q-4.** A group of 20 friends decide to play a game in which they each write a number\n",
    "between 1 and 20 on a slip of paper and put it into a hat. They then draw one slip of paper\n",
    "at random. What is the probability that the number on the slip of paper is a perfect square\n",
    "(i.e., 1, 4, 9, or 16)?"
   ]
  },
  {
   "cell_type": "raw",
   "id": "298157d4",
   "metadata": {},
   "source": [
    "==> Between 1 an 20 : Possible perfet squares (1, 4, 9, 16) => Total Number of Possible outcomes = 4\n",
    "==> As there is group of 20 friends => Total Number of ways an event can occur = 20\n",
    "==> So, Probabilty = Total Number of ways an event can occur / Total Number of Possible outcomes\n",
    "                 = 4/20 = 0.2 => 20 %\n",
    "                 \n",
    "==> The probability of drawing a perfect square number from the hat is 0.2 or 20%."
   ]
  },
  {
   "cell_type": "markdown",
   "id": "f291c6ae",
   "metadata": {},
   "source": [
    "**Answer:** ==> The probability of drawing a perfect square number from the hat is 0.2 or 20%."
   ]
  },
  {
   "cell_type": "code",
   "execution_count": null,
   "id": "63331d6f",
   "metadata": {},
   "outputs": [],
   "source": []
  }
 ],
 "metadata": {
  "kernelspec": {
   "display_name": "Python 3 (ipykernel)",
   "language": "python",
   "name": "python3"
  },
  "language_info": {
   "codemirror_mode": {
    "name": "ipython",
    "version": 3
   },
   "file_extension": ".py",
   "mimetype": "text/x-python",
   "name": "python",
   "nbconvert_exporter": "python",
   "pygments_lexer": "ipython3",
   "version": "3.9.16"
  }
 },
 "nbformat": 4,
 "nbformat_minor": 5
}
