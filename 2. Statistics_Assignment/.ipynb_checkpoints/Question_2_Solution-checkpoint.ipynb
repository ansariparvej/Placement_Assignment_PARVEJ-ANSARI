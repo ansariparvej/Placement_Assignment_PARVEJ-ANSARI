{
 "cells": [
  {
   "cell_type": "markdown",
   "id": "0c8c1a51",
   "metadata": {},
   "source": [
    "## Question_2_Solution:"
   ]
  },
  {
   "cell_type": "markdown",
   "id": "ff60b50d",
   "metadata": {},
   "source": [
    "**Q-2.** Consider a dataset containing the heights (in centimeters) of 1000 individuals. The\n",
    "mean height is 170 cm with a standard deviation of 10 cm. The dataset is approximately\n",
    "normally distributed, and its skewness is approximately zero. Based on this information,\n",
    "answer the following questions:\n",
    "\n",
    "- a. What percentage of individuals in the dataset have heights between 160 cm\n",
    "and 180 cm?\n",
    "- b. If we randomly select 100 individuals from the dataset, what is the probability\n",
    "that their average height is greater than 175 cm?\n",
    "- c. Assuming the dataset follows a normal distribution, what is the z-score\n",
    "corresponding to a height of 185 cm?\n",
    "- d. We know that 5% of the dataset has heights below a certain value. What is\n",
    "the approximate height corresponding to this threshold?\n",
    "- e. Calculate the coefficient of variation (CV) for the dataset.\n",
    "- f. Calculate the skewness of the dataset and interpret the result."
   ]
  },
  {
   "cell_type": "markdown",
   "id": "36c0a358",
   "metadata": {},
   "source": [
    "### Given Data: "
   ]
  },
  {
   "cell_type": "raw",
   "id": "50c136cd",
   "metadata": {},
   "source": [
    "* The dataset is approximately normally distributed, and its skewness is approximately zero. \n",
    "\n",
    "* Population Size = 1000 (Individuals), μ = 170 cm (height), σ = 10 cm\n"
   ]
  },
  {
   "cell_type": "markdown",
   "id": "56342566",
   "metadata": {},
   "source": [
    "### a. What percentage of individuals in the dataset have heights between 160 cm and 180 cm?"
   ]
  },
  {
   "cell_type": "raw",
   "id": "072304a2",
   "metadata": {},
   "source": [
    "Calculate Z-Score for both the heights using Z-score formula:\n",
    "\n",
    "z = (x - μ)/σ, where x is the height, μ is the mean height, and σ is the standard deviation.\n",
    "\n",
    "For 160 cm: \n",
    "\n",
    "z1 = (160 - 170)/10 = -1\n",
    "\n",
    "For 180 cm: \n",
    "\n",
    "z2 = (180 - 170)/10 = 1\n",
    "\n",
    "Using Z- Table: For z1 = -1 ⇒ 0.1587, For z2 = 1 ⇒ 0.8443\n",
    "\n",
    "Percentage of individuals in the dataset have heights between 160 cm and 180 cm = 0.8443 - 0.1587 = 0.6856 ⇒ 68.56 %\n"
   ]
  },
  {
   "cell_type": "markdown",
   "id": "0b4c0521",
   "metadata": {},
   "source": [
    "### b. If we randomly select 100 individuals from the dataset, what is the probability that their average height is greater than 175 cm?"
   ]
  },
  {
   "cell_type": "raw",
   "id": "2ae47bbc",
   "metadata": {},
   "source": [
    "Given: Sample, n = 100 & Sample mean, x̄  > 175\n",
    "\n",
    "Calculating Z-core for given Sample Value, Z-score = (x - μ)/SE  where, Standard Error (SE) = σ/√n \n",
    "\n",
    "SE = 10/√100 = 1\n",
    "\n",
    "Z-score = (175 - 170)/1 = 5. (Z-Score indicates number of standard deviation from Mean Value)\n",
    "\n",
    "Using a Z-table, the probability of obtaining a z-score greater than 5 is very close to 0. This means that the probability that the average height of a sample of 100 individuals is greater than 175 cm is very close to 0."
   ]
  },
  {
   "cell_type": "markdown",
   "id": "a716645c",
   "metadata": {},
   "source": [
    "### c. Assuming the dataset follows a normal distribution, what is the z-score corresponding to a height of 185 cm?"
   ]
  },
  {
   "cell_type": "raw",
   "id": "f49caf8b",
   "metadata": {},
   "source": [
    "As per Z-score formula, Z-score corresponding to a height of 185 (cm) = 185-170/10 = 15/10 = 1.5"
   ]
  },
  {
   "cell_type": "markdown",
   "id": "58effbcb",
   "metadata": {},
   "source": [
    "### d. We know that 5% of the dataset has heights below a certain value. What is the approximate height corresponding to this threshold?"
   ]
  },
  {
   "cell_type": "raw",
   "id": "e8093f77",
   "metadata": {},
   "source": [
    "In the standard normal distribution, a probability of 0.05 corresponds to a z-score of approximately  = -1.6-0.04 = -1.64.\n",
    "\n",
    "Rearrange Z-score formula: \n",
    "\n",
    "x = μ + (z * σ)\n",
    "\n",
    "x = 170 + (-1.64 * 10)\n",
    "x = 170 - 16.4\n",
    "x = 153.6 (Height in cm)\n"
   ]
  },
  {
   "cell_type": "markdown",
   "id": "ed55a9aa",
   "metadata": {},
   "source": [
    "### e. Calculate the coefficient of variation (CV) for the dataset."
   ]
  },
  {
   "cell_type": "markdown",
   "id": "67c39218",
   "metadata": {},
   "source": [
    "The coefficient of variation (CV) is defined as the ratio of the standard deviation (σ) to the mean (μ), expressed as a percentage.\n",
    "\n",
    "So, CV = (σ / μ) * 100\n",
    "\n",
    "CV = (10/170)*100 = 5.88 %"
   ]
  },
  {
   "cell_type": "markdown",
   "id": "96145ec6",
   "metadata": {},
   "source": [
    "### f. Calculate the skewness of the dataset and interpret the result."
   ]
  },
  {
   "cell_type": "raw",
   "id": "536d6606",
   "metadata": {},
   "source": [
    "Skewness of Dataset is given by, (1/n) * Σ[(xi - x̄)^3 / σ^3]\n",
    "\n",
    "Now, It is given in the question that, The dataset is approximately normally distributed, and its skewness is approximately zero.\n",
    "\n",
    "Result: \n",
    "\n",
    "Distribution of dataset is symmetric in nature and hence Heights are approximately uniformaly distributed"
   ]
  }
 ],
 "metadata": {
  "kernelspec": {
   "display_name": "Python 3 (ipykernel)",
   "language": "python",
   "name": "python3"
  },
  "language_info": {
   "codemirror_mode": {
    "name": "ipython",
    "version": 3
   },
   "file_extension": ".py",
   "mimetype": "text/x-python",
   "name": "python",
   "nbconvert_exporter": "python",
   "pygments_lexer": "ipython3",
   "version": "3.9.16"
  }
 },
 "nbformat": 4,
 "nbformat_minor": 5
}
