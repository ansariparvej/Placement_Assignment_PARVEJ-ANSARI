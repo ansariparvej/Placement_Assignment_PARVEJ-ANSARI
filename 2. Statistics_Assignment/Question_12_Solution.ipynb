{
 "cells": [
  {
   "cell_type": "markdown",
   "id": "0c8c1a51",
   "metadata": {},
   "source": [
    "## Question_12_Solution:"
   ]
  },
  {
   "cell_type": "markdown",
   "id": "d6f14f1e",
   "metadata": {},
   "source": [
    "**Q-12.** A pharmaceutical company develops a new drug and wants to compare its\n",
    "effectiveness against a standard drug for treating a particular condition. They conduct a\n",
    "study with two groups: Group A receives the new drug, and Group B receives the standard\n",
    "drug. The company measures the improvement in a specific symptom for both groups after\n",
    "a 4-week treatment period.\n",
    "\n",
    "- a. The company collects data from 30 patients in each group and calculates the\n",
    "mean improvement score and the standard deviation of improvement for each\n",
    "group. The mean improvement score for Group A is 2.5 with a standard\n",
    "deviation of 0.8, while the mean improvement score for Group B is 2.2 with a\n",
    "standard deviation of 0.6. Conduct a t-test to determine if there is a significant\n",
    "difference in the mean improvement scores between the two groups. Use a\n",
    "significance level of 0.05.\n",
    "- b. Based on the t-test results, state whether the null hypothesis should be\n",
    "rejected or not. Provide a conclusion in the context of the study."
   ]
  },
  {
   "cell_type": "markdown",
   "id": "5ffc56b1",
   "metadata": {},
   "source": [
    "Objective: Comparison of New drug performace with Standard Drug."
   ]
  },
  {
   "cell_type": "markdown",
   "id": "8314b104",
   "metadata": {},
   "source": [
    "** Given Data **\n",
    "- Group A receives the new drug, and Group B receives the standard drug.\n",
    "- Number of samples from each group = 30\n",
    "- For Group_A: mean improvement score = 2.5, standard deviation of improvement = 0.8\n",
    "- For Group_B: mean improvement score = 2.2, standard deviation of improvement = 0.6\n",
    "- Using t- test: Verify if there is a significant difference in the mean improvement scores between the two groups.\n",
    "- Significance value = 0.05\n"
   ]
  },
  {
   "cell_type": "markdown",
   "id": "9f4e6936",
   "metadata": {},
   "source": [
    "- Null hypothesis (H0): There is no significant difference in the mean improvement scores between Group A and Group B.\n",
    "- Alternative hypothesis (H1): There is  a significant difference in the mean improvement scores between Group A and Group B."
   ]
  },
  {
   "cell_type": "code",
   "execution_count": 12,
   "id": "03f98947",
   "metadata": {},
   "outputs": [
    {
     "name": "stdout",
     "output_type": "stream",
     "text": [
      "t-statistic: 1.6431676725154976\n",
      "p-value: 0.10575916705583671\n",
      "\n",
      "There is  a significant difference in the mean improvement scores between Group A and Group B.\n"
     ]
    }
   ],
   "source": [
    "# Using t-Test:\n",
    "import scipy.stats as stats\n",
    "\n",
    "# Group_A\n",
    "mean_a = 2.5\n",
    "std_a = 0.8\n",
    "n_a = 30\n",
    "\n",
    "# Group_B\n",
    "mean_b = 2.2\n",
    "std_b = 0.6\n",
    "n_b = 30\n",
    "\n",
    "# Calculate the t-statistic and p-value\n",
    "t_statistic, p_value = stats.ttest_ind_from_stats(mean_a, std_a, n_a, mean_b, std_b, n_b)\n",
    "\n",
    "print(\"t-statistic:\", t_statistic)\n",
    "print(\"p-value:\", p_value)\n",
    "print( )\n",
    "\n",
    "significance_value = 0.05\n",
    "\n",
    "# Check:\n",
    "if p_value < significance_value:\n",
    "    print(\"There is no significant difference in the mean improvement scores between Group A and Group B.\")\n",
    "else:\n",
    "    print(\"There is  a significant difference in the mean improvement scores between Group A and Group B.\")\n"
   ]
  },
  {
   "cell_type": "markdown",
   "id": "302da6c5",
   "metadata": {},
   "source": [
    "Observations: \n",
    "    \n",
    "(a). ==> There is  a significant difference in the mean improvement scores between Group A and Group B.\n",
    "(b). ==> From (a), We fail to Reject Null-Hypothesis (H0).\n"
   ]
  },
  {
   "cell_type": "code",
   "execution_count": null,
   "id": "dfdc64eb",
   "metadata": {},
   "outputs": [],
   "source": []
  }
 ],
 "metadata": {
  "kernelspec": {
   "display_name": "Python 3 (ipykernel)",
   "language": "python",
   "name": "python3"
  },
  "language_info": {
   "codemirror_mode": {
    "name": "ipython",
    "version": 3
   },
   "file_extension": ".py",
   "mimetype": "text/x-python",
   "name": "python",
   "nbconvert_exporter": "python",
   "pygments_lexer": "ipython3",
   "version": "3.9.16"
  }
 },
 "nbformat": 4,
 "nbformat_minor": 5
}
