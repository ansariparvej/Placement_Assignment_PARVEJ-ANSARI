{
 "cells": [
  {
   "cell_type": "markdown",
   "id": "0c8c1a51",
   "metadata": {},
   "source": [
    "## Question_10_Solution:"
   ]
  },
  {
   "cell_type": "markdown",
   "id": "ca2378cc",
   "metadata": {},
   "source": [
    "**Q-10.** A factory produces light bulbs, and the probability of a bulb being defective is 0.05. The factory produces a large batch of 500 light bulbs.\n",
    "- a. What is the probability that exactly 20 bulbs are defective?\n",
    "- b. What is the probability that at least 10 bulbs are defective?\n",
    "- c. What is the probability that at max 15 bulbs are defective?\n",
    "- d. On average, how many defective bulbs would you expect in a batch of 500?"
   ]
  },
  {
   "cell_type": "code",
   "execution_count": 1,
   "id": "57616a37",
   "metadata": {},
   "outputs": [],
   "source": [
    "# To Solve this type problem Binomial Distribution is used:\n",
    "from scipy.stats import binom"
   ]
  },
  {
   "cell_type": "raw",
   "id": "47d88d57",
   "metadata": {},
   "source": [
    "Given:\n",
    "\n",
    "Total number of bulbs produced by factory in batch, n = 500\n",
    "Probability of success (defective bulb), p = 0.05\n",
    "        "
   ]
  },
  {
   "cell_type": "markdown",
   "id": "8141a56f",
   "metadata": {},
   "source": [
    "### a. What is the probability that exactly 20 bulbs are defective?"
   ]
  },
  {
   "cell_type": "code",
   "execution_count": 3,
   "id": "4db46d23",
   "metadata": {},
   "outputs": [
    {
     "name": "stdout",
     "output_type": "stream",
     "text": [
      "Probability of exactly 20 defective bulbs:  0.051616192536641056\n"
     ]
    }
   ],
   "source": [
    "# Probability that exactly 20 bulbs are defective:\n",
    "n = 500\n",
    "p = 0.05\n",
    "k = 20 # Number of defective bulbs\n",
    "\n",
    "p_20 = binom.pmf(k, n, p)\n",
    "\n",
    "print(\"Probability of exactly 20 defective bulbs: \", p_20)"
   ]
  },
  {
   "cell_type": "markdown",
   "id": "99ba98a2",
   "metadata": {},
   "source": [
    "### b. What is the probability that at least 10 bulbs are defective?"
   ]
  },
  {
   "cell_type": "code",
   "execution_count": 8,
   "id": "296460b7",
   "metadata": {},
   "outputs": [
    {
     "name": "stdout",
     "output_type": "stream",
     "text": [
      "Probability of at least 10 defective bulbs:  0.9998316463654902\n"
     ]
    }
   ],
   "source": [
    "# Probability of at least 10 defective bulbs:\n",
    "\n",
    "p_10_or_more = 1 - binom.cdf(9, n, p)\n",
    "\n",
    "print(\"Probability of at least 10 defective bulbs: \", p_10_or_more)"
   ]
  },
  {
   "cell_type": "markdown",
   "id": "610066ff",
   "metadata": {},
   "source": [
    "### c. What is the probability that at max 15 bulbs are defective?"
   ]
  },
  {
   "cell_type": "code",
   "execution_count": 10,
   "id": "a8a57370",
   "metadata": {},
   "outputs": [
    {
     "name": "stdout",
     "output_type": "stream",
     "text": [
      "Probability of at most 15 defective bulbs:  0.01985837716300623\n"
     ]
    }
   ],
   "source": [
    "# Probability of at most 15 defective bulbs:\n",
    "\n",
    "p_15_or_less = binom.cdf(15, n, p)\n",
    "\n",
    "print(\"Probability of at most 15 defective bulbs: \", p_15_or_less)"
   ]
  },
  {
   "cell_type": "markdown",
   "id": "610a61d3",
   "metadata": {},
   "source": [
    "### d. On average, how many defective bulbs would you expect in a batch of 500?"
   ]
  },
  {
   "cell_type": "code",
   "execution_count": 11,
   "id": "e4eed541",
   "metadata": {},
   "outputs": [
    {
     "name": "stdout",
     "output_type": "stream",
     "text": [
      "Expected number of defective bulbs in a batch of 500:  25.0\n"
     ]
    }
   ],
   "source": [
    "# d. Expected number of defective bulbs:\n",
    "\n",
    "expected_defective = n * p\n",
    "\n",
    "print(\"Expected number of defective bulbs in a batch of 500: \", expected_defective)\n"
   ]
  },
  {
   "cell_type": "code",
   "execution_count": null,
   "id": "4ce21ae5",
   "metadata": {},
   "outputs": [],
   "source": []
  }
 ],
 "metadata": {
  "kernelspec": {
   "display_name": "Python 3 (ipykernel)",
   "language": "python",
   "name": "python3"
  },
  "language_info": {
   "codemirror_mode": {
    "name": "ipython",
    "version": 3
   },
   "file_extension": ".py",
   "mimetype": "text/x-python",
   "name": "python",
   "nbconvert_exporter": "python",
   "pygments_lexer": "ipython3",
   "version": "3.9.16"
  }
 },
 "nbformat": 4,
 "nbformat_minor": 5
}
