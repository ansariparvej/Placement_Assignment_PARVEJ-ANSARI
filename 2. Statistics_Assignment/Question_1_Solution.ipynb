{
 "cells": [
  {
   "cell_type": "markdown",
   "id": "edaacf60",
   "metadata": {},
   "source": [
    "**Q-1.** A university wants to understand the relationship between the SAT scores of its\n",
    "applicants and their college GPA. They collect data on 500 students, including their SAT\n",
    "scores (out of 1600) and their college GPA (on a 4.0 scale). They find that the correlation\n",
    "coefficient between SAT scores and college GPA is 0.7. What does this correlation\n",
    "coefficient indicate about the relationship between SAT scores and college GPA?"
   ]
  },
  {
   "cell_type": "markdown",
   "id": "caca5fcd",
   "metadata": {},
   "source": [
    "**Note: =>** **SAT stands for Scholastic Aptitude Test , GPA stands for Grade Point Average [0 - 4]**"
   ]
  },
  {
   "cell_type": "markdown",
   "id": "0c8c1a51",
   "metadata": {},
   "source": [
    "## Question_1_Solution:"
   ]
  },
  {
   "cell_type": "markdown",
   "id": "47a85588",
   "metadata": {},
   "source": [
    "Correlation: The correlation coefficient provides a measure of the linear relationship between the two variables, indicating the direction and strength of the relationship."
   ]
  },
  {
   "cell_type": "markdown",
   "id": "278a0d32",
   "metadata": {},
   "source": [
    "Correlation Coefficient (r):\n",
    "The correlation coefficient is a summary measure that describes the extent of the statistical relationship between two interval or ratio level variables. The correlation coefficient is scaled so that it is always between -1 and +1. When r is close to 0 this means that there is little relationship between the variables and the farther away from 0 r is, in either the positive or negative direction, the greater the relationship between the two variables."
   ]
  },
  {
   "cell_type": "markdown",
   "id": "249b9c2e",
   "metadata": {},
   "source": [
    "Types of Correlation\n",
    "\n",
    "- Positive Correlation – when the values of the two variables move in the same direction so that an increase/decrease in the value of one variable is followed by an increase/decrease in the value of the other variable.\n",
    "- Negative Correlation – when the values of the two variables move in the opposite direction so that an increase/decrease in the value of one variable is followed by decrease/increase in the value of the other variable.\n",
    "- No Correlation – when there is no linear dependence or no relation between the two variables.\n"
   ]
  },
  {
   "cell_type": "markdown",
   "id": "bdecd445",
   "metadata": {},
   "source": [
    "# **Conclusion:**"
   ]
  },
  {
   "cell_type": "markdown",
   "id": "670cb846",
   "metadata": {},
   "source": [
    "The correlation coefficient of 0.7 indicates more positive relationship between SAT scores and college GPA."
   ]
  },
  {
   "cell_type": "markdown",
   "id": "8e36ffcf",
   "metadata": {},
   "source": [
    "This means that as SAT scores increase, college GPAs also tend to increase. Students with higher SAT scores are more likely to achieve higher college GPAs, while those with lower SAT scores are more likely to have lower college GPAs. "
   ]
  },
  {
   "cell_type": "code",
   "execution_count": null,
   "id": "d956d3a9",
   "metadata": {},
   "outputs": [],
   "source": []
  }
 ],
 "metadata": {
  "kernelspec": {
   "display_name": "Python 3 (ipykernel)",
   "language": "python",
   "name": "python3"
  },
  "language_info": {
   "codemirror_mode": {
    "name": "ipython",
    "version": 3
   },
   "file_extension": ".py",
   "mimetype": "text/x-python",
   "name": "python",
   "nbconvert_exporter": "python",
   "pygments_lexer": "ipython3",
   "version": "3.9.16"
  }
 },
 "nbformat": 4,
 "nbformat_minor": 5
}
