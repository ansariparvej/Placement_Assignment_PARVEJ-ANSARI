{
 "cells": [
  {
   "cell_type": "markdown",
   "id": "0c8c1a51",
   "metadata": {},
   "source": [
    "## Question_3_Solution:"
   ]
  },
  {
   "cell_type": "markdown",
   "id": "275a9eb4",
   "metadata": {},
   "source": [
    "**Q-3.** Consider the ‘Blood Pressure Before’ and ‘Blood Pressure After’ columns from the\n",
    "data and calculate the following:\n",
    "    \n",
    "https://drive.google.com/file/d/1mCjtYHiX--mMUjicuaP2gH3k-SnFxt8Y/view?usp=share_\n",
    "    \n",
    "- a. Measure the dispersion in both and interpret the results.\n",
    "- b. Calculate mean and 5% confidence interval and plot it in a graph\n",
    "- c. Calculate the Mean absolute deviation and Standard deviation and interpret the results.\n",
    "- d. Calculate the correlation coefficient and check the significance of it at 1% level of significance."
   ]
  },
  {
   "cell_type": "code",
   "execution_count": 30,
   "id": "3c484d79",
   "metadata": {},
   "outputs": [],
   "source": [
    "import pandas as pd \n",
    "import numpy as np\n",
    "import matplotlib.pyplot as plt\n",
    "import scipy.stats as stats"
   ]
  },
  {
   "cell_type": "code",
   "execution_count": 18,
   "id": "e3ef6bcf",
   "metadata": {},
   "outputs": [
    {
     "data": {
      "text/html": [
       "<div>\n",
       "<style scoped>\n",
       "    .dataframe tbody tr th:only-of-type {\n",
       "        vertical-align: middle;\n",
       "    }\n",
       "\n",
       "    .dataframe tbody tr th {\n",
       "        vertical-align: top;\n",
       "    }\n",
       "\n",
       "    .dataframe thead th {\n",
       "        text-align: right;\n",
       "    }\n",
       "</style>\n",
       "<table border=\"1\" class=\"dataframe\">\n",
       "  <thead>\n",
       "    <tr style=\"text-align: right;\">\n",
       "      <th></th>\n",
       "      <th>Patient ID</th>\n",
       "      <th>Blood Pressure Before (mmHg)</th>\n",
       "      <th>Blood Pressure After (mmHg)</th>\n",
       "    </tr>\n",
       "  </thead>\n",
       "  <tbody>\n",
       "    <tr>\n",
       "      <th>95</th>\n",
       "      <td>96</td>\n",
       "      <td>136</td>\n",
       "      <td>129</td>\n",
       "    </tr>\n",
       "    <tr>\n",
       "      <th>96</th>\n",
       "      <td>97</td>\n",
       "      <td>143</td>\n",
       "      <td>137</td>\n",
       "    </tr>\n",
       "    <tr>\n",
       "      <th>97</th>\n",
       "      <td>98</td>\n",
       "      <td>127</td>\n",
       "      <td>123</td>\n",
       "    </tr>\n",
       "    <tr>\n",
       "      <th>98</th>\n",
       "      <td>99</td>\n",
       "      <td>139</td>\n",
       "      <td>135</td>\n",
       "    </tr>\n",
       "    <tr>\n",
       "      <th>99</th>\n",
       "      <td>100</td>\n",
       "      <td>135</td>\n",
       "      <td>130</td>\n",
       "    </tr>\n",
       "  </tbody>\n",
       "</table>\n",
       "</div>"
      ],
      "text/plain": [
       "    Patient ID   Blood Pressure Before (mmHg)   Blood Pressure After (mmHg)\n",
       "95          96                            136                           129\n",
       "96          97                            143                           137\n",
       "97          98                            127                           123\n",
       "98          99                            139                           135\n",
       "99         100                            135                           130"
      ]
     },
     "execution_count": 18,
     "metadata": {},
     "output_type": "execute_result"
    }
   ],
   "source": [
    "df = pd.read_csv('useful/Q3.csv')\n",
    "df.tail()"
   ]
  },
  {
   "cell_type": "code",
   "execution_count": 13,
   "id": "5438a651",
   "metadata": {},
   "outputs": [
    {
     "data": {
      "text/plain": [
       "(100, 3)"
      ]
     },
     "execution_count": 13,
     "metadata": {},
     "output_type": "execute_result"
    }
   ],
   "source": [
    "df.shape"
   ]
  },
  {
   "cell_type": "code",
   "execution_count": 14,
   "id": "0341cd17",
   "metadata": {},
   "outputs": [
    {
     "data": {
      "text/plain": [
       "Index(['Patient ID', ' Blood Pressure Before (mmHg)',\n",
       "       ' Blood Pressure After (mmHg)'],\n",
       "      dtype='object')"
      ]
     },
     "execution_count": 14,
     "metadata": {},
     "output_type": "execute_result"
    }
   ],
   "source": [
    "df.columns"
   ]
  },
  {
   "cell_type": "markdown",
   "id": "5c5da1ed",
   "metadata": {},
   "source": [
    "### a. Measure the dispersion in both and interpret the results.\n"
   ]
  },
  {
   "cell_type": "markdown",
   "id": "b288a8d4",
   "metadata": {},
   "source": [
    "- Measure of Dispersion: Variance and Standard Deviation"
   ]
  },
  {
   "cell_type": "code",
   "execution_count": 15,
   "id": "3f8de5ce",
   "metadata": {},
   "outputs": [],
   "source": [
    "bp_before = df[' Blood Pressure Before (mmHg)']\n",
    "bp_after = df[' Blood Pressure After (mmHg)']"
   ]
  },
  {
   "cell_type": "code",
   "execution_count": 17,
   "id": "aef655aa",
   "metadata": {},
   "outputs": [
    {
     "name": "stdout",
     "output_type": "stream",
     "text": [
      "Variance Before: 43.10189999999998\n",
      "Standard Deviation Before: 6.5652037287505385\n",
      " \n",
      "Variance After: 46.97040000000002\n",
      "Standard Deviation After: 6.853495458523338\n"
     ]
    }
   ],
   "source": [
    "# For bp_before:\n",
    "variance_before = np.var(bp_before)\n",
    "std_deviation_before = np.std(bp_before)\n",
    "print(\"Variance Before:\", variance_before)\n",
    "print(\"Standard Deviation Before:\", std_deviation_before)\n",
    "\n",
    "print(' ')\n",
    "\n",
    "# For bp_after: \n",
    "variance_after = np.var(bp_after)\n",
    "std_deviation_after = np.std(bp_after)\n",
    "print(\"Variance After:\", variance_after)\n",
    "print(\"Standard Deviation After:\", std_deviation_after)\n"
   ]
  },
  {
   "cell_type": "markdown",
   "id": "ee0ea7d1",
   "metadata": {},
   "source": [
    "Observation: \n",
    "\n",
    "(i) Variance of Blood Pressure Before (mmHg) < Variance of Blood Pressure After (mmHg). \n",
    "\n",
    "It means of spread of data is more concentrated or stable for BP_Before than BP_After.\n",
    "\n",
    "(ii) Standard Deviation in Blood Pressure Before (mmHg) < Standard Deviation in Blood Pressure After(mmHg).\n",
    "\n",
    "It means that Deviation from mean for Values Blood Pressure Before  < Deviation from mean for Values Blood Pressure After.\n"
   ]
  },
  {
   "cell_type": "markdown",
   "id": "dc32c17e",
   "metadata": {},
   "source": [
    "### b. Calculate mean and 5% confidence interval and plot it in a graph"
   ]
  },
  {
   "cell_type": "code",
   "execution_count": 25,
   "id": "2936a2a7",
   "metadata": {},
   "outputs": [
    {
     "data": {
      "image/png": "[encoded data removed]",
      "text/plain": [
       "<Figure size 800x600 with 1 Axes>"
      ]
     },
     "metadata": {},
     "output_type": "display_data"
    }
   ],
   "source": [
    "# For ' Blood Pressure Before (mmHg)': \n",
    "bp_before = df[' Blood Pressure Before (mmHg)']\n",
    "\n",
    "# Calculate mean and standard deviation\n",
    "mean = np.mean(bp_before)\n",
    "std_dev = np.std(bp_before)\n",
    "\n",
    "# Calculate the 5% confidence interval\n",
    "confidence_interval = 1.96 * (std_dev / np.sqrt(len(bp_before)))\n",
    "\n",
    "# Plotting the data and confidence interval\n",
    "plt.figure(figsize=(8, 6))\n",
    "plt.errorbar(1, mean, yerr=confidence_interval, fmt='o', color='black', capsize=5)\n",
    "plt.xlim(0.5, 1.5)\n",
    "plt.ylim(mean - 2*confidence_interval, mean + 2*confidence_interval)\n",
    "plt.xlabel('Blood Pressure Before')\n",
    "plt.ylabel('Mean')\n",
    "plt.title('Mean with 5% Confidence Interval for Blood Pressure Before')\n",
    "plt.xticks([])  # Remove x-axis ticks if desired\n",
    "plt.grid(True)\n",
    "plt.show()\n"
   ]
  },
  {
   "cell_type": "code",
   "execution_count": 26,
   "id": "ca31493b",
   "metadata": {},
   "outputs": [
    {
     "data": {
      "image/png": "[encoded data removed]",
      "text/plain": [
       "<Figure size 800x600 with 1 Axes>"
      ]
     },
     "metadata": {},
     "output_type": "display_data"
    }
   ],
   "source": [
    "# For ' Blood Pressure After (mmHg)': \n",
    "bp_after = df[' Blood Pressure After (mmHg)']\n",
    "\n",
    "# Calculate mean and standard deviation\n",
    "mean = np.mean(bp_after)\n",
    "std_dev = np.std(bp_after)\n",
    "\n",
    "# Calculate the 5% confidence interval\n",
    "confidence_interval = 1.96 * (std_dev / np.sqrt(len(bp_after)))\n",
    "\n",
    "# Plotting the data and confidence interval\n",
    "plt.figure(figsize=(8, 6))\n",
    "plt.errorbar(1, mean, yerr=confidence_interval, fmt='o', color='black', capsize=5)\n",
    "plt.xlim(0.5, 1.5)\n",
    "plt.ylim(mean - 2*confidence_interval, mean + 2*confidence_interval)\n",
    "plt.xlabel('Blood Pressure After')\n",
    "plt.ylabel('Mean')\n",
    "plt.title('Mean with 5% Confidence Interval for Blood Pressure After')\n",
    "plt.xticks([])  # Remove x-axis ticks if desired\n",
    "plt.grid(True)\n",
    "plt.show()"
   ]
  },
  {
   "cell_type": "markdown",
   "id": "34c1c4df",
   "metadata": {},
   "source": [
    "### c. Calculate the Mean absolute deviation and Standard deviation and interpret the results.\n"
   ]
  },
  {
   "cell_type": "code",
   "execution_count": 28,
   "id": "8cd1f457",
   "metadata": {},
   "outputs": [
    {
     "name": "stdout",
     "output_type": "stream",
     "text": [
      "Mean Absolute Deviation (MAD) Before: 5.7118\n",
      "Standard Deviation (SD) Before: 6.5652037287505385\n"
     ]
    }
   ],
   "source": [
    "# For ' Blood Pressure Before (mmHg)': \n",
    "bp_before = df[' Blood Pressure Before (mmHg)']\n",
    "\n",
    "# Calculate the mean absolute deviation (MAD)\n",
    "mad = np.mean(np.abs(bp_before - np.mean(bp_before)))\n",
    "\n",
    "# Calculate the standard deviation (SD)\n",
    "sd = np.std(bp_before)\n",
    "\n",
    "# Print the results\n",
    "print(\"Mean Absolute Deviation (MAD) Before:\", mad)\n",
    "print(\"Standard Deviation (SD) Before:\", sd)"
   ]
  },
  {
   "cell_type": "code",
   "execution_count": 29,
   "id": "d60da025",
   "metadata": {},
   "outputs": [
    {
     "name": "stdout",
     "output_type": "stream",
     "text": [
      "Mean Absolute Deviation (MAD) After: 5.7118\n",
      "Standard Deviation (SD) After: 6.5652037287505385\n"
     ]
    }
   ],
   "source": [
    "# For ' Blood Pressure After (mmHg)': \n",
    "bp_after = df[' Blood Pressure Before (mmHg)']\n",
    "\n",
    "# Calculate the mean absolute deviation (MAD)\n",
    "mad = np.mean(np.abs(bp_after - np.mean(bp_after)))\n",
    "\n",
    "# Calculate the standard deviation (SD)\n",
    "sd = np.std(bp_after)\n",
    "\n",
    "# Print the results\n",
    "print(\"Mean Absolute Deviation (MAD) After:\", mad)\n",
    "print(\"Standard Deviation (SD) After:\", sd)"
   ]
  },
  {
   "cell_type": "markdown",
   "id": "d666f6f7",
   "metadata": {},
   "source": [
    "Observation:\n",
    "\n",
    "(i) BP_Before has less MAD than BP_After.\n",
    "(ii) BP_Before values has less shift from mean as compared to BP_After Values."
   ]
  },
  {
   "cell_type": "markdown",
   "id": "0fea10f8",
   "metadata": {},
   "source": [
    "### d. Calculate the correlation coefficient and check the significance of it at 1% level of significance."
   ]
  },
  {
   "cell_type": "code",
   "execution_count": 33,
   "id": "ede295af",
   "metadata": {},
   "outputs": [
    {
     "name": "stdout",
     "output_type": "stream",
     "text": [
      "Correlation Coefficient: 0.9779485966556016\n",
      " \n",
      "p-value: 1.8097381433077341e-68\n",
      " \n",
      "Significant correlation at 1% level\n"
     ]
    }
   ],
   "source": [
    "bp_before = df[' Blood Pressure Before (mmHg)']\n",
    "bp_after = df[' Blood Pressure After (mmHg)']\n",
    "\n",
    "# Calculate the correlation coefficient\n",
    "corr_coefficient, p_value = stats.pearsonr(bp_before, bp_after)\n",
    "\n",
    "# Check significance at 1% level\n",
    "alpha = 0.01\n",
    "if p_value < alpha:\n",
    "    significance = \"Significant correlation at 1% level\"\n",
    "else:\n",
    "    significance = \"No significant correlation at 1% level\"\n",
    "\n",
    "# Print the results\n",
    "print(\"Correlation Coefficient:\", corr_coefficient)\n",
    "print(' ')\n",
    "print(\"p-value:\", p_value)\n",
    "print(' ')\n",
    "print(significance)\n"
   ]
  },
  {
   "cell_type": "code",
   "execution_count": null,
   "id": "6ee6f2ac",
   "metadata": {},
   "outputs": [],
   "source": []
  }
 ],
 "metadata": {
  "kernelspec": {
   "display_name": "Python 3 (ipykernel)",
   "language": "python",
   "name": "python3"
  },
  "language_info": {
   "codemirror_mode": {
    "name": "ipython",
    "version": 3
   },
   "file_extension": ".py",
   "mimetype": "text/x-python",
   "name": "python",
   "nbconvert_exporter": "python",
   "pygments_lexer": "ipython3",
   "version": "3.9.16"
  }
 },
 "nbformat": 4,
 "nbformat_minor": 5
}
