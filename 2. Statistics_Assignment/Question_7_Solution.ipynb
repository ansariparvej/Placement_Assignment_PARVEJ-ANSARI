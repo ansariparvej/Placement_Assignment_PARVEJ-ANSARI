{
 "cells": [
  {
   "cell_type": "markdown",
   "id": "0c8c1a51",
   "metadata": {},
   "source": [
    "## Question_7_Solution:"
   ]
  },
  {
   "cell_type": "markdown",
   "id": "83efc3a9",
   "metadata": {},
   "source": [
    "**Q-7.** The equations of two lines of regression, obtained in a correlation analysis\n",
    "between variables X and Y are as follows:\n",
    "\n",
    "- 2𝑋 + 3Y − 8 = 0 , 2𝑌 + 𝑋 − 5 = 0 The variance of 𝑋 = 4 \n",
    "\n",
    "**Find**\n",
    "\n",
    "- a. Variance of Y\n",
    "- b. Coefficient of determination\n",
    "- c. Standard error of estimate of X on Y and of Y on X."
   ]
  },
  {
   "cell_type": "code",
   "execution_count": 1,
   "id": "ea7bcba7",
   "metadata": {},
   "outputs": [],
   "source": [
    "import numpy as np"
   ]
  },
  {
   "cell_type": "markdown",
   "id": "9e5e2880",
   "metadata": {},
   "source": [
    "### a. Variance of Y"
   ]
  },
  {
   "cell_type": "raw",
   "id": "d64e73ae",
   "metadata": {},
   "source": [
    "# Variance of X\n",
    "σx**2 = 4 ==> σx = 2\n",
    "\n",
    "The given equation of the lines of regression are\n",
    "x+2y−5=0.......(i)\n",
    "and 2x+3y−8=0.....(ii)\n",
    "\n",
    "Rewriting the equations (i) and (ii), we have\n",
    "\n",
    "From equation (i)\n",
    "\n",
    "y = −0.5x + 2.5 \n",
    "byx = r * σy/σx = −0.5....(iii)\n",
    "\n",
    "From eqution (ii),\n",
    "\n",
    "x = −1.5y + 4\n",
    "bxy = r * σx/σy\n",
    "\n",
    "∴r**2 = byx*bxy =(−0.5)*(−1.5) = 0.75\n",
    "\n",
    "∴ r = 0.75 = ±0.866\n",
    "\n",
    "\n",
    "But bxy and byx being both −ve therefore, r is also −ve.\n",
    "\n",
    "Correlation coefficient (r) = − 0.866\n",
    "\n",
    "Sqrt of Varianceof x \n",
    "∴ σx = 2\n",
    "\n",
    "From equation (iii)\n",
    "\n",
    "r * σy/σx = − 0.5\n",
    "\n",
    "−0.866 * σy/2 = - 0.5\n",
    "\n",
    "∴ σy = 1.1547 ==> σy**2 = 1.33337\n",
    "\n",
    "∴ Variance of Y is 1.33337\n",
    "\n",
    "var_Y = 1.33337"
   ]
  },
  {
   "cell_type": "markdown",
   "id": "f7c45b69",
   "metadata": {},
   "source": [
    "### b. Coefficient of determination "
   ]
  },
  {
   "cell_type": "code",
   "execution_count": 9,
   "id": "b5f4e144",
   "metadata": {},
   "outputs": [
    {
     "name": "stdout",
     "output_type": "stream",
     "text": [
      "Coefficient of determination (R-squared): 0.3333425\n"
     ]
    }
   ],
   "source": [
    "# Calculate the coefficient of determination (R-squared)\n",
    "var_Y = 1.33337\n",
    "var_X = 4\n",
    "R_squared = var_Y / var_X\n",
    "print(\"Coefficient of determination (R-squared):\", R_squared)"
   ]
  },
  {
   "cell_type": "markdown",
   "id": "b0cd1c3d",
   "metadata": {},
   "source": [
    "### c. Standard error of estimate of X on Y and of Y on X."
   ]
  },
  {
   "cell_type": "code",
   "execution_count": 10,
   "id": "58297b84",
   "metadata": {},
   "outputs": [
    {
     "name": "stdout",
     "output_type": "stream",
     "text": [
      "Standard error of estimate of X on Y: 1.632981934988872\n",
      "Standard error of estimate of Y on X: 0.9428155231936945\n"
     ]
    }
   ],
   "source": [
    "# Calculate the standard error of estimate of X on Y and Y on X\n",
    "se_X_on_Y = np.sqrt((1 - R_squared) * var_X)\n",
    "se_Y_on_X = np.sqrt((1 - R_squared) * var_Y)\n",
    "print(\"Standard error of estimate of X on Y:\", se_X_on_Y)\n",
    "print(\"Standard error of estimate of Y on X:\", se_Y_on_X)"
   ]
  },
  {
   "cell_type": "code",
   "execution_count": null,
   "id": "75bc982a",
   "metadata": {},
   "outputs": [],
   "source": []
  }
 ],
 "metadata": {
  "kernelspec": {
   "display_name": "Python 3 (ipykernel)",
   "language": "python",
   "name": "python3"
  },
  "language_info": {
   "codemirror_mode": {
    "name": "ipython",
    "version": 3
   },
   "file_extension": ".py",
   "mimetype": "text/x-python",
   "name": "python",
   "nbconvert_exporter": "python",
   "pygments_lexer": "ipython3",
   "version": "3.9.16"
  }
 },
 "nbformat": 4,
 "nbformat_minor": 5
}
